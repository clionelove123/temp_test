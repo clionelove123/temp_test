{
  "nbformat": 4,
  "nbformat_minor": 0,
  "metadata": {
    "colab": {
      "provenance": [],
      "authorship_tag": "ABX9TyPHptlmWDiRe5KAzwvyc4zc",
      "include_colab_link": true
    },
    "kernelspec": {
      "name": "python3",
      "display_name": "Python 3"
    },
    "language_info": {
      "name": "python"
    }
  },
  "cells": [
    {
      "cell_type": "markdown",
      "metadata": {
        "id": "view-in-github",
        "colab_type": "text"
      },
      "source": [
        "<a href=\"https://colab.research.google.com/github/clionelove123/temp_test/blob/main/Chap_3_linear_regression_modified.ipynb\" target=\"_parent\"><img src=\"https://colab.research.google.com/assets/colab-badge.svg\" alt=\"Open In Colab\"/></a>"
      ]
    },
    {
      "cell_type": "code",
      "execution_count": null,
      "metadata": {
        "colab": {
          "base_uri": "https://localhost:8080/"
        },
        "id": "C2I53Vb80CaG",
        "outputId": "975bf387-a16f-4af9-c480-da5834edaa52"
      },
      "outputs": [
        {
          "output_type": "stream",
          "name": "stdout",
          "text": [
            "2.11.0\n"
          ]
        }
      ],
      "source": [
        "# -*- coding: utf-8 -*-\n",
        "import tensorflow as tf\n",
        "\n",
        "print(tf.__version__)\n"
      ]
    },
    {
      "cell_type": "code",
      "source": [
        "@tf.function\n",
        "def linear_model(x_1,x_2,x_3):\n",
        "  return W_1*x_1 + W_2* x_2 + W_3* x_3 +b\n",
        "\n",
        "\n",
        "x_1=10\n",
        "x_2=12\n",
        "x_3=15\n",
        "\n",
        "# 선형회귀 모델(Wx + b)을 위한 tf.Variable을 선언합니다.\n",
        "W_1 = tf.Variable(tf.random.normal(shape=[1]))\n",
        "W_2 = tf.Variable(tf.random.normal(shape=[1]))\n",
        "W_3 = tf.Variable(tf.random.normal(shape=[1]))\n",
        "b = tf.Variable(tf.random.normal(shape=[1]))\n",
        "\n",
        "\n",
        "# 손실 함수를 정의합니다.\n",
        "# MSE 손실함수 \\mean{(y' - y)^2}\n",
        "@tf.function\n",
        "def mse_loss(y_pred, y):\n",
        "  return tf.reduce_mean(tf.square(y_pred - y))"
      ],
      "metadata": {
        "id": "QTmo0KBJBbMO"
      },
      "execution_count": null,
      "outputs": []
    },
    {
      "cell_type": "code",
      "source": [
        "# 트레이닝을 위한 입력값과 출력값을 준비합니다.\n",
        "\n",
        "\n",
        "x_1_train=[7.2, 9.9, 4.7, 0.5]\n",
        "x_2_train=[2.2,5.4,2.1,6.5]\n",
        "x_3_train=[4.2,7.4,1.1,9.5]\n",
        "y_train=[33.7, 38.1, 21.3, 0.6]\n",
        "\n",
        "\n"
      ],
      "metadata": {
        "id": "t3Brs9l4J7Vn"
      },
      "execution_count": null,
      "outputs": []
    },
    {
      "cell_type": "code",
      "source": [
        "y_pred = linear_model(x_1_train,x_2_train,x_3_train)\n",
        "\n",
        "loss = mse_loss(y_pred, y_train)\n",
        "\n",
        "print(\"1: \",y_pred.numpy())\n",
        "\n",
        "print(\"2: \",loss.numpy())"
      ],
      "metadata": {
        "colab": {
          "base_uri": "https://localhost:8080/"
        },
        "id": "cq4971SuNDrF",
        "outputId": "c3941fed-5f10-42ac-95e2-7356d48db531"
      },
      "execution_count": null,
      "outputs": [
        {
          "output_type": "stream",
          "name": "stdout",
          "text": [
            "1:  [-20.285732 -35.35712   -8.788162 -31.548613]\n",
            "2:  2562.3098\n"
          ]
        }
      ]
    },
    {
      "cell_type": "code",
      "source": [
        "# 최적화를 위한 그라디언트 디센트 옵티마이저를 정의합니다.\n",
        "optimizer = tf.optimizers.SGD(0.01)\n",
        "\n",
        "# 최적화를 위한 function을 정의합니다.\n",
        "@tf.function\n",
        "def train_step(x1,x2,x3, y):\n",
        "  with tf.GradientTape() as tape:\n",
        "    y_pred = linear_model(x1,x2,x3)\n",
        "    loss = mse_loss(y_pred, y)\n",
        "  gradients = tape.gradient(loss, [W_1,W_2,W_3, b])\n",
        "  optimizer.apply_gradients(zip(gradients, [W_1,W_2,W_3, b]))"
      ],
      "metadata": {
        "id": "HHtyYi4qBbfP"
      },
      "execution_count": null,
      "outputs": []
    },
    {
      "cell_type": "code",
      "source": [
        "# 경사하강법을 1000번 수행합니다.\n",
        "\n",
        "for i in range(1000):\n",
        "  train_step(x_1_train,x_2_train,x_3_train, y_train)\n",
        "  if i<10:\n",
        "    k=tf.convert_to_tensor([W_1.numpy(),W_2.numpy(),W_3.numpy(),b.numpy()])\n",
        "    print(k.numpy())\n",
        "  else:\n",
        "    if (i%100)<1:\n",
        "      k=tf.convert_to_tensor([W_1.numpy(),W_2.numpy(),W_3.numpy(),b.numpy()])\n",
        "      print(k.numpy())"
      ],
      "metadata": {
        "id": "NJWNh_Wh0Fze",
        "colab": {
          "base_uri": "https://localhost:8080/"
        },
        "outputId": "5a52c470-4fcf-48e6-86b4-f74d32c335f7"
      },
      "execution_count": null,
      "outputs": [
        {
          "output_type": "stream",
          "name": "stdout",
          "text": [
            "[[5.229497 ]\n",
            " [2.9475043]\n",
            " [2.7846   ]\n",
            " [2.6221979]]\n",
            "[[ 1.2421737]\n",
            " [-0.543067 ]\n",
            " [-2.1596558]\n",
            " [ 1.9073266]]\n",
            "[[5.009796 ]\n",
            " [1.8751214]\n",
            " [1.264189 ]\n",
            " [2.4828877]]\n",
            "[[ 2.5313115 ]\n",
            " [-0.22012615]\n",
            " [-1.6870482 ]\n",
            " [ 2.0509279 ]]\n",
            "[[4.7719393 ]\n",
            " [1.2572975 ]\n",
            " [0.41969824]\n",
            " [2.4012606 ]]\n",
            "[[ 3.2408547 ]\n",
            " [-0.00591385]\n",
            " [-1.3458245 ]\n",
            " [ 2.1412365 ]]\n",
            "[[ 4.5787473 ]\n",
            " [ 0.8921653 ]\n",
            " [-0.05235744]\n",
            " [ 2.355422  ]]\n",
            "[[ 3.6372757 ]\n",
            " [ 0.12686414]\n",
            " [-1.1097037 ]\n",
            " [ 2.1998296 ]]\n",
            "[[ 4.4387145 ]\n",
            " [ 0.66956747]\n",
            " [-0.31619674]\n",
            " [ 2.331678  ]]\n",
            "[[ 3.8618076 ]\n",
            " [ 0.20308304]\n",
            " [-0.94927394]\n",
            " [ 2.2394905 ]]\n",
            "[[ 4.165463  ]\n",
            " [-0.5692271 ]\n",
            " [-0.11787836]\n",
            " [ 2.8391223 ]]\n",
            "[[ 4.1398735 ]\n",
            " [-1.1574205 ]\n",
            " [ 0.22137806]\n",
            " [ 3.4861429 ]]\n",
            "[[ 4.108606  ]\n",
            " [-1.515505  ]\n",
            " [ 0.40903166]\n",
            " [ 4.096772  ]]\n",
            "[[ 4.077731 ]\n",
            " [-1.7584039]\n",
            " [ 0.5246907]\n",
            " [ 4.6444893]]\n",
            "[[ 4.0494947]\n",
            " [-1.9385076]\n",
            " [ 0.604019 ]\n",
            " [ 5.124426 ]]\n",
            "[[ 4.024526  ]\n",
            " [-2.0805323 ]\n",
            " [ 0.66332215]\n",
            " [ 5.5402226 ]]\n",
            "[[ 4.0027966]\n",
            " [-2.1968176]\n",
            " [ 0.7103309]\n",
            " [ 5.898421 ]]\n",
            "[[ 3.9840357]\n",
            " [-2.2940686]\n",
            " [ 0.7489363]\n",
            " [ 6.2061186]]\n",
            "[[ 3.967901 ]\n",
            " [-2.3763351]\n",
            " [ 0.7812757]\n",
            " [ 6.4700546]]\n"
          ]
        }
      ]
    },
    {
      "cell_type": "code",
      "source": [
        "# 테스트를 위한 입력값을 준비합니다.\n",
        "x_1_test = [0,10,20,30]\n",
        "x_2_test = [5,15,25,35]\n",
        "x_3_test = [12,25,31,75]\n",
        "\n",
        "print(linear_model(x_1_test,x_2_test,x_3_test).numpy())\n",
        "\n",
        "\n"
      ],
      "metadata": {
        "id": "3wtQsrge0G91",
        "colab": {
          "base_uri": "https://localhost:8080/"
        },
        "outputId": "7425576a-f25a-4c4f-f472-c58d05d21759"
      },
      "execution_count": null,
      "outputs": [
        {
          "output_type": "stream",
          "name": "stdout",
          "text": [
            "[  4.1665435  29.760616   49.69587   100.35046  ]\n"
          ]
        }
      ]
    }
  ]
}