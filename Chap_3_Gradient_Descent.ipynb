{
  "nbformat": 4,
  "nbformat_minor": 0,
  "metadata": {
    "colab": {
      "provenance": [],
      "authorship_tag": "ABX9TyP5MICrpTsrgCd09fdtKrZi",
      "include_colab_link": true
    },
    "kernelspec": {
      "name": "python3",
      "display_name": "Python 3"
    },
    "language_info": {
      "name": "python"
    }
  },
  "cells": [
    {
      "cell_type": "markdown",
      "metadata": {
        "id": "view-in-github",
        "colab_type": "text"
      },
      "source": [
        "<a href=\"https://colab.research.google.com/github/clionelove123/temp_test/blob/main/Chap_3_Gradient_Descent.ipynb\" target=\"_parent\"><img src=\"https://colab.research.google.com/assets/colab-badge.svg\" alt=\"Open In Colab\"/></a>"
      ]
    },
    {
      "cell_type": "code",
      "execution_count": null,
      "metadata": {
        "id": "rQWqp0H2S4e4"
      },
      "outputs": [],
      "source": [
        "import tensorflow as tf\n",
        "import numpy as np\n",
        "\n",
        "import math"
      ]
    },
    {
      "cell_type": "code",
      "source": [
        "hello = tf.constant('Hello, TensorFlow!')\n",
        "print(hello.numpy())\n",
        "#'Hello, TensorFlow!'\n"
      ],
      "metadata": {
        "colab": {
          "base_uri": "https://localhost:8080/"
        },
        "id": "EnYIai2C6WOe",
        "outputId": "45ba309d-dccc-4333-9e9e-bdb14cbbf024"
      },
      "execution_count": null,
      "outputs": [
        {
          "output_type": "stream",
          "name": "stdout",
          "text": [
            "b'Hello, TensorFlow!'\n"
          ]
        }
      ]
    },
    {
      "cell_type": "code",
      "source": [
        "# 그래프 노드를 정의하고 출력합니다.\n",
        "# 출력값 : <tf.Tensor: id=0, shape=(), dtype=float32, numpy=3.0>, <tf.Tensor: id=1, shape=(), dtype=float32, numpy=4.0>\n",
        "node1 = tf.constant(3.0, dtype=tf.float32)\n",
        "node2 = tf.constant(4.0) # 암시적으로 tf.float32 타입으로 선언될 것입니다.\n",
        "print(node1, node2)\n",
        "\n",
        "# 그래프를 실행합니다.\n",
        "# 출력값 : [3.0, 4.0]\n",
        "print(node1.numpy(), node2.numpy())\n",
        "\n",
        "# 두개의 노드의 값을 더하는 연산을 수행하는 node3을 정의합니다.\n",
        "# 출력값:\n",
        "# node3: <tf.Tensor: id=2, shape=(), dtype=float32, numpy=7.0>\n",
        "# node3.numpy(): 7.0\n",
        "node3 = tf.add(node1, node2)\n",
        "print(\"node3:\", node3)\n",
        "print(\"node3.numpy():\", node3.numpy())"
      ],
      "metadata": {
        "colab": {
          "base_uri": "https://localhost:8080/"
        },
        "id": "aTfsKDa8yWdx",
        "outputId": "d4eed013-52c9-47f3-a99a-f573a58132f3"
      },
      "execution_count": null,
      "outputs": [
        {
          "output_type": "stream",
          "name": "stdout",
          "text": [
            "tf.Tensor(3.0, shape=(), dtype=float32) tf.Tensor(4.0, shape=(), dtype=float32)\n",
            "3.0 4.0\n",
            "node3: tf.Tensor(7.0, shape=(), dtype=float32)\n",
            "node3.numpy(): 7.0\n"
          ]
        }
      ]
    },
    {
      "cell_type": "code",
      "source": [
        "@tf.function  # The decorator converts `add` into a `Function`.\n",
        "def add1(a, b):\n",
        "  return a + b +1\n",
        "\n",
        "z1=add1(node1,node2)\n",
        "print(z1.numpy())\n"
      ],
      "metadata": {
        "colab": {
          "base_uri": "https://localhost:8080/"
        },
        "id": "xtlqTQHFS5hA",
        "outputId": "9e33978b-032a-484a-be06-ce1892cc3fa8"
      },
      "execution_count": null,
      "outputs": [
        {
          "output_type": "stream",
          "name": "stdout",
          "text": [
            "8.0\n"
          ]
        }
      ]
    },
    {
      "cell_type": "code",
      "source": [
        "@tf.function\n",
        "def predict_model(x):\n",
        "  return tf.math.pow(x,2) * tf.math.sin(x)\n",
        "\n",
        "node_0 = tf.constant(1.3, dtype=tf.float32)\n",
        "y=predict_model(node_0)\n",
        "print(y.numpy())"
      ],
      "metadata": {
        "colab": {
          "base_uri": "https://localhost:8080/"
        },
        "id": "eljRUrUS8p2K",
        "outputId": "fbad4ed1-b683-49a3-8505-b2df207e6932"
      },
      "execution_count": null,
      "outputs": [
        {
          "output_type": "stream",
          "name": "stdout",
          "text": [
            "1.6284132\n"
          ]
        }
      ]
    },
    {
      "cell_type": "code",
      "source": [
        "@tf.function\n",
        "def model_gradient(x):\n",
        "  return (2*x * tf.math.sin(x))+ (tf.math.pow(x,2) * tf.math.cos(x))\n",
        "\n",
        "@tf.function\n",
        "def step_gradient(x,step):\n",
        "  if model_gradient(x)>0:\n",
        "    return x-step\n",
        "  else:\n",
        "    return x+step\n",
        "#    return (x+step,model_gradient(x)*step)\n",
        "#    return (x-step,model_gradient(x)*step)\n",
        "\n",
        "node_1 = tf.Variable(3, dtype=tf.float32)\n",
        "node_2 = tf.Variable(0.1, dtype=tf.float32)\n",
        "\n",
        "y=model_gradient(node_1)\n",
        "print(y.numpy())\n",
        "\n",
        "z=step_gradient(node_1,node_2)\n",
        "print(z.numpy())\n"
      ],
      "metadata": {
        "colab": {
          "base_uri": "https://localhost:8080/"
        },
        "id": "5cvtjgV4srdW",
        "outputId": "78b0313b-680c-4e6c-af49-327d03cbfb2a"
      },
      "execution_count": null,
      "outputs": [
        {
          "output_type": "stream",
          "name": "stdout",
          "text": [
            "-8.063212\n",
            "3.1\n"
          ]
        }
      ]
    },
    {
      "cell_type": "code",
      "source": [
        "step_dis_init=tf.Variable(1,dtype=tf.float32)\n",
        "step_dis=step_dis_init\n",
        "x_init=tf.Variable(2.5,dtype=tf.float32)\n",
        "x=x_init\n",
        "for i in range(200):\n",
        "  x=step_gradient(x,step_dis)\n",
        "  step_dis=step_dis * 0.9\n",
        "  k=[x.numpy(),predict_model(x).numpy(),model_gradient(x).numpy(),step_dis.numpy()]\n",
        "#  print(k)\n",
        "  if i<21:\n",
        "    print(k)\n",
        "  if (i%20)<1:\n",
        "    print(k)"
      ],
      "metadata": {
        "colab": {
          "base_uri": "https://localhost:8080/"
        },
        "id": "tasJrSx7s0Ra",
        "outputId": "f0b87e19-dfa7-4baf-f611-69e899c9a507"
      },
      "execution_count": null,
      "outputs": [
        {
          "output_type": "stream",
          "name": "stdout",
          "text": [
            "[3.5, -4.2970943, -13.927076, 0.9]\n",
            "[3.5, -4.2970943, -13.927076, 0.9]\n",
            "[4.4, -18.423018, -14.324062, 0.80999994]\n",
            "[5.21, -23.85221, 3.800311, 0.7289999]\n",
            "[4.481, -19.544222, -13.327948, 0.6560999]\n",
            "[5.1370997, -24.04527, 1.5126867, 0.5904899]\n",
            "[4.54661, -20.388254, -12.3798065, 0.5314409]\n",
            "[5.0780506, -24.081778, -0.26421165, 0.47829682]\n",
            "[5.5563474, -20.515415, 15.6862545, 0.43046713]\n",
            "[5.1258802, -24.060314, 1.1696072, 0.38742042]\n",
            "[4.7384596, -22.44537, -8.888402, 0.34867835]\n",
            "[5.087138, -24.08296, 0.004542351, 0.3138105]\n",
            "[4.773328, -22.742365, -8.141324, 0.28242943]\n",
            "[5.055757, -24.068604, -0.91599655, 0.25418648]\n",
            "[5.3099437, -23.309612, 7.0838184, 0.22876783]\n",
            "[5.081176, -24.08246, -0.17198563, 0.20589104]\n",
            "[5.287067, -23.462902, 6.318718, 0.18530193]\n",
            "[5.101765, -24.079708, 0.44077206, 0.16677174]\n",
            "[4.9349933, -23.753239, -4.249775, 0.15009457]\n",
            "[5.085088, -24.082907, -0.056248665, 0.1350851]\n",
            "[5.220173, -23.81189, 4.127166, 0.12157659]\n",
            "[5.098596, -24.080954, 0.34587955, 0.10941893]\n",
            "[5.098596, -24.080954, 0.34587955, 0.10941893]\n",
            "[5.0884686, -24.082926, 0.04403305, 0.01330278]\n",
            "[5.0868387, -24.08296, -0.0043411255, 0.0016173065]\n",
            "[5.0869646, -24.08296, -0.00060749054, 0.00019662663]\n",
            "[5.0869827, -24.082962, -7.05719e-05, 2.3905195e-05]\n",
            "[5.086985, -24.08296, 0.0, 2.9063117e-06]\n",
            "[5.0869856, -24.08296, 1.5258789e-05, 3.5333943e-07]\n",
            "[5.0869856, -24.08296, 1.5258789e-05, 4.29578e-08]\n",
            "[5.0869856, -24.08296, 1.5258789e-05, 5.2226627e-09]\n"
          ]
        }
      ]
    }
  ]
}