{
  "nbformat": 4,
  "nbformat_minor": 0,
  "metadata": {
    "colab": {
      "provenance": [],
      "gpuType": "T4",
      "authorship_tag": "ABX9TyNdcDXPR8z6TLjDjyoEebIT",
      "include_colab_link": true
    },
    "kernelspec": {
      "name": "python3",
      "display_name": "Python 3"
    },
    "language_info": {
      "name": "python"
    },
    "accelerator": "GPU",
    "gpuClass": "standard"
  },
  "cells": [
    {
      "cell_type": "markdown",
      "metadata": {
        "id": "view-in-github",
        "colab_type": "text"
      },
      "source": [
        "<a href=\"https://colab.research.google.com/github/clionelove123/temp_test/blob/main/Chap_01_Introduction_to_Pytorch.ipynb\" target=\"_parent\"><img src=\"https://colab.research.google.com/assets/colab-badge.svg\" alt=\"Open In Colab\"/></a>"
      ]
    },
    {
      "cell_type": "code",
      "execution_count": 1,
      "metadata": {
        "colab": {
          "base_uri": "https://localhost:8080/"
        },
        "id": "IDfyaBd1gMU2",
        "outputId": "84d79c17-f694-4317-b704-e5e46b5d152d"
      },
      "outputs": [
        {
          "output_type": "stream",
          "name": "stdout",
          "text": [
            "Hello World!\n"
          ]
        }
      ],
      "source": [
        "# Pytorch Tutorial (reference - https://github.com/GunhoChoi/PyTorch-FastCampus)\n",
        "\n",
        "# 1. Hello World!\n",
        "print(\"Hello World!\")"
      ]
    },
    {
      "cell_type": "code",
      "source": [
        "# 2. Variables and Types\n",
        "a = 2\n",
        "print(a,type(a),end=\"\\n\\n\")\n",
        "\n",
        "b = 2.0\n",
        "print(b,type(b),end=\"\\n\\n\")\n",
        "\n",
        "c = \"Pytorch\"\n",
        "print(c,type(c),end=\"\\n\\n\")\n",
        "\n",
        "d = a+b\n",
        "print(d,type(d),end=\"\\n\\n\")\n",
        "\n",
        "e = str(a)+\" \"+c\n",
        "print(e,type(e),end=\"\\n\\n\")"
      ],
      "metadata": {
        "colab": {
          "base_uri": "https://localhost:8080/"
        },
        "id": "dWpEROlCgQcT",
        "outputId": "ac711707-c785-49a7-8f20-371c28aaa679"
      },
      "execution_count": 2,
      "outputs": [
        {
          "output_type": "stream",
          "name": "stdout",
          "text": [
            "2 <class 'int'>\n",
            "\n",
            "2.0 <class 'float'>\n",
            "\n",
            "Pytorch <class 'str'>\n",
            "\n",
            "4.0 <class 'float'>\n",
            "\n",
            "2 Pytorch <class 'str'>\n",
            "\n"
          ]
        }
      ]
    },
    {
      "cell_type": "code",
      "source": [
        "# 3. Arithmetic Operations\n",
        "a=1\n",
        "b=2\n",
        "c=3\n",
        "\n",
        "print(a+b)\n",
        "print(a-b)\n",
        "print(b*c)\n",
        "print(b/c)\n",
        "print(c//b)\n",
        "print(b**c)"
      ],
      "metadata": {
        "colab": {
          "base_uri": "https://localhost:8080/"
        },
        "id": "f6yMGNKggQen",
        "outputId": "b62d7cfc-e948-431d-de95-1a8cd9c4472a"
      },
      "execution_count": 3,
      "outputs": [
        {
          "output_type": "stream",
          "name": "stdout",
          "text": [
            "3\n",
            "-1\n",
            "6\n",
            "0.6666666666666666\n",
            "1\n",
            "8\n"
          ]
        }
      ]
    },
    {
      "cell_type": "code",
      "source": [
        "# 4. List\n",
        "list_1 = [1,2,3]\n",
        "print(list_1)\n",
        "\n",
        "list_1.append(4)\n",
        "print(list_1)\n",
        "\n",
        "list_1.append(\"abc\")\n",
        "print(list_1)\n",
        "\n",
        "# index\n",
        "print(list_1[:-1])\n",
        "\n",
        "del list_1[-1]\n",
        "print(list_1)\n",
        "\n",
        "list_1.pop()\n",
        "print(list_1)"
      ],
      "metadata": {
        "colab": {
          "base_uri": "https://localhost:8080/"
        },
        "id": "sjGIUTaugQgy",
        "outputId": "fab746f1-3d4a-4ac5-82dd-e9f6622a0775"
      },
      "execution_count": 4,
      "outputs": [
        {
          "output_type": "stream",
          "name": "stdout",
          "text": [
            "[1, 2, 3]\n",
            "[1, 2, 3, 4]\n",
            "[1, 2, 3, 4, 'abc']\n",
            "[1, 2, 3, 4]\n",
            "[1, 2, 3, 4]\n",
            "[1, 2, 3]\n"
          ]
        }
      ]
    },
    {
      "cell_type": "code",
      "source": [
        "# 5. Dictionary\n",
        "dict_1 = {\n",
        "    \"python\": 0,\n",
        "    \"java\":1,\n",
        "    \"c++\":2,\n",
        "    \"ruby\":3,\n",
        "    \"html\":4,\n",
        "    \"key\":\"value\",\n",
        "}\n",
        "\n",
        "print(dict_1)\n",
        "print(dict_1[\"c++\"])\n",
        "\n",
        "del dict_1[\"key\"]\n",
        "print(dict_1)\n",
        "\n",
        "dict_1[\"pytorch\"]=5\n",
        "print(dict_1)"
      ],
      "metadata": {
        "colab": {
          "base_uri": "https://localhost:8080/"
        },
        "id": "k2pUhTMsgThE",
        "outputId": "80f8a05b-ccca-4b29-e737-ca5d1c9aafe2"
      },
      "execution_count": 5,
      "outputs": [
        {
          "output_type": "stream",
          "name": "stdout",
          "text": [
            "{'python': 0, 'java': 1, 'c++': 2, 'ruby': 3, 'html': 4, 'key': 'value'}\n",
            "2\n",
            "{'python': 0, 'java': 1, 'c++': 2, 'ruby': 3, 'html': 4}\n",
            "{'python': 0, 'java': 1, 'c++': 2, 'ruby': 3, 'html': 4, 'pytorch': 5}\n"
          ]
        }
      ]
    },
    {
      "cell_type": "code",
      "source": [
        "# 6. Loop\n",
        "for i in range(5):\n",
        "    print(i)\n",
        "\n",
        "print(\"\\n\")\n",
        "for i in range(0,-5,-1):\n",
        "    print(i)\n",
        "\n",
        "\n",
        "print(list_1)\n",
        "for i in list_1:\n",
        "    print(i)\n",
        "\n",
        "print(\"\\n\")\n",
        "print(dict_1)\n",
        "for key in dict_1:\n",
        "    print(key,dict_1[key])\n",
        "\n",
        "a=0\n",
        "while(a<10):\n",
        "    print(a)\n",
        "    a+=1"
      ],
      "metadata": {
        "colab": {
          "base_uri": "https://localhost:8080/"
        },
        "id": "B3_rM48vgTjf",
        "outputId": "35e98971-859e-4d53-91e8-b939c30569f3"
      },
      "execution_count": 6,
      "outputs": [
        {
          "output_type": "stream",
          "name": "stdout",
          "text": [
            "0\n",
            "1\n",
            "2\n",
            "3\n",
            "4\n",
            "\n",
            "\n",
            "0\n",
            "-1\n",
            "-2\n",
            "-3\n",
            "-4\n",
            "[1, 2, 3]\n",
            "1\n",
            "2\n",
            "3\n",
            "\n",
            "\n",
            "{'python': 0, 'java': 1, 'c++': 2, 'ruby': 3, 'html': 4, 'pytorch': 5}\n",
            "python 0\n",
            "java 1\n",
            "c++ 2\n",
            "ruby 3\n",
            "html 4\n",
            "pytorch 5\n",
            "0\n",
            "1\n",
            "2\n",
            "3\n",
            "4\n",
            "5\n",
            "6\n",
            "7\n",
            "8\n",
            "9\n"
          ]
        }
      ]
    },
    {
      "cell_type": "code",
      "source": [
        "# 7. Condition\n",
        "\n",
        "print(2==2)\n",
        "print(2==3)\n",
        "print(2!=2)\n",
        "print(2!=3)\n",
        "\n",
        "print(dict_1)\n",
        "for key in dict_1:\n",
        "    if key==\"ruby\":\n",
        "        print(dict_1[key])\n",
        "    else:\n",
        "        print(\"not ruby\")"
      ],
      "metadata": {
        "colab": {
          "base_uri": "https://localhost:8080/"
        },
        "id": "OkDs8BSIgTl1",
        "outputId": "da9324c0-7cd5-4060-e8f5-f6a76c5127f5"
      },
      "execution_count": 7,
      "outputs": [
        {
          "output_type": "stream",
          "name": "stdout",
          "text": [
            "True\n",
            "False\n",
            "False\n",
            "True\n",
            "{'python': 0, 'java': 1, 'c++': 2, 'ruby': 3, 'html': 4, 'pytorch': 5}\n",
            "not ruby\n",
            "not ruby\n",
            "not ruby\n",
            "3\n",
            "not ruby\n",
            "not ruby\n"
          ]
        }
      ]
    },
    {
      "cell_type": "code",
      "source": [
        "# 8. Function\n",
        "def factorial(num):\n",
        "    result = 1\n",
        "    for i in range(1,num+1):\n",
        "        result = result*i\n",
        "    return result\n",
        "\n",
        "print(factorial(5))\n"
      ],
      "metadata": {
        "colab": {
          "base_uri": "https://localhost:8080/"
        },
        "id": "pLhHJcYIgToV",
        "outputId": "d37d9965-70d8-4a17-8f91-1f3b34cbcf9d"
      },
      "execution_count": 8,
      "outputs": [
        {
          "output_type": "stream",
          "name": "stdout",
          "text": [
            "120\n"
          ]
        }
      ]
    },
    {
      "cell_type": "code",
      "source": [
        "# 9. Class and Objects\n",
        "class Jedi(object):\n",
        "    def __init__(self,name,droid):\n",
        "        self.name = name\n",
        "        self.droid = droid\n",
        "        self.exp = 0\n",
        "        \n",
        "    def train(self):\n",
        "        self.exp += 10\n",
        "\n",
        "anakin = Jedi(\"Anakin Skywalker\",\"R2D2\")\n",
        "anakin.train()\n",
        "\n",
        "print(anakin.name)\n",
        "print(anakin.droid)\n",
        "print(anakin.exp)"
      ],
      "metadata": {
        "colab": {
          "base_uri": "https://localhost:8080/"
        },
        "id": "EUz_9L6ggTqo",
        "outputId": "b5aced8c-0efe-4636-fee5-ad0ac1ef1722"
      },
      "execution_count": 9,
      "outputs": [
        {
          "output_type": "stream",
          "name": "stdout",
          "text": [
            "Anakin Skywalker\n",
            "R2D2\n",
            "10\n"
          ]
        }
      ]
    },
    {
      "cell_type": "code",
      "source": [
        "# 1. Create Tensor\n",
        "# 1) random numbers\n",
        "import torch\n",
        "\n",
        "# torch.rand(sizes) -> [0,1)\n",
        "x = torch.rand(2,3)\n",
        "x\n",
        "\n",
        "# torch.randn(sizes) -> Z(0,1)\n",
        "x = torch.randn(2,3)\n",
        "x\n",
        "\n",
        "# torch.randperm(n) -> permutation of 0~n\n",
        "x = torch.randperm(5)\n",
        "x"
      ],
      "metadata": {
        "colab": {
          "base_uri": "https://localhost:8080/"
        },
        "id": "Ab0Qv4fvgQi-",
        "outputId": "b64acd33-72de-44d1-8307-ed2be2b2ca89"
      },
      "execution_count": 10,
      "outputs": [
        {
          "output_type": "execute_result",
          "data": {
            "text/plain": [
              "tensor([0, 3, 2, 1, 4])"
            ]
          },
          "metadata": {},
          "execution_count": 10
        }
      ]
    },
    {
      "cell_type": "code",
      "source": [
        "# 2) zeros, ones, arange\n",
        "# torch.zeros(2,3) -> [[0,0,0],[0,0,0]]\n",
        "x = torch.zeros(2,3)\n",
        "x\n",
        "\n",
        "# torch.ones(2,3) -> [[0,0,0],[0,0,0]]\n",
        "x = torch.ones(2,3)\n",
        "x\n",
        "\n",
        "# torch.arange(start,end,step=1) -> [start,end) with step\n",
        "x = torch.arange(0,3,step=0.5)\n",
        "x"
      ],
      "metadata": {
        "colab": {
          "base_uri": "https://localhost:8080/"
        },
        "id": "3YSjXv3TgQlQ",
        "outputId": "b9996f7d-8415-4136-ef66-ff06d02bf41f"
      },
      "execution_count": 11,
      "outputs": [
        {
          "output_type": "execute_result",
          "data": {
            "text/plain": [
              "tensor([0.0000, 0.5000, 1.0000, 1.5000, 2.0000, 2.5000])"
            ]
          },
          "metadata": {},
          "execution_count": 11
        }
      ]
    },
    {
      "cell_type": "code",
      "source": [
        "# 3) Tensor Data Type\n",
        "# torch.FloatTensor(size or list)\n",
        "x = torch.FloatTensor(2,3)\n",
        "x\n",
        "\n",
        "# torch.FloatTensor(size or list)\n",
        "x = torch.FloatTensor([2,3])\n",
        "x\n",
        "\n",
        "# tensor.type_as(tensor_type)\n",
        "x = x.type_as(torch.IntTensor())\n",
        "x"
      ],
      "metadata": {
        "colab": {
          "base_uri": "https://localhost:8080/"
        },
        "id": "ynqeOAu1hQaD",
        "outputId": "55607b43-6f99-4ef3-cf4b-4dce31c0feb6"
      },
      "execution_count": 12,
      "outputs": [
        {
          "output_type": "execute_result",
          "data": {
            "text/plain": [
              "tensor([2, 3], dtype=torch.int32)"
            ]
          },
          "metadata": {},
          "execution_count": 12
        }
      ]
    },
    {
      "cell_type": "code",
      "source": [
        "# 4) Numpy to Tensor, Tensor to Numpy\n",
        "import numpy as np\n",
        "\n",
        "# torch.from_numpy(ndarray) -> tensor\n",
        "\n",
        "x1 = np.ndarray(shape=(2,3), dtype=int,buffer=np.array([1,2,3,4,5,6]))\n",
        "x2 = torch.from_numpy(x1)\n",
        "\n",
        "x2"
      ],
      "metadata": {
        "colab": {
          "base_uri": "https://localhost:8080/"
        },
        "id": "46IMVNQBhQcT",
        "outputId": "737251ce-b96d-4b53-8f19-4b2319393dd2"
      },
      "execution_count": 13,
      "outputs": [
        {
          "output_type": "execute_result",
          "data": {
            "text/plain": [
              "tensor([[1, 2, 3],\n",
              "        [4, 5, 6]])"
            ]
          },
          "metadata": {},
          "execution_count": 13
        }
      ]
    },
    {
      "cell_type": "code",
      "source": [
        "# tensor.numpy() -> ndarray\n",
        "x3 = x2.numpy()\n",
        "x3"
      ],
      "metadata": {
        "colab": {
          "base_uri": "https://localhost:8080/"
        },
        "id": "5rX2bs8ZhQeq",
        "outputId": "6967e4f4-f3f7-43e3-9f65-32debc08b8aa"
      },
      "execution_count": 14,
      "outputs": [
        {
          "output_type": "execute_result",
          "data": {
            "text/plain": [
              "array([[1, 2, 3],\n",
              "       [4, 5, 6]])"
            ]
          },
          "metadata": {},
          "execution_count": 14
        }
      ]
    },
    {
      "cell_type": "code",
      "source": [
        "# 5) Tensor Size\n",
        "# tensor.size() -> indexing also possible\n",
        "\n",
        "x = torch.FloatTensor(10,12,3,3)\n",
        "\n",
        "x.size()[:]"
      ],
      "metadata": {
        "colab": {
          "base_uri": "https://localhost:8080/"
        },
        "id": "aHAMROGBhQhB",
        "outputId": "a8b07814-0fca-4938-c149-3b04d8058634"
      },
      "execution_count": 15,
      "outputs": [
        {
          "output_type": "execute_result",
          "data": {
            "text/plain": [
              "torch.Size([10, 12, 3, 3])"
            ]
          },
          "metadata": {},
          "execution_count": 15
        }
      ]
    },
    {
      "cell_type": "code",
      "source": [
        "# 2. Indexing, Slicing, Joining\n",
        "# 1) Indexing\n",
        "# torch.index_select(input, dim, index)\n",
        "\n",
        "x = torch.rand(4,3)\n",
        "out = torch.index_select(x,0,torch.LongTensor([0,3]))\n",
        "\n",
        "x,out"
      ],
      "metadata": {
        "colab": {
          "base_uri": "https://localhost:8080/"
        },
        "id": "Gy6xbcEYhQjR",
        "outputId": "41ac6cad-4358-4523-cebd-0451c8fe25ad"
      },
      "execution_count": 16,
      "outputs": [
        {
          "output_type": "execute_result",
          "data": {
            "text/plain": [
              "(tensor([[0.1983, 0.6842, 0.4393],\n",
              "         [0.4426, 0.5025, 0.7378],\n",
              "         [0.6388, 0.6165, 0.8146],\n",
              "         [0.5219, 0.9894, 0.2873]]),\n",
              " tensor([[0.1983, 0.6842, 0.4393],\n",
              "         [0.5219, 0.9894, 0.2873]]))"
            ]
          },
          "metadata": {},
          "execution_count": 16
        }
      ]
    },
    {
      "cell_type": "code",
      "source": [
        "# pythonic indexing also works\n",
        "\n",
        "x[:,0],x[0,:],x[0:2,0:2]"
      ],
      "metadata": {
        "colab": {
          "base_uri": "https://localhost:8080/"
        },
        "id": "5h1yOjYIhQls",
        "outputId": "68845d46-b93b-4f58-c0e6-010ac54c2ce2"
      },
      "execution_count": 17,
      "outputs": [
        {
          "output_type": "execute_result",
          "data": {
            "text/plain": [
              "(tensor([0.1983, 0.4426, 0.6388, 0.5219]),\n",
              " tensor([0.1983, 0.6842, 0.4393]),\n",
              " tensor([[0.1983, 0.6842],\n",
              "         [0.4426, 0.5025]]))"
            ]
          },
          "metadata": {},
          "execution_count": 17
        }
      ]
    },
    {
      "cell_type": "code",
      "source": [
        "# torch.masked_select(input, mask)\n",
        "\n",
        "x = torch.randn(2,3)\n",
        "mask = torch.ByteTensor([[0,0,1],[0,1,0]])\n",
        "out = torch.masked_select(x,mask)\n",
        "\n",
        "x, mask, out"
      ],
      "metadata": {
        "colab": {
          "base_uri": "https://localhost:8080/"
        },
        "id": "a_Qtnq0BhQpU",
        "outputId": "fb3f0a49-ff65-41d7-d1e6-f99b18e29958"
      },
      "execution_count": 18,
      "outputs": [
        {
          "output_type": "stream",
          "name": "stderr",
          "text": [
            "<ipython-input-18-0672fe6d8568>:5: UserWarning: masked_select received a mask with dtype torch.uint8, this behavior is now deprecated,please use a mask with dtype torch.bool instead. (Triggered internally at ../aten/src/ATen/native/TensorAdvancedIndexing.cpp:1855.)\n",
            "  out = torch.masked_select(x,mask)\n"
          ]
        },
        {
          "output_type": "execute_result",
          "data": {
            "text/plain": [
              "(tensor([[-0.6715,  0.3081, -0.4824],\n",
              "         [-1.0169,  0.6840, -1.1993]]),\n",
              " tensor([[0, 0, 1],\n",
              "         [0, 1, 0]], dtype=torch.uint8),\n",
              " tensor([-0.4824,  0.6840]))"
            ]
          },
          "metadata": {},
          "execution_count": 18
        }
      ]
    },
    {
      "cell_type": "code",
      "source": [
        "# 2) Joining\n",
        "# torch.cat(seq, dim=0) -> concatenate tensor along dim\n",
        "\n",
        "x = torch.FloatTensor([[1,2,3],[4,5,6]])\n",
        "y = torch.FloatTensor([[-1,-2,-3],[-4,-5,-6]])\n",
        "z1 = torch.cat([x,y],dim=0)\n",
        "z2 = torch.cat([x,y],dim=1)\n",
        "\n",
        "x,y,z1,z2"
      ],
      "metadata": {
        "colab": {
          "base_uri": "https://localhost:8080/"
        },
        "id": "oeaLGiKWhQrl",
        "outputId": "47fa4054-28c7-49bb-af65-4c00e12db531"
      },
      "execution_count": 19,
      "outputs": [
        {
          "output_type": "execute_result",
          "data": {
            "text/plain": [
              "(tensor([[1., 2., 3.],\n",
              "         [4., 5., 6.]]),\n",
              " tensor([[-1., -2., -3.],\n",
              "         [-4., -5., -6.]]),\n",
              " tensor([[ 1.,  2.,  3.],\n",
              "         [ 4.,  5.,  6.],\n",
              "         [-1., -2., -3.],\n",
              "         [-4., -5., -6.]]),\n",
              " tensor([[ 1.,  2.,  3., -1., -2., -3.],\n",
              "         [ 4.,  5.,  6., -4., -5., -6.]]))"
            ]
          },
          "metadata": {},
          "execution_count": 19
        }
      ]
    },
    {
      "cell_type": "code",
      "source": [
        "# torch.stack(sequence,dim=0) -> stack along new dim\n",
        "\n",
        "x = torch.FloatTensor([[1,2,3],[4,5,6]])\n",
        "x_stack = torch.stack([x,x,x,x],dim=0)\n",
        "\n",
        "x_stack"
      ],
      "metadata": {
        "colab": {
          "base_uri": "https://localhost:8080/"
        },
        "id": "IWIlpxPlhxg_",
        "outputId": "768b25fb-6683-49b0-8cb1-2465b84f06e0"
      },
      "execution_count": 20,
      "outputs": [
        {
          "output_type": "execute_result",
          "data": {
            "text/plain": [
              "tensor([[[1., 2., 3.],\n",
              "         [4., 5., 6.]],\n",
              "\n",
              "        [[1., 2., 3.],\n",
              "         [4., 5., 6.]],\n",
              "\n",
              "        [[1., 2., 3.],\n",
              "         [4., 5., 6.]],\n",
              "\n",
              "        [[1., 2., 3.],\n",
              "         [4., 5., 6.]]])"
            ]
          },
          "metadata": {},
          "execution_count": 20
        }
      ]
    },
    {
      "cell_type": "code",
      "source": [
        "# 3) Slicing\n",
        "# torch.chunk(tensor, chunks, dim=0) -> tensor into num chunks\n",
        "\n",
        "x_1, x_2 = torch.chunk(z1,2,dim=0)\n",
        "y_1, y_2, y_3 = torch.chunk(z1,3,dim=1)\n",
        "\n",
        "z1,x_1,x_2,z1,y_1,y_2,y_3"
      ],
      "metadata": {
        "colab": {
          "base_uri": "https://localhost:8080/"
        },
        "id": "PJ1Nbu9mhxjW",
        "outputId": "87b42b28-4209-42f6-9061-bc3d3a11cd61"
      },
      "execution_count": 21,
      "outputs": [
        {
          "output_type": "execute_result",
          "data": {
            "text/plain": [
              "(tensor([[ 1.,  2.,  3.],\n",
              "         [ 4.,  5.,  6.],\n",
              "         [-1., -2., -3.],\n",
              "         [-4., -5., -6.]]),\n",
              " tensor([[1., 2., 3.],\n",
              "         [4., 5., 6.]]),\n",
              " tensor([[-1., -2., -3.],\n",
              "         [-4., -5., -6.]]),\n",
              " tensor([[ 1.,  2.,  3.],\n",
              "         [ 4.,  5.,  6.],\n",
              "         [-1., -2., -3.],\n",
              "         [-4., -5., -6.]]),\n",
              " tensor([[ 1.],\n",
              "         [ 4.],\n",
              "         [-1.],\n",
              "         [-4.]]),\n",
              " tensor([[ 2.],\n",
              "         [ 5.],\n",
              "         [-2.],\n",
              "         [-5.]]),\n",
              " tensor([[ 3.],\n",
              "         [ 6.],\n",
              "         [-3.],\n",
              "         [-6.]]))"
            ]
          },
          "metadata": {},
          "execution_count": 21
        }
      ]
    },
    {
      "cell_type": "code",
      "source": [
        "# torch.split(tensor,split_size,dim=0) -> split into specific size\n",
        "\n",
        "x1,x2 = torch.split(z1,2,dim=0)\n",
        "y1 = torch.split(z1,2,dim=1) \n",
        "\n",
        "z1,x1,x2,y1"
      ],
      "metadata": {
        "colab": {
          "base_uri": "https://localhost:8080/"
        },
        "id": "MtrQn0hihxlp",
        "outputId": "a4251fe5-6a76-48f2-e63b-a9e53115cabe"
      },
      "execution_count": 22,
      "outputs": [
        {
          "output_type": "execute_result",
          "data": {
            "text/plain": [
              "(tensor([[ 1.,  2.,  3.],\n",
              "         [ 4.,  5.,  6.],\n",
              "         [-1., -2., -3.],\n",
              "         [-4., -5., -6.]]),\n",
              " tensor([[1., 2., 3.],\n",
              "         [4., 5., 6.]]),\n",
              " tensor([[-1., -2., -3.],\n",
              "         [-4., -5., -6.]]),\n",
              " (tensor([[ 1.,  2.],\n",
              "          [ 4.,  5.],\n",
              "          [-1., -2.],\n",
              "          [-4., -5.]]),\n",
              "  tensor([[ 3.],\n",
              "          [ 6.],\n",
              "          [-3.],\n",
              "          [-6.]])))"
            ]
          },
          "metadata": {},
          "execution_count": 22
        }
      ]
    },
    {
      "cell_type": "code",
      "source": [
        "# 4) squeezing\n",
        "# torch.squeeze(input,dim=None) -> reduce dim by 1\n",
        "\n",
        "x1 = torch.FloatTensor(10,1,3,1,4)\n",
        "x2 = torch.squeeze(x1)\n",
        "\n",
        "x1.size(),x2.size()"
      ],
      "metadata": {
        "colab": {
          "base_uri": "https://localhost:8080/"
        },
        "id": "BMRifSkOhxoC",
        "outputId": "e65e7a63-8aca-4b09-9d2e-1d79dfe972a2"
      },
      "execution_count": 23,
      "outputs": [
        {
          "output_type": "execute_result",
          "data": {
            "text/plain": [
              "(torch.Size([10, 1, 3, 1, 4]), torch.Size([10, 3, 4]))"
            ]
          },
          "metadata": {},
          "execution_count": 23
        }
      ]
    },
    {
      "cell_type": "code",
      "source": [
        "# torch.unsqueeze(input,dim=None) -> add dim by 1\n",
        "\n",
        "x1 = torch.FloatTensor(10,3,4)\n",
        "x2 = torch.unsqueeze(x1,dim=0)\n",
        "\n",
        "x1.size(),x2.size()"
      ],
      "metadata": {
        "colab": {
          "base_uri": "https://localhost:8080/"
        },
        "id": "Qghewjboh2HY",
        "outputId": "21a4104f-1fec-42be-dde5-3b975ee2a676"
      },
      "execution_count": 24,
      "outputs": [
        {
          "output_type": "execute_result",
          "data": {
            "text/plain": [
              "(torch.Size([10, 3, 4]), torch.Size([1, 10, 3, 4]))"
            ]
          },
          "metadata": {},
          "execution_count": 24
        }
      ]
    },
    {
      "cell_type": "code",
      "source": [
        "# 3. Initialization\n",
        "import torch.nn.init as init\n",
        "\n",
        "x1 = init.uniform(torch.FloatTensor(3,4),a=0,b=9) \n",
        "x2 = init.normal(torch.FloatTensor(3,4),std=0.2)\n",
        "x3 = init.constant(torch.FloatTensor(3,4),3.1415)\n",
        "\n",
        "x1,x2,x3"
      ],
      "metadata": {
        "colab": {
          "base_uri": "https://localhost:8080/"
        },
        "id": "BHyw_tFbh2Ju",
        "outputId": "894cb787-621b-4a1e-9e90-09a5b0410f0e"
      },
      "execution_count": 25,
      "outputs": [
        {
          "output_type": "stream",
          "name": "stderr",
          "text": [
            "<ipython-input-25-a21abc297f1c>:4: UserWarning: nn.init.uniform is now deprecated in favor of nn.init.uniform_.\n",
            "  x1 = init.uniform(torch.FloatTensor(3,4),a=0,b=9)\n",
            "<ipython-input-25-a21abc297f1c>:5: UserWarning: nn.init.normal is now deprecated in favor of nn.init.normal_.\n",
            "  x2 = init.normal(torch.FloatTensor(3,4),std=0.2)\n",
            "<ipython-input-25-a21abc297f1c>:6: UserWarning: nn.init.constant is now deprecated in favor of nn.init.constant_.\n",
            "  x3 = init.constant(torch.FloatTensor(3,4),3.1415)\n"
          ]
        },
        {
          "output_type": "execute_result",
          "data": {
            "text/plain": [
              "(tensor([[5.5719, 2.4182, 1.7198, 8.8860],\n",
              "         [0.1632, 0.7380, 3.7046, 0.6786],\n",
              "         [2.3794, 5.1846, 7.4282, 4.3600]]),\n",
              " tensor([[ 0.1870, -0.2559,  0.1840, -0.1535],\n",
              "         [ 0.1381,  0.2436,  0.3475, -0.3286],\n",
              "         [ 0.3347, -0.1882,  0.0044,  0.3419]]),\n",
              " tensor([[3.1415, 3.1415, 3.1415, 3.1415],\n",
              "         [3.1415, 3.1415, 3.1415, 3.1415],\n",
              "         [3.1415, 3.1415, 3.1415, 3.1415]]))"
            ]
          },
          "metadata": {},
          "execution_count": 25
        }
      ]
    },
    {
      "cell_type": "code",
      "source": [
        "# 4. Math Operations\n",
        "# 1) Arithmetic operations\n",
        "# torch.add()\n",
        "\n",
        "x1 = torch.FloatTensor([[1,2,3],[4,5,6]])\n",
        "x2 = torch.FloatTensor([[1,2,3],[4,5,6]])\n",
        "add = torch.add(x1,x2)\n",
        "\n",
        "print(\"1:\",x1,\" \\n\",x2,\" \\n\",add,\" \\n\",x1+x2,\" \\n\",x1-x2)\n",
        "\n",
        "# torch.add() broadcasting\n",
        "\n",
        "x1 = torch.FloatTensor([[1,2,3],[4,5,6]])\n",
        "x2 = torch.add(x1,10)\n",
        "\n",
        "print(\"2:\",x1,\" \\n\",x2,\" \\n\",x1+10,\" \\n\",x2-10)\n",
        "\n",
        "# torch.mul() -> size better match\n",
        "\n",
        "x1 = torch.FloatTensor([[1,2,3],[4,5,6]])\n",
        "x2 = torch.FloatTensor([[1,2,3],[4,5,6]])\n",
        "x3 = torch.mul(x1,x2)\n",
        "\n",
        "print(\"3:\",x1,\" \\n\",x2,\" \\n\",x3)\n",
        "\n",
        "# torch.mul() -> broadcasting\n",
        "\n",
        "x1 = torch.FloatTensor([[1,2,3],[4,5,6]])\n",
        "x2 = x1*10\n",
        "\n",
        "print(\"4:\",x1,\" \\n\",x2)\n",
        "\n",
        "# torch.div() -> broadcasting\n",
        "\n",
        "x1 = torch.FloatTensor([[1,2,3],[4,5,6]])\n",
        "\n",
        "print(\"5:\",x1,\" \\n\",x1/5)"
      ],
      "metadata": {
        "colab": {
          "base_uri": "https://localhost:8080/"
        },
        "id": "TuKmnhoah2L4",
        "outputId": "a4f72c5a-9f1d-4971-d0c2-e70f025e9772"
      },
      "execution_count": 26,
      "outputs": [
        {
          "output_type": "stream",
          "name": "stdout",
          "text": [
            "1: tensor([[1., 2., 3.],\n",
            "        [4., 5., 6.]])  \n",
            " tensor([[1., 2., 3.],\n",
            "        [4., 5., 6.]])  \n",
            " tensor([[ 2.,  4.,  6.],\n",
            "        [ 8., 10., 12.]])  \n",
            " tensor([[ 2.,  4.,  6.],\n",
            "        [ 8., 10., 12.]])  \n",
            " tensor([[0., 0., 0.],\n",
            "        [0., 0., 0.]])\n",
            "2: tensor([[1., 2., 3.],\n",
            "        [4., 5., 6.]])  \n",
            " tensor([[11., 12., 13.],\n",
            "        [14., 15., 16.]])  \n",
            " tensor([[11., 12., 13.],\n",
            "        [14., 15., 16.]])  \n",
            " tensor([[1., 2., 3.],\n",
            "        [4., 5., 6.]])\n",
            "3: tensor([[1., 2., 3.],\n",
            "        [4., 5., 6.]])  \n",
            " tensor([[1., 2., 3.],\n",
            "        [4., 5., 6.]])  \n",
            " tensor([[ 1.,  4.,  9.],\n",
            "        [16., 25., 36.]])\n",
            "4: tensor([[1., 2., 3.],\n",
            "        [4., 5., 6.]])  \n",
            " tensor([[10., 20., 30.],\n",
            "        [40., 50., 60.]])\n",
            "5: tensor([[1., 2., 3.],\n",
            "        [4., 5., 6.]])  \n",
            " tensor([[0.2000, 0.4000, 0.6000],\n",
            "        [0.8000, 1.0000, 1.2000]])\n"
          ]
        }
      ]
    },
    {
      "cell_type": "code",
      "source": [
        "# 2) Other Math Operations\n",
        "# torch.pow(input,exponent)\n",
        "\n",
        "x1 = torch.rand(3,4)\n",
        "print(\"1: \", x1,\"\\n\",torch.pow(x1,2),\"\\n\",x1**2)\n",
        "\n",
        "# torch.exp(tensor,out=None) \n",
        "\n",
        "x1 = torch.rand(3,4)\n",
        "print(\"2: \",x1,\"\\n\",torch.exp(x1))\n",
        "\n",
        "# torch.log(input, out=None) -> natural logarithm\n",
        "\n",
        "x1 = torch.rand(3,4)\n",
        "print(\"3: \",x1,\"\\n\",torch.log(x1))"
      ],
      "metadata": {
        "colab": {
          "base_uri": "https://localhost:8080/"
        },
        "id": "LoljGtmSh2OG",
        "outputId": "3a2cc518-b88f-4af2-a090-edc08b08fef3"
      },
      "execution_count": 27,
      "outputs": [
        {
          "output_type": "stream",
          "name": "stdout",
          "text": [
            "1:  tensor([[0.4176, 0.7183, 0.4903, 0.4450],\n",
            "        [0.4809, 0.2831, 0.5603, 0.6927],\n",
            "        [0.7693, 0.7175, 0.6362, 0.8070]]) \n",
            " tensor([[0.1744, 0.5160, 0.2404, 0.1980],\n",
            "        [0.2312, 0.0801, 0.3140, 0.4799],\n",
            "        [0.5919, 0.5148, 0.4048, 0.6513]]) \n",
            " tensor([[0.1744, 0.5160, 0.2404, 0.1980],\n",
            "        [0.2312, 0.0801, 0.3140, 0.4799],\n",
            "        [0.5919, 0.5148, 0.4048, 0.6513]])\n",
            "2:  tensor([[0.5695, 0.8921, 0.8312, 0.9589],\n",
            "        [0.8265, 0.7983, 0.6999, 0.8085],\n",
            "        [0.6671, 0.5425, 0.1671, 0.1005]]) \n",
            " tensor([[1.7674, 2.4404, 2.2961, 2.6089],\n",
            "        [2.2853, 2.2218, 2.0135, 2.2446],\n",
            "        [1.9485, 1.7204, 1.1818, 1.1057]])\n",
            "3:  tensor([[0.6112, 0.3205, 0.7528, 0.8620],\n",
            "        [0.8151, 0.0948, 0.8275, 0.4687],\n",
            "        [0.7674, 0.6661, 0.3318, 0.4688]]) \n",
            " tensor([[-0.4924, -1.1380, -0.2840, -0.1485],\n",
            "        [-0.2044, -2.3563, -0.1894, -0.7577],\n",
            "        [-0.2648, -0.4063, -1.1032, -0.7577]])\n"
          ]
        }
      ]
    },
    {
      "cell_type": "code",
      "source": [
        "# 3) Matrix operations\n",
        "# torch.mm(mat1, mat2) -> matrix multiplication\n",
        "\n",
        "\n",
        "x1 = torch.rand(4,3)\n",
        "x2 = torch.rand(3,5)\n",
        "\n",
        "print(\"1: \",x1,\"\\n\",x2,\"\\n\",torch.mm(x1,x2))\n",
        "\n",
        "# torch.bmm(batch1, batch2) -> batch matrix multiplication\n",
        "\n",
        "x1 = torch.FloatTensor(10,3,4)\n",
        "x2 = torch.FloatTensor(10,4,5)\n",
        "\n",
        "print(\"2: \",torch.bmm(x1,x2).size())\n",
        "\n",
        "# torch.dot(tensor1,tensor2) -> dot product of two tensor\n",
        "\n",
        "x1 = torch.rand(4)\n",
        "x2 = torch.rand(4)\n",
        "\n",
        "print(\"3: \",x1,\"\\n\",x2,\"\\n\",torch.dot(x1,x2))\n",
        "\n",
        "# torch.t(matrix) -> transposed matrix\n",
        "\n",
        "x1 = torch.FloatTensor(3,4)\n",
        "\n",
        "print(\"4: \",x1,\"\\n\",x1.t())\n",
        "\n",
        "# torch.transpose(input,dim0,dim1) -> transposed matrix\n",
        "\n",
        "x1 = torch.FloatTensor(10,3,4)\n",
        "\n",
        "print(\"5: \",x1.size(),\"\\n\", torch.transpose(x1,1,2).size(),\"\\n\", x1.transpose(1,2).size())\n",
        "\n",
        "# torch.eig(a,eigenvectors=False) -> eigen_value, eigen_vector\n",
        "x1 = torch.rand(4,4)\n",
        "\n",
        "print(\"6: \",x1,\"\\n\",torch.linalg.eig(x1))"
      ],
      "metadata": {
        "colab": {
          "base_uri": "https://localhost:8080/"
        },
        "id": "APDEnh80h2Qa",
        "outputId": "42345767-0038-4ab0-8957-4dd5898f7216"
      },
      "execution_count": 28,
      "outputs": [
        {
          "output_type": "stream",
          "name": "stdout",
          "text": [
            "1:  tensor([[0.8986, 0.0124, 0.9570],\n",
            "        [0.6027, 0.0111, 0.2603],\n",
            "        [0.8406, 0.2045, 0.5141],\n",
            "        [0.2383, 0.4980, 0.7315]]) \n",
            " tensor([[0.0738, 0.0849, 0.7851, 0.0912, 0.7439],\n",
            "        [0.1965, 0.0641, 0.2870, 0.8354, 0.4750],\n",
            "        [0.7352, 0.7523, 0.0221, 0.2097, 0.6997]]) \n",
            " tensor([[0.7724, 0.7970, 0.7302, 0.2930, 1.3439],\n",
            "        [0.2380, 0.2477, 0.4821, 0.1189, 0.6358],\n",
            "        [0.4802, 0.4712, 0.7300, 0.3554, 1.0822],\n",
            "        [0.6533, 0.6024, 0.3461, 0.5912, 0.9256]])\n",
            "2:  torch.Size([10, 3, 5])\n",
            "3:  tensor([0.3702, 0.6427, 0.2973, 0.8505]) \n",
            " tensor([0.2877, 0.7927, 0.1267, 0.3084]) \n",
            " tensor(0.9159)\n",
            "4:  tensor([[-7.0374e-30,  4.5680e-41,  9.4428e-35,  0.0000e+00],\n",
            "        [ 4.4842e-44,  0.0000e+00,  1.1210e-43,  0.0000e+00],\n",
            "        [ 9.4437e-35,  0.0000e+00,  0.0000e+00,  0.0000e+00]]) \n",
            " tensor([[-7.0374e-30,  4.4842e-44,  9.4437e-35],\n",
            "        [ 4.5680e-41,  0.0000e+00,  0.0000e+00],\n",
            "        [ 9.4428e-35,  1.1210e-43,  0.0000e+00],\n",
            "        [ 0.0000e+00,  0.0000e+00,  0.0000e+00]])\n",
            "5:  torch.Size([10, 3, 4]) \n",
            " torch.Size([10, 4, 3]) \n",
            " torch.Size([10, 4, 3])\n",
            "6:  tensor([[0.2708, 0.1055, 0.6774, 0.2427],\n",
            "        [0.2853, 0.5472, 0.5866, 0.6322],\n",
            "        [0.1221, 0.6204, 0.1551, 0.9123],\n",
            "        [0.1097, 0.3791, 0.3593, 0.4857]]) \n",
            " torch.return_types.linalg_eig(\n",
            "eigenvalues=tensor([ 1.6458+0.0000j,  0.0503+0.1055j,  0.0503-0.1055j, -0.2876+0.0000j]),\n",
            "eigenvectors=tensor([[ 0.3868+0.0000j,  0.8149+0.0000j,  0.8149-0.0000j,  0.7212+0.0000j],\n",
            "        [ 0.6247+0.0000j,  0.0721-0.4293j,  0.0721+0.4293j,  0.1033+0.0000j],\n",
            "        [ 0.5416+0.0000j, -0.2249+0.1027j, -0.2249-0.1027j, -0.6668+0.0000j],\n",
            "        [ 0.4084+0.0000j, -0.1441+0.2541j, -0.1441-0.2541j,  0.1568+0.0000j]]))\n"
          ]
        }
      ]
    },
    {
      "cell_type": "code",
      "source": [],
      "metadata": {
        "id": "ERQmQIuw7Raw"
      },
      "execution_count": 28,
      "outputs": []
    },
    {
      "cell_type": "code",
      "source": [
        "# 1.Import Required Libraries\n",
        "\n",
        "import torch\n",
        "from torch.autograd import Variable"
      ],
      "metadata": {
        "id": "-deOMpfxhxqV"
      },
      "execution_count": 29,
      "outputs": []
    },
    {
      "cell_type": "code",
      "source": [
        "# 2. Tensor vs Variable\n",
        "# 1) Declaration\n",
        "x_tensor = torch.Tensor(3,4)\n",
        "x_tensor"
      ],
      "metadata": {
        "colab": {
          "base_uri": "https://localhost:8080/"
        },
        "id": "FZDRpq4ghxsx",
        "outputId": "b9689a7b-c972-4258-b00b-8e7e2abde53d"
      },
      "execution_count": 30,
      "outputs": [
        {
          "output_type": "execute_result",
          "data": {
            "text/plain": [
              "tensor([[1.2139e-37, 0.0000e+00, 0.0000e+00, 0.0000e+00],\n",
              "        [1.4013e-45, 0.0000e+00, 9.4067e-35, 0.0000e+00],\n",
              "        [7.1218e+08, 4.5680e-41, 9.4067e-35, 0.0000e+00]])"
            ]
          },
          "metadata": {},
          "execution_count": 30
        }
      ]
    },
    {
      "cell_type": "code",
      "source": [
        "x_variable = Variable(x_tensor)\n",
        "x_variable"
      ],
      "metadata": {
        "colab": {
          "base_uri": "https://localhost:8080/"
        },
        "id": "ATANnvTv7SUX",
        "outputId": "d40265b5-3726-4b62-d22a-5880e7b086ab"
      },
      "execution_count": 31,
      "outputs": [
        {
          "output_type": "execute_result",
          "data": {
            "text/plain": [
              "tensor([[1.2139e-37, 0.0000e+00, 0.0000e+00, 0.0000e+00],\n",
              "        [1.4013e-45, 0.0000e+00, 9.4067e-35, 0.0000e+00],\n",
              "        [7.1218e+08, 4.5680e-41, 9.4067e-35, 0.0000e+00]])"
            ]
          },
          "metadata": {},
          "execution_count": 31
        }
      ]
    },
    {
      "cell_type": "code",
      "source": [
        "# 2) Variables of a Variable\n",
        "# .data -> wrapped tensor \n",
        "x_variable.data"
      ],
      "metadata": {
        "colab": {
          "base_uri": "https://localhost:8080/"
        },
        "id": "yZd0HfWo7TCu",
        "outputId": "e9cf81a8-5d64-4ae7-c763-ccb722d11332"
      },
      "execution_count": 32,
      "outputs": [
        {
          "output_type": "execute_result",
          "data": {
            "text/plain": [
              "tensor([[1.2139e-37, 0.0000e+00, 0.0000e+00, 0.0000e+00],\n",
              "        [1.4013e-45, 0.0000e+00, 9.4067e-35, 0.0000e+00],\n",
              "        [7.1218e+08, 4.5680e-41, 9.4067e-35, 0.0000e+00]])"
            ]
          },
          "metadata": {},
          "execution_count": 32
        }
      ]
    },
    {
      "cell_type": "code",
      "source": [
        "# .grad -> gradient of the variable\n",
        "print(x_variable.grad)"
      ],
      "metadata": {
        "colab": {
          "base_uri": "https://localhost:8080/"
        },
        "id": "pBY16LY-7TE_",
        "outputId": "632ee5fd-70e7-4d26-fecd-a772220a64cc"
      },
      "execution_count": 33,
      "outputs": [
        {
          "output_type": "stream",
          "name": "stdout",
          "text": [
            "None\n"
          ]
        }
      ]
    },
    {
      "cell_type": "code",
      "source": [
        "# .requires_grad -> whether variable requres gradient\n",
        "print(x_variable.requires_grad)\n",
        "\n",
        "x_variable = Variable(x_tensor,requires_grad=True)\n",
        "x_variable.requires_grad"
      ],
      "metadata": {
        "colab": {
          "base_uri": "https://localhost:8080/"
        },
        "id": "zdStQdz67THj",
        "outputId": "557c1177-5262-4610-d846-5503b67c7e0b"
      },
      "execution_count": 34,
      "outputs": [
        {
          "output_type": "stream",
          "name": "stdout",
          "text": [
            "False\n"
          ]
        },
        {
          "output_type": "execute_result",
          "data": {
            "text/plain": [
              "True"
            ]
          },
          "metadata": {},
          "execution_count": 34
        }
      ]
    },
    {
      "cell_type": "code",
      "source": [
        "# .volatile -> inference mode with minimal memory usage\n",
        "# single volatile variable makes whole graph not requiring gradient\n",
        "\n",
        "x_variable = Variable(x_tensor,volatile=True)\n",
        "x_variable.grad, x_variable.requires_grad, x_variable.volatile"
      ],
      "metadata": {
        "colab": {
          "base_uri": "https://localhost:8080/"
        },
        "id": "RsCbWgjR7TJ8",
        "outputId": "062d7f7c-2d7e-4e78-cb0b-773a5ab3873a"
      },
      "execution_count": 35,
      "outputs": [
        {
          "output_type": "stream",
          "name": "stderr",
          "text": [
            "<ipython-input-35-e6ef0bcb7d2c>:4: UserWarning: volatile was removed and now has no effect. Use `with torch.no_grad():` instead.\n",
            "  x_variable = Variable(x_tensor,volatile=True)\n",
            "<ipython-input-35-e6ef0bcb7d2c>:5: UserWarning: volatile was removed (Variable.volatile is always False)\n",
            "  x_variable.grad, x_variable.requires_grad, x_variable.volatile\n"
          ]
        },
        {
          "output_type": "execute_result",
          "data": {
            "text/plain": [
              "(None, False, False)"
            ]
          },
          "metadata": {},
          "execution_count": 35
        }
      ]
    },
    {
      "cell_type": "code",
      "source": [
        "# 3. Graph & Variables\n",
        "\n",
        "# create graph\n",
        "\n",
        "x = Variable(torch.FloatTensor(3,4),requires_grad=True)\n",
        "y = x**2 + 4*x\n",
        "z = 2*y +3\n",
        "\n",
        "x.requires_grad,y.requires_grad,z.requires_grad"
      ],
      "metadata": {
        "colab": {
          "base_uri": "https://localhost:8080/"
        },
        "id": "iJg7khUt7TMW",
        "outputId": "f47f37c4-2562-434e-c83a-bba362a419b3"
      },
      "execution_count": 36,
      "outputs": [
        {
          "output_type": "execute_result",
          "data": {
            "text/plain": [
              "(True, True, True)"
            ]
          },
          "metadata": {},
          "execution_count": 36
        }
      ]
    },
    {
      "cell_type": "code",
      "source": [
        "# .backward(gradient,retain_graph,create_graph,retain_variables)\n",
        "# compute gradient of current variable w.r.t. graph leaves\n",
        "\n",
        "loss = torch.FloatTensor(3,4)\n",
        "z.backward(loss)\n",
        "\n",
        "print(x.grad)\n",
        "y.grad,z.grad"
      ],
      "metadata": {
        "colab": {
          "base_uri": "https://localhost:8080/"
        },
        "id": "NPnOF93B7TO6",
        "outputId": "eecdadab-04dd-48c2-a963-e16e98983a0e"
      },
      "execution_count": 37,
      "outputs": [
        {
          "output_type": "stream",
          "name": "stdout",
          "text": [
            "tensor([[-5.6300e-29,  3.6544e-40,  7.5230e-34,  0.0000e+00],\n",
            "        [ 0.0000e+00,  0.0000e+00,  0.0000e+00,  0.0000e+00],\n",
            "        [ 0.0000e+00,  1.9063e+00,  6.1642e+32,  5.7718e+23]])\n"
          ]
        },
        {
          "output_type": "stream",
          "name": "stderr",
          "text": [
            "<ipython-input-37-353e1b0fe3a2>:8: UserWarning: The .grad attribute of a Tensor that is not a leaf Tensor is being accessed. Its .grad attribute won't be populated during autograd.backward(). If you indeed want the .grad field to be populated for a non-leaf Tensor, use .retain_grad() on the non-leaf Tensor. If you access the non-leaf Tensor by mistake, make sure you access the leaf Tensor instead. See github.com/pytorch/pytorch/pull/30531 for more informations. (Triggered internally at aten/src/ATen/core/TensorBody.h:486.)\n",
            "  y.grad,z.grad\n"
          ]
        },
        {
          "output_type": "execute_result",
          "data": {
            "text/plain": [
              "(None, None)"
            ]
          },
          "metadata": {},
          "execution_count": 37
        }
      ]
    },
    {
      "cell_type": "code",
      "source": [],
      "metadata": {
        "id": "88BoB6PD7TRW"
      },
      "execution_count": 37,
      "outputs": []
    }
  ]
}