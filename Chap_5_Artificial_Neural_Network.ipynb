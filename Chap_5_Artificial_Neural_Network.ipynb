{
  "nbformat": 4,
  "nbformat_minor": 0,
  "metadata": {
    "colab": {
      "provenance": [],
      "authorship_tag": "ABX9TyOY28K6rHZLrBueGC2BcTql",
      "include_colab_link": true
    },
    "kernelspec": {
      "name": "python3",
      "display_name": "Python 3"
    },
    "language_info": {
      "name": "python"
    }
  },
  "cells": [
    {
      "cell_type": "markdown",
      "metadata": {
        "id": "view-in-github",
        "colab_type": "text"
      },
      "source": [
        "<a href=\"https://colab.research.google.com/github/clionelove123/temp_test/blob/main/Chap_5_Artificial_Neural_Network.ipynb\" target=\"_parent\"><img src=\"https://colab.research.google.com/assets/colab-badge.svg\" alt=\"Open In Colab\"/></a>"
      ]
    },
    {
      "cell_type": "code",
      "execution_count": null,
      "metadata": {
        "id": "CAf7_AvMy0b1"
      },
      "outputs": [],
      "source": [
        "# -*- coding: utf-8 -*-\n",
        "# 텐서플로우를 이용한 ANN(Artificial Neural Networks) 구현\n",
        "\n",
        "import tensorflow as tf"
      ]
    },
    {
      "cell_type": "code",
      "source": [
        "# MNIST 데이터를 다운로드 합니다.\n",
        "(x_train, y_train), (x_test, y_test) = tf.keras.datasets.mnist.load_data()\n",
        "# 이미지들을 float32 데이터 타입으로 변경합니다.\n",
        "x_train, x_test = x_train.astype('float32'), x_test.astype('float32')\n",
        "# 28*28 형태의 이미지를 784차원으로 flattening 합니다.\n",
        "x_train, x_test = x_train.reshape([-1, 784]), x_test.reshape([-1, 784])\n",
        "# [0, 255] 사이의 값을 [0, 1]사이의 값으로 Normalize합니다.\n",
        "x_train, x_test = x_train / 255., x_test / 255.\n",
        "# 레이블 데이터에 one-hot encoding을 적용합니다.\n",
        "y_train, y_test = tf.one_hot(y_train, depth=10), tf.one_hot(y_test, depth=10)"
      ],
      "metadata": {
        "id": "uAYkjbk9zNq3"
      },
      "execution_count": null,
      "outputs": []
    },
    {
      "cell_type": "code",
      "source": [
        "# 학습을 위한 설정값들을 정의합니다.\n",
        "learning_rate = 0.001\n",
        "num_epochs = 50     # 학습횟수\n",
        "batch_size = 256    # 배치개수\n",
        "display_step = 1    # 손실함수 출력 주기\n",
        "input_size = 784    # 28 * 28\n",
        "hidden1_size = 256\n",
        "hidden2_size = 256\n",
        "output_size = 10"
      ],
      "metadata": {
        "id": "Hx9Z5GLtzQd5"
      },
      "execution_count": null,
      "outputs": []
    },
    {
      "cell_type": "code",
      "source": [
        "# tf.data API를 이용해서 데이터를 섞고 batch 형태로 가져옵니다.\n",
        "train_data = tf.data.Dataset.from_tensor_slices((x_train, y_train))\n",
        "train_data = train_data.shuffle(60000).batch(batch_size)\n",
        "\n",
        "# ANN 모델을 정의합니다.\n",
        "class ANN(object):\n",
        "  # ANN 모델을 위한 tf.Variable들을 정의합니다.\n",
        "  def __init__(self):\n",
        "    self.W1 = tf.Variable(tf.random.normal(shape=[input_size, hidden1_size]))\n",
        "    self.b1 = tf.Variable(tf.random.normal(shape=[hidden1_size]))\n",
        "    self.W2 = tf.Variable(tf.random.normal(shape=[hidden1_size, hidden2_size]))\n",
        "    self.b2 = tf.Variable(tf.random.normal(shape=[hidden2_size]))\n",
        "    self.W_output = tf.Variable(tf.random.normal(shape=[hidden2_size, output_size]))\n",
        "    self.b_output = tf.Variable(tf.random.normal(shape=[output_size]))\n",
        "\n",
        "  def __call__(self, x):\n",
        "    H1_output = tf.nn.relu(tf.matmul(x, self.W1) + self.b1)\n",
        "    H2_output = tf.nn.relu(tf.matmul(H1_output, self.W2) + self.b2)\n",
        "    logits = tf.matmul(H2_output, self.W_output) + self.b_output\n",
        "\n",
        "    return logits"
      ],
      "metadata": {
        "id": "4PtX1nRzzSiu"
      },
      "execution_count": null,
      "outputs": []
    },
    {
      "cell_type": "code",
      "source": [
        "# cross-entropy 손실 함수를 정의합니다.\n",
        "@tf.function\n",
        "def cross_entropy_loss(logits, y):\n",
        "  return tf.reduce_mean(tf.nn.softmax_cross_entropy_with_logits(logits=logits, labels=y))\n",
        "\n",
        "# 최적화를 위한 Adam 옵티마이저를 정의합니다.\n",
        "optimizer = tf.optimizers.Adam(learning_rate)\n",
        "\n",
        "# 최적화를 위한 function을 정의합니다.\n",
        "@tf.function\n",
        "def train_step(model, x, y):\n",
        "  with tf.GradientTape() as tape:\n",
        "    y_pred = model(x)\n",
        "    loss = cross_entropy_loss(y_pred, y)\n",
        "  gradients = tape.gradient(loss, vars(model).values())\n",
        "  optimizer.apply_gradients(zip(gradients, vars(model).values()))\n",
        "\n",
        "# 모델의 정확도를 출력하는 함수를 정의합니다.\n",
        "@tf.function\n",
        "def compute_accuracy(y_pred, y):\n",
        "  correct_prediction = tf.equal(tf.argmax(y_pred,1), tf.argmax(y,1))\n",
        "  accuracy = tf.reduce_mean(tf.cast(correct_prediction, tf.float32))\n",
        "\n",
        "  return accuracy"
      ],
      "metadata": {
        "id": "CpwzIKfLzbJJ"
      },
      "execution_count": null,
      "outputs": []
    },
    {
      "cell_type": "code",
      "source": [
        "# ANN 모델을 선언합니다.\n",
        "ANN_model = ANN()\n",
        "\n",
        "# 지정된 횟수만큼 최적화를 수행합니다.\n",
        "for epoch in range(num_epochs):\n",
        "  average_loss = 0.\n",
        "  total_batch = int(x_train.shape[0] / batch_size)\n",
        "  # 모든 배치들에 대해서 최적화를 수행합니다.\n",
        "  for batch_x, batch_y in train_data:\n",
        "    # 옵티마이저를 실행해서 파라마터들을 업데이트합니다.\n",
        "    _, current_loss = train_step(ANN_model, batch_x, batch_y), cross_entropy_loss(ANN_model(batch_x), batch_y)\n",
        "    # 평균 손실을 측정합니다.\n",
        "    average_loss += current_loss / total_batch\n",
        "  # 지정된 epoch마다 학습결과를 출력합니다.\n",
        "  if epoch % display_step == 0:\n",
        "    print(\"반복(Epoch): %d\" % (epoch+1), \"정확도 (Accuracy): %f\" % compute_accuracy(ANN_model(batch_x), batch_y), \"손실 함수(Loss): %f\" % average_loss)\n",
        "    print(\"Test데이터 - 정확도(Accuracy): %f\" % compute_accuracy(ANN_model(x_test), y_test),\" / 손실(loss): %f\" % cross_entropy_loss(ANN_model(x_test), y_test)) # 정확도: 약 94%\n"
      ],
      "metadata": {
        "colab": {
          "base_uri": "https://localhost:8080/"
        },
        "id": "QaWV-Pl-zdL3",
        "outputId": "260205e9-f387-4df2-a19c-e86e6393139e"
      },
      "execution_count": null,
      "outputs": [
        {
          "output_type": "stream",
          "name": "stdout",
          "text": [
            "반복(Epoch): 1 정확도 (Accuracy): 0.760417 손실 함수(Loss): 281.867645\n",
            "Test데이터 - 정확도(Accuracy): 0.798000  / 손실(loss): 82.672173\n",
            "반복(Epoch): 2 정확도 (Accuracy): 0.802083 손실 함수(Loss): 60.784351\n",
            "Test데이터 - 정확도(Accuracy): 0.859900  / 손실(loss): 50.925350\n",
            "반복(Epoch): 3 정확도 (Accuracy): 0.885417 손실 함수(Loss): 38.882629\n",
            "Test데이터 - 정확도(Accuracy): 0.882400  / 손실(loss): 39.262642\n",
            "반복(Epoch): 4 정확도 (Accuracy): 0.885417 손실 함수(Loss): 28.550945\n",
            "Test데이터 - 정확도(Accuracy): 0.899500  / 손실(loss): 32.599354\n",
            "반복(Epoch): 5 정확도 (Accuracy): 0.916667 손실 함수(Loss): 22.191895\n",
            "Test데이터 - 정확도(Accuracy): 0.906600  / 손실(loss): 28.604021\n",
            "반복(Epoch): 6 정확도 (Accuracy): 0.916667 손실 함수(Loss): 17.753979\n",
            "Test데이터 - 정확도(Accuracy): 0.913600  / 손실(loss): 25.543058\n",
            "반복(Epoch): 7 정확도 (Accuracy): 0.968750 손실 함수(Loss): 14.406864\n",
            "Test데이터 - 정확도(Accuracy): 0.920000  / 손실(loss): 23.476322\n",
            "반복(Epoch): 8 정확도 (Accuracy): 0.937500 손실 함수(Loss): 11.705971\n",
            "Test데이터 - 정확도(Accuracy): 0.920300  / 손실(loss): 21.844490\n",
            "반복(Epoch): 9 정확도 (Accuracy): 0.958333 손실 함수(Loss): 9.657858\n",
            "Test데이터 - 정확도(Accuracy): 0.925900  / 손실(loss): 20.469278\n",
            "반복(Epoch): 10 정확도 (Accuracy): 0.979167 손실 함수(Loss): 8.019532\n",
            "Test데이터 - 정확도(Accuracy): 0.926300  / 손실(loss): 19.274376\n",
            "반복(Epoch): 11 정확도 (Accuracy): 0.989583 손실 함수(Loss): 6.620808\n",
            "Test데이터 - 정확도(Accuracy): 0.927600  / 손실(loss): 18.126959\n",
            "반복(Epoch): 12 정확도 (Accuracy): 0.958333 손실 함수(Loss): 5.465954\n",
            "Test데이터 - 정확도(Accuracy): 0.929800  / 손실(loss): 17.768663\n",
            "반복(Epoch): 13 정확도 (Accuracy): 0.958333 손실 함수(Loss): 4.510418\n",
            "Test데이터 - 정확도(Accuracy): 0.930300  / 손실(loss): 17.365406\n",
            "반복(Epoch): 14 정확도 (Accuracy): 0.968750 손실 함수(Loss): 3.675817\n",
            "Test데이터 - 정확도(Accuracy): 0.933300  / 손실(loss): 16.840612\n",
            "반복(Epoch): 15 정확도 (Accuracy): 0.979167 손실 함수(Loss): 3.016396\n",
            "Test데이터 - 정확도(Accuracy): 0.935600  / 손실(loss): 16.230213\n",
            "반복(Epoch): 16 정확도 (Accuracy): 0.989583 손실 함수(Loss): 2.474231\n",
            "Test데이터 - 정확도(Accuracy): 0.934800  / 손실(loss): 15.882585\n",
            "반복(Epoch): 17 정확도 (Accuracy): 0.979167 손실 함수(Loss): 1.933600\n",
            "Test데이터 - 정확도(Accuracy): 0.934900  / 손실(loss): 15.991044\n",
            "반복(Epoch): 18 정확도 (Accuracy): 0.979167 손실 함수(Loss): 1.550240\n",
            "Test데이터 - 정확도(Accuracy): 0.934500  / 손실(loss): 15.515527\n",
            "반복(Epoch): 19 정확도 (Accuracy): 0.989583 손실 함수(Loss): 1.222427\n",
            "Test데이터 - 정확도(Accuracy): 0.937300  / 손실(loss): 15.138003\n",
            "반복(Epoch): 20 정확도 (Accuracy): 0.979167 손실 함수(Loss): 0.968096\n",
            "Test데이터 - 정확도(Accuracy): 0.935900  / 손실(loss): 15.364456\n",
            "반복(Epoch): 21 정확도 (Accuracy): 1.000000 손실 함수(Loss): 0.748929\n",
            "Test데이터 - 정확도(Accuracy): 0.936800  / 손실(loss): 14.909260\n",
            "반복(Epoch): 22 정확도 (Accuracy): 1.000000 손실 함수(Loss): 0.620975\n",
            "Test데이터 - 정확도(Accuracy): 0.938200  / 손실(loss): 14.679469\n",
            "반복(Epoch): 23 정확도 (Accuracy): 1.000000 손실 함수(Loss): 0.470762\n",
            "Test데이터 - 정확도(Accuracy): 0.937500  / 손실(loss): 14.497461\n",
            "반복(Epoch): 24 정확도 (Accuracy): 1.000000 손실 함수(Loss): 0.353412\n",
            "Test데이터 - 정확도(Accuracy): 0.939700  / 손실(loss): 14.210155\n",
            "반복(Epoch): 25 정확도 (Accuracy): 1.000000 손실 함수(Loss): 0.292206\n",
            "Test데이터 - 정확도(Accuracy): 0.938800  / 손실(loss): 14.284708\n",
            "반복(Epoch): 26 정확도 (Accuracy): 0.989583 손실 함수(Loss): 0.193188\n",
            "Test데이터 - 정확도(Accuracy): 0.940400  / 손실(loss): 13.896217\n",
            "반복(Epoch): 27 정확도 (Accuracy): 1.000000 손실 함수(Loss): 0.154232\n",
            "Test데이터 - 정확도(Accuracy): 0.941400  / 손실(loss): 14.458683\n",
            "반복(Epoch): 28 정확도 (Accuracy): 1.000000 손실 함수(Loss): 0.130325\n",
            "Test데이터 - 정확도(Accuracy): 0.941300  / 손실(loss): 14.026306\n",
            "반복(Epoch): 29 정확도 (Accuracy): 1.000000 손실 함수(Loss): 0.131965\n",
            "Test데이터 - 정확도(Accuracy): 0.939900  / 손실(loss): 14.014342\n",
            "반복(Epoch): 30 정확도 (Accuracy): 1.000000 손실 함수(Loss): 0.087246\n",
            "Test데이터 - 정확도(Accuracy): 0.944800  / 손실(loss): 13.360464\n",
            "반복(Epoch): 31 정확도 (Accuracy): 1.000000 손실 함수(Loss): 0.081941\n",
            "Test데이터 - 정확도(Accuracy): 0.944300  / 손실(loss): 13.670296\n",
            "반복(Epoch): 32 정확도 (Accuracy): 1.000000 손실 함수(Loss): 0.067101\n",
            "Test데이터 - 정확도(Accuracy): 0.943100  / 손실(loss): 14.143251\n",
            "반복(Epoch): 33 정확도 (Accuracy): 1.000000 손실 함수(Loss): 0.074299\n",
            "Test데이터 - 정확도(Accuracy): 0.943400  / 손실(loss): 13.528081\n",
            "반복(Epoch): 34 정확도 (Accuracy): 1.000000 손실 함수(Loss): 0.064463\n",
            "Test데이터 - 정확도(Accuracy): 0.945200  / 손실(loss): 13.326947\n",
            "반복(Epoch): 35 정확도 (Accuracy): 1.000000 손실 함수(Loss): 0.070595\n",
            "Test데이터 - 정확도(Accuracy): 0.946700  / 손실(loss): 13.561761\n",
            "반복(Epoch): 36 정확도 (Accuracy): 1.000000 손실 함수(Loss): 0.050942\n",
            "Test데이터 - 정확도(Accuracy): 0.945900  / 손실(loss): 13.501048\n",
            "반복(Epoch): 37 정확도 (Accuracy): 1.000000 손실 함수(Loss): 0.054379\n",
            "Test데이터 - 정확도(Accuracy): 0.945900  / 손실(loss): 13.429872\n",
            "반복(Epoch): 38 정확도 (Accuracy): 1.000000 손실 함수(Loss): 0.044296\n",
            "Test데이터 - 정확도(Accuracy): 0.947500  / 손실(loss): 12.716449\n",
            "반복(Epoch): 39 정확도 (Accuracy): 1.000000 손실 함수(Loss): 0.037506\n",
            "Test데이터 - 정확도(Accuracy): 0.946700  / 손실(loss): 13.308354\n",
            "반복(Epoch): 40 정확도 (Accuracy): 1.000000 손실 함수(Loss): 0.046794\n",
            "Test데이터 - 정확도(Accuracy): 0.945200  / 손실(loss): 13.364209\n",
            "반복(Epoch): 41 정확도 (Accuracy): 1.000000 손실 함수(Loss): 0.054328\n",
            "Test데이터 - 정확도(Accuracy): 0.943700  / 손실(loss): 13.133720\n",
            "반복(Epoch): 42 정확도 (Accuracy): 1.000000 손실 함수(Loss): 0.049977\n",
            "Test데이터 - 정확도(Accuracy): 0.948300  / 손실(loss): 12.636420\n",
            "반복(Epoch): 43 정확도 (Accuracy): 1.000000 손실 함수(Loss): 0.022392\n",
            "Test데이터 - 정확도(Accuracy): 0.947800  / 손실(loss): 12.552944\n",
            "반복(Epoch): 44 정확도 (Accuracy): 1.000000 손실 함수(Loss): 0.064401\n",
            "Test데이터 - 정확도(Accuracy): 0.950800  / 손실(loss): 12.551578\n",
            "반복(Epoch): 45 정확도 (Accuracy): 1.000000 손실 함수(Loss): 0.035018\n",
            "Test데이터 - 정확도(Accuracy): 0.950300  / 손실(loss): 12.301714\n",
            "반복(Epoch): 46 정확도 (Accuracy): 1.000000 손실 함수(Loss): 0.022900\n",
            "Test데이터 - 정확도(Accuracy): 0.951600  / 손실(loss): 12.117548\n",
            "반복(Epoch): 47 정확도 (Accuracy): 1.000000 손실 함수(Loss): 0.015559\n",
            "Test데이터 - 정확도(Accuracy): 0.950100  / 손실(loss): 12.530346\n",
            "반복(Epoch): 48 정확도 (Accuracy): 1.000000 손실 함수(Loss): 0.025687\n",
            "Test데이터 - 정확도(Accuracy): 0.951900  / 손실(loss): 12.363988\n",
            "반복(Epoch): 49 정확도 (Accuracy): 1.000000 손실 함수(Loss): 0.015039\n",
            "Test데이터 - 정확도(Accuracy): 0.952500  / 손실(loss): 12.535143\n",
            "반복(Epoch): 50 정확도 (Accuracy): 1.000000 손실 함수(Loss): 0.036031\n",
            "Test데이터 - 정확도(Accuracy): 0.951800  / 손실(loss): 12.172935\n"
          ]
        }
      ]
    },
    {
      "cell_type": "code",
      "source": [
        "# 테스트 데이터를 이용해서 학습된 모델이 얼마나 정확한지 정확도를 출력합니다.\n",
        "print(\"정확도(Accuracy): %f\" % compute_accuracy(ANN_model(x_test), y_test)) # 정확도: 약 94%"
      ],
      "metadata": {
        "colab": {
          "base_uri": "https://localhost:8080/"
        },
        "id": "1-Yv11qHzeyj",
        "outputId": "ba3cee57-9d59-4d1c-dafa-66d74c1f263d"
      },
      "execution_count": null,
      "outputs": [
        {
          "output_type": "stream",
          "name": "stdout",
          "text": [
            "정확도(Accuracy): 0.951800\n"
          ]
        }
      ]
    }
  ]
}