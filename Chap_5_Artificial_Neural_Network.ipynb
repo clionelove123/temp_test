{
  "nbformat": 4,
  "nbformat_minor": 0,
  "metadata": {
    "colab": {
      "provenance": [],
      "authorship_tag": "ABX9TyNoy5xNDmjt0ZHIzd/HlNcL",
      "include_colab_link": true
    },
    "kernelspec": {
      "name": "python3",
      "display_name": "Python 3"
    },
    "language_info": {
      "name": "python"
    }
  },
  "cells": [
    {
      "cell_type": "markdown",
      "metadata": {
        "id": "view-in-github",
        "colab_type": "text"
      },
      "source": [
        "<a href=\"https://colab.research.google.com/github/clionelove123/temp_test/blob/main/Chap_5_Artificial_Neural_Network.ipynb\" target=\"_parent\"><img src=\"https://colab.research.google.com/assets/colab-badge.svg\" alt=\"Open In Colab\"/></a>"
      ]
    },
    {
      "cell_type": "code",
      "execution_count": 1,
      "metadata": {
        "id": "CAf7_AvMy0b1"
      },
      "outputs": [],
      "source": [
        "# -*- coding: utf-8 -*-\n",
        "# 텐서플로우를 이용한 ANN(Artificial Neural Networks) 구현\n",
        "\n",
        "import tensorflow as tf"
      ]
    },
    {
      "cell_type": "code",
      "source": [
        "# MNIST 데이터를 다운로드 합니다.\n",
        "(x_train, y_train), (x_test, y_test) = tf.keras.datasets.mnist.load_data()\n",
        "# 이미지들을 float32 데이터 타입으로 변경합니다.\n",
        "x_train, x_test = x_train.astype('float32'), x_test.astype('float32')\n",
        "# 28*28 형태의 이미지를 784차원으로 flattening 합니다.\n",
        "x_train, x_test = x_train.reshape([-1, 784]), x_test.reshape([-1, 784])\n",
        "# [0, 255] 사이의 값을 [0, 1]사이의 값으로 Normalize합니다.\n",
        "x_train, x_test = x_train / 255., x_test / 255.\n",
        "# 레이블 데이터에 one-hot encoding을 적용합니다.\n",
        "y_train, y_test = tf.one_hot(y_train, depth=10), tf.one_hot(y_test, depth=10)"
      ],
      "metadata": {
        "id": "uAYkjbk9zNq3"
      },
      "execution_count": 2,
      "outputs": []
    },
    {
      "cell_type": "code",
      "source": [
        "# 학습을 위한 설정값들을 정의합니다.\n",
        "learning_rate = 0.001\n",
        "num_epochs = 30     # 학습횟수\n",
        "batch_size = 256    # 배치개수\n",
        "display_step = 1    # 손실함수 출력 주기\n",
        "input_size = 784    # 28 * 28\n",
        "hidden1_size = 256\n",
        "hidden2_size = 256\n",
        "output_size = 10"
      ],
      "metadata": {
        "id": "Hx9Z5GLtzQd5"
      },
      "execution_count": 3,
      "outputs": []
    },
    {
      "cell_type": "code",
      "source": [
        "# tf.data API를 이용해서 데이터를 섞고 batch 형태로 가져옵니다.\n",
        "train_data = tf.data.Dataset.from_tensor_slices((x_train, y_train))\n",
        "train_data = train_data.shuffle(60000).batch(batch_size)\n",
        "\n",
        "# ANN 모델을 정의합니다.\n",
        "class ANN(object):\n",
        "  # ANN 모델을 위한 tf.Variable들을 정의합니다.\n",
        "  def __init__(self):\n",
        "    self.W1 = tf.Variable(tf.random.normal(shape=[input_size, hidden1_size]))\n",
        "    self.b1 = tf.Variable(tf.random.normal(shape=[hidden1_size]))\n",
        "    self.W2 = tf.Variable(tf.random.normal(shape=[hidden1_size, hidden2_size]))\n",
        "    self.b2 = tf.Variable(tf.random.normal(shape=[hidden2_size]))\n",
        "    self.W_output = tf.Variable(tf.random.normal(shape=[hidden2_size, output_size]))\n",
        "    self.b_output = tf.Variable(tf.random.normal(shape=[output_size]))\n",
        "\n",
        "  def __call__(self, x):\n",
        "    H1_output = tf.nn.relu(tf.matmul(x, self.W1) + self.b1)\n",
        "    H2_output = tf.nn.relu(tf.matmul(H1_output, self.W2) + self.b2)\n",
        "    logits = tf.matmul(H2_output, self.W_output) + self.b_output\n",
        "\n",
        "    return logits"
      ],
      "metadata": {
        "id": "4PtX1nRzzSiu"
      },
      "execution_count": 4,
      "outputs": []
    },
    {
      "cell_type": "code",
      "source": [
        "# cross-entropy 손실 함수를 정의합니다.\n",
        "@tf.function\n",
        "def cross_entropy_loss(logits, y):\n",
        "  return tf.reduce_mean(tf.nn.softmax_cross_entropy_with_logits(logits=logits, labels=y))\n",
        "\n",
        "# 최적화를 위한 Adam 옵티마이저를 정의합니다.\n",
        "optimizer = tf.optimizers.Adam(learning_rate)\n",
        "\n",
        "# 최적화를 위한 function을 정의합니다.\n",
        "@tf.function\n",
        "def train_step(model, x, y):\n",
        "  with tf.GradientTape() as tape:\n",
        "    y_pred = model(x)\n",
        "    loss = cross_entropy_loss(y_pred, y)\n",
        "  gradients = tape.gradient(loss, vars(model).values())\n",
        "  optimizer.apply_gradients(zip(gradients, vars(model).values()))\n",
        "\n",
        "# 모델의 정확도를 출력하는 함수를 정의합니다.\n",
        "@tf.function\n",
        "def compute_accuracy(y_pred, y):\n",
        "  correct_prediction = tf.equal(tf.argmax(y_pred,1), tf.argmax(y,1))\n",
        "  accuracy = tf.reduce_mean(tf.cast(correct_prediction, tf.float32))\n",
        "\n",
        "  return accuracy"
      ],
      "metadata": {
        "id": "CpwzIKfLzbJJ"
      },
      "execution_count": 5,
      "outputs": []
    },
    {
      "cell_type": "code",
      "source": [
        "# ANN 모델을 선언합니다.\n",
        "ANN_model = ANN()\n",
        "\n",
        "# 지정된 횟수만큼 최적화를 수행합니다.\n",
        "for epoch in range(num_epochs):\n",
        "  average_loss = 0.\n",
        "  total_batch = int(x_train.shape[0] / batch_size)\n",
        "  # 모든 배치들에 대해서 최적화를 수행합니다.\n",
        "  for batch_x, batch_y in train_data:\n",
        "    # 옵티마이저를 실행해서 파라마터들을 업데이트합니다.\n",
        "    _, current_loss = train_step(ANN_model, batch_x, batch_y), cross_entropy_loss(ANN_model(batch_x), batch_y)\n",
        "    # 평균 손실을 측정합니다.\n",
        "    average_loss += current_loss / total_batch\n",
        "  # 지정된 epoch마다 학습결과를 출력합니다.\n",
        "  if epoch % display_step == 0:\n",
        "    print(\"반복(Epoch): %d\" % (epoch+1), \"정확도 (Accuracy): %f\" % compute_accuracy(ANN_model(batch_x), batch_y), \"손실 함수(Loss): %f\" % average_loss)\n",
        "    print(\"Test데이터 - 정확도(Accuracy): %f\" % compute_accuracy(ANN_model(x_test), y_test),\" / 손실(loss): %f\" % cross_entropy_loss(ANN_model(x_test), y_test)) # 정확도: 약 94%\n"
      ],
      "metadata": {
        "colab": {
          "base_uri": "https://localhost:8080/"
        },
        "id": "QaWV-Pl-zdL3",
        "outputId": "4f161e2d-cfc1-4333-b4bb-5b4d4486c95e"
      },
      "execution_count": 6,
      "outputs": [
        {
          "output_type": "stream",
          "name": "stdout",
          "text": [
            "반복(Epoch): 1 정확도 (Accuracy): 0.666667 손실 함수(Loss): 298.607330\n",
            "Test데이터 - 정확도(Accuracy): 0.809500  / 손실(loss): 83.578476\n",
            "반복(Epoch): 2 정확도 (Accuracy): 0.770833 손실 함수(Loss): 65.687859\n",
            "Test데이터 - 정확도(Accuracy): 0.867400  / 손실(loss): 52.738602\n",
            "반복(Epoch): 3 정확도 (Accuracy): 0.854167 손실 함수(Loss): 42.632942\n",
            "Test데이터 - 정확도(Accuracy): 0.885000  / 손실(loss): 40.055050\n",
            "반복(Epoch): 4 정확도 (Accuracy): 0.895833 손실 함수(Loss): 31.262327\n",
            "Test데이터 - 정확도(Accuracy): 0.898600  / 손실(loss): 33.419273\n",
            "반복(Epoch): 5 정확도 (Accuracy): 0.937500 손실 함수(Loss): 24.155664\n",
            "Test데이터 - 정확도(Accuracy): 0.909400  / 손실(loss): 29.445774\n",
            "반복(Epoch): 6 정확도 (Accuracy): 0.947917 손실 함수(Loss): 19.077015\n",
            "Test데이터 - 정확도(Accuracy): 0.915000  / 손실(loss): 26.521759\n",
            "반복(Epoch): 7 정확도 (Accuracy): 0.958333 손실 함수(Loss): 15.402907\n",
            "Test데이터 - 정확도(Accuracy): 0.915900  / 손실(loss): 24.998968\n",
            "반복(Epoch): 8 정확도 (Accuracy): 0.979167 손실 함수(Loss): 12.597930\n",
            "Test데이터 - 정확도(Accuracy): 0.920100  / 손실(loss): 22.444332\n",
            "반복(Epoch): 9 정확도 (Accuracy): 0.947917 손실 함수(Loss): 10.324994\n",
            "Test데이터 - 정확도(Accuracy): 0.922700  / 손실(loss): 21.231155\n",
            "반복(Epoch): 10 정확도 (Accuracy): 0.947917 손실 함수(Loss): 8.655755\n",
            "Test데이터 - 정확도(Accuracy): 0.925800  / 손실(loss): 20.131132\n",
            "반복(Epoch): 11 정확도 (Accuracy): 0.916667 손실 함수(Loss): 7.200853\n",
            "Test데이터 - 정확도(Accuracy): 0.929700  / 손실(loss): 19.885445\n",
            "반복(Epoch): 12 정확도 (Accuracy): 0.989583 손실 함수(Loss): 5.967206\n",
            "Test데이터 - 정확도(Accuracy): 0.929600  / 손실(loss): 18.795347\n",
            "반복(Epoch): 13 정확도 (Accuracy): 0.989583 손실 함수(Loss): 4.872451\n",
            "Test데이터 - 정확도(Accuracy): 0.930900  / 손실(loss): 18.300888\n",
            "반복(Epoch): 14 정확도 (Accuracy): 0.979167 손실 함수(Loss): 3.961264\n",
            "Test데이터 - 정확도(Accuracy): 0.933500  / 손실(loss): 17.627153\n",
            "반복(Epoch): 15 정확도 (Accuracy): 0.958333 손실 함수(Loss): 3.197587\n",
            "Test데이터 - 정확도(Accuracy): 0.934600  / 손실(loss): 17.558485\n",
            "반복(Epoch): 16 정확도 (Accuracy): 0.989583 손실 함수(Loss): 2.599138\n",
            "Test데이터 - 정확도(Accuracy): 0.933000  / 손실(loss): 17.444452\n",
            "반복(Epoch): 17 정확도 (Accuracy): 1.000000 손실 함수(Loss): 2.136419\n",
            "Test데이터 - 정확도(Accuracy): 0.934700  / 손실(loss): 16.824488\n",
            "반복(Epoch): 18 정확도 (Accuracy): 0.979167 손실 함수(Loss): 1.621603\n",
            "Test데이터 - 정확도(Accuracy): 0.934600  / 손실(loss): 17.115242\n",
            "반복(Epoch): 19 정확도 (Accuracy): 1.000000 손실 함수(Loss): 1.319560\n",
            "Test데이터 - 정확도(Accuracy): 0.935300  / 손실(loss): 16.313013\n",
            "반복(Epoch): 20 정확도 (Accuracy): 0.989583 손실 함수(Loss): 1.058755\n",
            "Test데이터 - 정확도(Accuracy): 0.935700  / 손실(loss): 16.550110\n",
            "반복(Epoch): 21 정확도 (Accuracy): 1.000000 손실 함수(Loss): 0.819073\n",
            "Test데이터 - 정확도(Accuracy): 0.938300  / 손실(loss): 15.873341\n",
            "반복(Epoch): 22 정확도 (Accuracy): 0.979167 손실 함수(Loss): 0.633278\n",
            "Test데이터 - 정확도(Accuracy): 0.937200  / 손실(loss): 15.934100\n",
            "반복(Epoch): 23 정확도 (Accuracy): 1.000000 손실 함수(Loss): 0.446530\n",
            "Test데이터 - 정확도(Accuracy): 0.938900  / 손실(loss): 15.545680\n",
            "반복(Epoch): 24 정확도 (Accuracy): 1.000000 손실 함수(Loss): 0.350062\n",
            "Test데이터 - 정확도(Accuracy): 0.938500  / 손실(loss): 15.459249\n",
            "반복(Epoch): 25 정확도 (Accuracy): 0.989583 손실 함수(Loss): 0.265902\n",
            "Test데이터 - 정확도(Accuracy): 0.938000  / 손실(loss): 15.340607\n",
            "반복(Epoch): 26 정확도 (Accuracy): 0.989583 손실 함수(Loss): 0.187147\n",
            "Test데이터 - 정확도(Accuracy): 0.939700  / 손실(loss): 15.045348\n",
            "반복(Epoch): 27 정확도 (Accuracy): 1.000000 손실 함수(Loss): 0.157388\n",
            "Test데이터 - 정확도(Accuracy): 0.941200  / 손실(loss): 15.241571\n",
            "반복(Epoch): 28 정확도 (Accuracy): 0.989583 손실 함수(Loss): 0.112576\n",
            "Test데이터 - 정확도(Accuracy): 0.941300  / 손실(loss): 14.610452\n",
            "반복(Epoch): 29 정확도 (Accuracy): 1.000000 손실 함수(Loss): 0.097638\n",
            "Test데이터 - 정확도(Accuracy): 0.942100  / 손실(loss): 14.797309\n",
            "반복(Epoch): 30 정확도 (Accuracy): 0.989583 손실 함수(Loss): 0.076619\n",
            "Test데이터 - 정확도(Accuracy): 0.941400  / 손실(loss): 14.486974\n"
          ]
        }
      ]
    },
    {
      "cell_type": "code",
      "source": [
        "# 테스트 데이터를 이용해서 학습된 모델이 얼마나 정확한지 정확도를 출력합니다.\n",
        "print(\"정확도(Accuracy): %f\" % compute_accuracy(ANN_model(x_test), y_test)) # 정확도: 약 94%"
      ],
      "metadata": {
        "colab": {
          "base_uri": "https://localhost:8080/"
        },
        "id": "1-Yv11qHzeyj",
        "outputId": "3a17a2d7-cb6d-4f00-de95-84b9f12ef5a7"
      },
      "execution_count": 7,
      "outputs": [
        {
          "output_type": "stream",
          "name": "stdout",
          "text": [
            "정확도(Accuracy): 0.941400\n"
          ]
        }
      ]
    },
    {
      "cell_type": "code",
      "source": [
        "import numpy as np\n",
        "import os\n",
        "import PIL\n",
        "import PIL.Image\n",
        "import tensorflow as tf\n",
        "import tensorflow_datasets as tfds\n",
        "\n",
        "import matplotlib.pyplot as plt\n",
        "import matplotlib.image as mpimg\n",
        "\n",
        "from google.colab import files\n",
        "uploaded = files.upload()\n",
        " \n",
        "#bmpSample = mpimg.imread('temp1.bmp')\n",
        "#bmpSample_2 = mpimg.imread('temp2.bmp')\n",
        "bmpSample_3 = mpimg.imread('temp3.png')\n",
        "\n",
        "#plt.figure(figsize=(15, 10))\n",
        "#plt.subplot(1,3,1)\n",
        "#plt.title('bmp')\n",
        "\n",
        "\n",
        "#plt.imshow(bmpSample)\n",
        "plt.imshow(bmpSample_3)\n"
      ],
      "metadata": {
        "colab": {
          "base_uri": "https://localhost:8080/",
          "height": 343
        },
        "id": "HcjmgxQdvzuO",
        "outputId": "a0f5917e-43ca-4a87-a28d-7b12f4ec409a"
      },
      "execution_count": 8,
      "outputs": [
        {
          "output_type": "display_data",
          "data": {
            "text/plain": [
              "<IPython.core.display.HTML object>"
            ],
            "text/html": [
              "\n",
              "     <input type=\"file\" id=\"files-a46646af-279f-4335-b5fb-f45360916b00\" name=\"files[]\" multiple disabled\n",
              "        style=\"border:none\" />\n",
              "     <output id=\"result-a46646af-279f-4335-b5fb-f45360916b00\">\n",
              "      Upload widget is only available when the cell has been executed in the\n",
              "      current browser session. Please rerun this cell to enable.\n",
              "      </output>\n",
              "      <script>// Copyright 2017 Google LLC\n",
              "//\n",
              "// Licensed under the Apache License, Version 2.0 (the \"License\");\n",
              "// you may not use this file except in compliance with the License.\n",
              "// You may obtain a copy of the License at\n",
              "//\n",
              "//      http://www.apache.org/licenses/LICENSE-2.0\n",
              "//\n",
              "// Unless required by applicable law or agreed to in writing, software\n",
              "// distributed under the License is distributed on an \"AS IS\" BASIS,\n",
              "// WITHOUT WARRANTIES OR CONDITIONS OF ANY KIND, either express or implied.\n",
              "// See the License for the specific language governing permissions and\n",
              "// limitations under the License.\n",
              "\n",
              "/**\n",
              " * @fileoverview Helpers for google.colab Python module.\n",
              " */\n",
              "(function(scope) {\n",
              "function span(text, styleAttributes = {}) {\n",
              "  const element = document.createElement('span');\n",
              "  element.textContent = text;\n",
              "  for (const key of Object.keys(styleAttributes)) {\n",
              "    element.style[key] = styleAttributes[key];\n",
              "  }\n",
              "  return element;\n",
              "}\n",
              "\n",
              "// Max number of bytes which will be uploaded at a time.\n",
              "const MAX_PAYLOAD_SIZE = 100 * 1024;\n",
              "\n",
              "function _uploadFiles(inputId, outputId) {\n",
              "  const steps = uploadFilesStep(inputId, outputId);\n",
              "  const outputElement = document.getElementById(outputId);\n",
              "  // Cache steps on the outputElement to make it available for the next call\n",
              "  // to uploadFilesContinue from Python.\n",
              "  outputElement.steps = steps;\n",
              "\n",
              "  return _uploadFilesContinue(outputId);\n",
              "}\n",
              "\n",
              "// This is roughly an async generator (not supported in the browser yet),\n",
              "// where there are multiple asynchronous steps and the Python side is going\n",
              "// to poll for completion of each step.\n",
              "// This uses a Promise to block the python side on completion of each step,\n",
              "// then passes the result of the previous step as the input to the next step.\n",
              "function _uploadFilesContinue(outputId) {\n",
              "  const outputElement = document.getElementById(outputId);\n",
              "  const steps = outputElement.steps;\n",
              "\n",
              "  const next = steps.next(outputElement.lastPromiseValue);\n",
              "  return Promise.resolve(next.value.promise).then((value) => {\n",
              "    // Cache the last promise value to make it available to the next\n",
              "    // step of the generator.\n",
              "    outputElement.lastPromiseValue = value;\n",
              "    return next.value.response;\n",
              "  });\n",
              "}\n",
              "\n",
              "/**\n",
              " * Generator function which is called between each async step of the upload\n",
              " * process.\n",
              " * @param {string} inputId Element ID of the input file picker element.\n",
              " * @param {string} outputId Element ID of the output display.\n",
              " * @return {!Iterable<!Object>} Iterable of next steps.\n",
              " */\n",
              "function* uploadFilesStep(inputId, outputId) {\n",
              "  const inputElement = document.getElementById(inputId);\n",
              "  inputElement.disabled = false;\n",
              "\n",
              "  const outputElement = document.getElementById(outputId);\n",
              "  outputElement.innerHTML = '';\n",
              "\n",
              "  const pickedPromise = new Promise((resolve) => {\n",
              "    inputElement.addEventListener('change', (e) => {\n",
              "      resolve(e.target.files);\n",
              "    });\n",
              "  });\n",
              "\n",
              "  const cancel = document.createElement('button');\n",
              "  inputElement.parentElement.appendChild(cancel);\n",
              "  cancel.textContent = 'Cancel upload';\n",
              "  const cancelPromise = new Promise((resolve) => {\n",
              "    cancel.onclick = () => {\n",
              "      resolve(null);\n",
              "    };\n",
              "  });\n",
              "\n",
              "  // Wait for the user to pick the files.\n",
              "  const files = yield {\n",
              "    promise: Promise.race([pickedPromise, cancelPromise]),\n",
              "    response: {\n",
              "      action: 'starting',\n",
              "    }\n",
              "  };\n",
              "\n",
              "  cancel.remove();\n",
              "\n",
              "  // Disable the input element since further picks are not allowed.\n",
              "  inputElement.disabled = true;\n",
              "\n",
              "  if (!files) {\n",
              "    return {\n",
              "      response: {\n",
              "        action: 'complete',\n",
              "      }\n",
              "    };\n",
              "  }\n",
              "\n",
              "  for (const file of files) {\n",
              "    const li = document.createElement('li');\n",
              "    li.append(span(file.name, {fontWeight: 'bold'}));\n",
              "    li.append(span(\n",
              "        `(${file.type || 'n/a'}) - ${file.size} bytes, ` +\n",
              "        `last modified: ${\n",
              "            file.lastModifiedDate ? file.lastModifiedDate.toLocaleDateString() :\n",
              "                                    'n/a'} - `));\n",
              "    const percent = span('0% done');\n",
              "    li.appendChild(percent);\n",
              "\n",
              "    outputElement.appendChild(li);\n",
              "\n",
              "    const fileDataPromise = new Promise((resolve) => {\n",
              "      const reader = new FileReader();\n",
              "      reader.onload = (e) => {\n",
              "        resolve(e.target.result);\n",
              "      };\n",
              "      reader.readAsArrayBuffer(file);\n",
              "    });\n",
              "    // Wait for the data to be ready.\n",
              "    let fileData = yield {\n",
              "      promise: fileDataPromise,\n",
              "      response: {\n",
              "        action: 'continue',\n",
              "      }\n",
              "    };\n",
              "\n",
              "    // Use a chunked sending to avoid message size limits. See b/62115660.\n",
              "    let position = 0;\n",
              "    do {\n",
              "      const length = Math.min(fileData.byteLength - position, MAX_PAYLOAD_SIZE);\n",
              "      const chunk = new Uint8Array(fileData, position, length);\n",
              "      position += length;\n",
              "\n",
              "      const base64 = btoa(String.fromCharCode.apply(null, chunk));\n",
              "      yield {\n",
              "        response: {\n",
              "          action: 'append',\n",
              "          file: file.name,\n",
              "          data: base64,\n",
              "        },\n",
              "      };\n",
              "\n",
              "      let percentDone = fileData.byteLength === 0 ?\n",
              "          100 :\n",
              "          Math.round((position / fileData.byteLength) * 100);\n",
              "      percent.textContent = `${percentDone}% done`;\n",
              "\n",
              "    } while (position < fileData.byteLength);\n",
              "  }\n",
              "\n",
              "  // All done.\n",
              "  yield {\n",
              "    response: {\n",
              "      action: 'complete',\n",
              "    }\n",
              "  };\n",
              "}\n",
              "\n",
              "scope.google = scope.google || {};\n",
              "scope.google.colab = scope.google.colab || {};\n",
              "scope.google.colab._files = {\n",
              "  _uploadFiles,\n",
              "  _uploadFilesContinue,\n",
              "};\n",
              "})(self);\n",
              "</script> "
            ]
          },
          "metadata": {}
        },
        {
          "output_type": "stream",
          "name": "stdout",
          "text": [
            "Saving temp3.png to temp3 (1).png\n"
          ]
        },
        {
          "output_type": "execute_result",
          "data": {
            "text/plain": [
              "<matplotlib.image.AxesImage at 0x7fada088a2b0>"
            ]
          },
          "metadata": {},
          "execution_count": 8
        },
        {
          "output_type": "display_data",
          "data": {
            "text/plain": [
              "<Figure size 432x288 with 1 Axes>"
            ],
            "image/png": "[encoded data removed]"
          },
          "metadata": {
            "needs_background": "light"
          }
        }
      ]
    },
    {
      "cell_type": "code",
      "source": [
        "#bmpSample_t=bmpSample.astype('float32')\n",
        "#bmpSample_t_2=bmpSample_2.astype('float32')\n",
        "bmpSample_t_3=bmpSample_3.astype('float32')\n",
        "\n",
        "#bmpSample_t = bmpSample_t.reshape([-1, 784])\n",
        "#bmpSample_t_2 = bmpSample_t_2.reshape([-1, 784])\n",
        "bmpSample_t_3 = bmpSample_t_3.reshape([-1, 784])\n",
        "# [0, 255] 사이의 값을 [0, 1]사이의 값으로 Normalize합니다.\n",
        "##bmpSample_t = bmpSample_t / 255.\n",
        "#bmpSample_t_2 = bmpSample_t_2 / 255.\n",
        "bmpSample_t_3 = bmpSample_t_3 / 255.\n",
        "\n",
        "y_test_pre=ANN_model(bmpSample_t_3)\n",
        "\n",
        "print(y_test_pre.numpy())"
      ],
      "metadata": {
        "colab": {
          "base_uri": "https://localhost:8080/"
        },
        "id": "sXbR3S4-v1KN",
        "outputId": "bbb1ecac-4f71-4429-c52c-8d8f82ea6f0f"
      },
      "execution_count": 18,
      "outputs": [
        {
          "output_type": "stream",
          "name": "stdout",
          "text": [
            "[[ -59.311012     9.239596  -120.475975    39.777126  -130.83871\n",
            "    -3.3532064 -146.27202    -22.756508   -26.50383    -79.59014  ]\n",
            " [ -68.157845     4.1208563 -128.00903     38.447712  -140.50423\n",
            "     7.024633  -148.65897    -29.419985   -32.09365    -79.284485 ]\n",
            " [ -65.97765      9.113134  -122.807724    49.961456  -139.87239\n",
            "     4.17878   -147.52328    -36.957077   -29.948841   -72.46088  ]]\n"
          ]
        }
      ]
    },
    {
      "cell_type": "code",
      "source": [
        "y_test=tf.nn.softmax(ANN_model(bmpSample_t_3))\n",
        "print(y_test.numpy())"
      ],
      "metadata": {
        "colab": {
          "base_uri": "https://localhost:8080/"
        },
        "id": "0uRNEDVXy6VQ",
        "outputId": "a6c78228-74bd-4715-d4bb-321b59f33538"
      },
      "execution_count": 20,
      "outputs": [
        {
          "output_type": "stream",
          "name": "stdout",
          "text": [
            "[[0.0000000e+00 5.4666300e-14 0.0000000e+00 1.0000000e+00 0.0000000e+00\n",
            "  1.8566687e-19 0.0000000e+00 6.9500471e-28 1.6388710e-29 0.0000000e+00]\n",
            " [0.0000000e+00 1.2360510e-15 0.0000000e+00 1.0000000e+00 0.0000000e+00\n",
            "  2.2549161e-14 0.0000000e+00 3.3529951e-30 2.3135224e-31 0.0000000e+00]\n",
            " [0.0000000e+00 1.8188630e-18 0.0000000e+00 1.0000000e+00 0.0000000e+00\n",
            "  1.3086881e-20 0.0000000e+00 1.7855031e-38 1.9742423e-35 0.0000000e+00]]\n"
          ]
        }
      ]
    },
    {
      "cell_type": "code",
      "source": [
        "tf.argmax(y_test)"
      ],
      "metadata": {
        "colab": {
          "base_uri": "https://localhost:8080/"
        },
        "id": "84Fgf8-KzDho",
        "outputId": "063da85b-90fe-4ee0-a03a-6fccd94e01a0"
      },
      "execution_count": 21,
      "outputs": [
        {
          "output_type": "execute_result",
          "data": {
            "text/plain": [
              "<tf.Tensor: shape=(10,), dtype=int64, numpy=array([0, 0, 0, 0, 0, 1, 0, 0, 0, 0])>"
            ]
          },
          "metadata": {},
          "execution_count": 21
        }
      ]
    }
  ]
}