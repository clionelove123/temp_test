{
  "nbformat": 4,
  "nbformat_minor": 0,
  "metadata": {
    "colab": {
      "provenance": [],
      "authorship_tag": "ABX9TyMJDoQwaIpeQiuD8mQywcOQ",
      "include_colab_link": true
    },
    "kernelspec": {
      "name": "python3",
      "display_name": "Python 3"
    },
    "language_info": {
      "name": "python"
    }
  },
  "cells": [
    {
      "cell_type": "markdown",
      "metadata": {
        "id": "view-in-github",
        "colab_type": "text"
      },
      "source": [
        "<a href=\"https://colab.research.google.com/github/clionelove123/temp_test/blob/main/Chap_5_Artificial_Neural_Network.ipynb\" target=\"_parent\"><img src=\"https://colab.research.google.com/assets/colab-badge.svg\" alt=\"Open In Colab\"/></a>"
      ]
    },
    {
      "cell_type": "code",
      "execution_count": 57,
      "metadata": {
        "id": "CAf7_AvMy0b1"
      },
      "outputs": [],
      "source": [
        "# -*- coding: utf-8 -*-\n",
        "# 텐서플로우를 이용한 ANN(Artificial Neural Networks) 구현\n",
        "\n",
        "import tensorflow as tf"
      ]
    },
    {
      "cell_type": "code",
      "source": [
        "import numpy as np\n",
        "import os\n",
        "import PIL\n",
        "import PIL.Image\n",
        "import tensorflow as tf\n",
        "import tensorflow_datasets as tfds\n",
        "\n",
        "import matplotlib.pyplot as plt\n",
        "import matplotlib.image as mpimg\n",
        "\n",
        "from google.colab import files\n",
        "#uploaded = files.upload()"
      ],
      "metadata": {
        "id": "gwxWNIOLPD2Y"
      },
      "execution_count": 58,
      "outputs": []
    },
    {
      "cell_type": "code",
      "source": [
        "# MNIST 데이터를 다운로드 합니다.\n",
        "(x_train, y_train), (x_test, y_test) = tf.keras.datasets.mnist.load_data()\n",
        "# 이미지들을 float32 데이터 타입으로 변경합니다.\n",
        "x_train, x_test = x_train.astype('float32'), x_test.astype('float32')\n",
        "# 28*28 형태의 이미지를 784차원으로 flattening 합니다.\n",
        "x_train, x_test = x_train.reshape([-1, 784]), x_test.reshape([-1, 784])\n",
        "# [0, 255] 사이의 값을 [0, 1]사이의 값으로 Normalize합니다.\n",
        "x_train, x_test = x_train / 255., x_test / 255.\n",
        "# 레이블 데이터에 one-hot encoding을 적용합니다.\n",
        "y_train, y_test = tf.one_hot(y_train, depth=10), tf.one_hot(y_test, depth=10)"
      ],
      "metadata": {
        "id": "uAYkjbk9zNq3"
      },
      "execution_count": 59,
      "outputs": []
    },
    {
      "cell_type": "code",
      "source": [
        "bmpSample_1 = mpimg.imread('temp6.png')\n",
        "bmpSample_2 = mpimg.imread('temp5.png')\n",
        "bmpSample_3 = mpimg.imread('temp4.png')\n",
        "\n",
        "bmpSample_t_1= bmpSample_1.astype('float32')\n",
        "bmpSample_t_2=bmpSample_2.astype('float32')\n",
        "bmpSample_t_3=bmpSample_3.astype('float32')\n",
        "\n",
        "bmpSample_t_1 = bmpSample_t_1.reshape([-1, 784])\n",
        "bmpSample_t_2 = bmpSample_t_2.reshape([-1, 784])\n",
        "bmpSample_t_3 = bmpSample_t_3.reshape([-1, 784])\n",
        "# [0, 255] 사이의 값을 [0, 1]사이의 값으로 Normalize합니다.\n",
        "bmpSample_t_1 = bmpSample_t_1 / 255.\n",
        "bmpSample_t_2 = bmpSample_t_2 / 255.\n",
        "bmpSample_t_3 = bmpSample_t_3 / 255."
      ],
      "metadata": {
        "id": "aMfGt-oKxvSj"
      },
      "execution_count": null,
      "outputs": []
    },
    {
      "cell_type": "code",
      "source": [
        "# 학습을 위한 설정값들을 정의합니다.\n",
        "learning_rate = 0.001\n",
        "num_epochs = 30     # 학습횟수\n",
        "batch_size = 256    # 배치개수\n",
        "display_step = 1    # 손실함수 출력 주기\n",
        "input_size = 784    # 28 * 28\n",
        "hidden1_size = 256\n",
        "hidden2_size = 256\n",
        "output_size = 10"
      ],
      "metadata": {
        "id": "Hx9Z5GLtzQd5"
      },
      "execution_count": 60,
      "outputs": []
    },
    {
      "cell_type": "code",
      "source": [
        "# tf.data API를 이용해서 데이터를 섞고 batch 형태로 가져옵니다.\n",
        "train_data = tf.data.Dataset.from_tensor_slices((x_train, y_train))\n",
        "train_data = train_data.shuffle(60000).batch(batch_size)\n",
        "\n",
        "# ANN 모델을 정의합니다.\n",
        "class ANN(object):\n",
        "  # ANN 모델을 위한 tf.Variable들을 정의합니다.\n",
        "  def __init__(self):\n",
        "    self.W1 = tf.Variable(tf.random.normal(shape=[input_size, hidden1_size]))\n",
        "    self.b1 = tf.Variable(tf.random.normal(shape=[hidden1_size]))\n",
        "    self.W2 = tf.Variable(tf.random.normal(shape=[hidden1_size, hidden2_size]))\n",
        "    self.b2 = tf.Variable(tf.random.normal(shape=[hidden2_size]))\n",
        "    self.W_output = tf.Variable(tf.random.normal(shape=[hidden2_size, output_size]))\n",
        "    self.b_output = tf.Variable(tf.random.normal(shape=[output_size]))\n",
        "\n",
        "  def __call__(self, x):\n",
        "    H1_output = tf.nn.relu(tf.matmul(x, self.W1) + self.b1)\n",
        "    H2_output = tf.nn.relu(tf.matmul(H1_output, self.W2) + self.b2)\n",
        "    logits = tf.matmul(H2_output, self.W_output) + self.b_output\n",
        "#    logits = tf.nn.softmax(logits)\n",
        "\n",
        "    return logits"
      ],
      "metadata": {
        "id": "4PtX1nRzzSiu"
      },
      "execution_count": 61,
      "outputs": []
    },
    {
      "cell_type": "code",
      "source": [
        "# cross-entropy 손실 함수를 정의합니다.\n",
        "@tf.function\n",
        "def cross_entropy_loss(logits, y):\n",
        "  return tf.reduce_mean(tf.nn.softmax_cross_entropy_with_logits(logits=logits, labels=y))\n",
        "\n",
        "# 최적화를 위한 Adam 옵티마이저를 정의합니다.\n",
        "optimizer = tf.optimizers.Adam(learning_rate)\n",
        "\n",
        "# 최적화를 위한 function을 정의합니다.\n",
        "@tf.function\n",
        "def train_step(model, x, y):\n",
        "  with tf.GradientTape() as tape:\n",
        "    y_pred = model(x)\n",
        "    loss = cross_entropy_loss(y_pred, y)\n",
        "  gradients = tape.gradient(loss, vars(model).values())\n",
        "  optimizer.apply_gradients(zip(gradients, vars(model).values()))\n",
        "\n",
        "# 모델의 정확도를 출력하는 함수를 정의합니다.\n",
        "@tf.function\n",
        "def compute_accuracy(y_pred, y):\n",
        "  correct_prediction = tf.equal(tf.argmax(y_pred,1), tf.argmax(y,1))\n",
        "  accuracy = tf.reduce_mean(tf.cast(correct_prediction, tf.float32))\n",
        "\n",
        "  return accuracy"
      ],
      "metadata": {
        "id": "CpwzIKfLzbJJ"
      },
      "execution_count": 62,
      "outputs": []
    },
    {
      "cell_type": "code",
      "source": [
        "# ANN 모델을 선언합니다.\n",
        "ANN_model = ANN()\n",
        "\n",
        "# 지정된 횟수만큼 최적화를 수행합니다.\n",
        "for epoch in range(num_epochs):\n",
        "  average_loss = 0.\n",
        "  total_batch = int(x_train.shape[0] / batch_size)\n",
        "  # 모든 배치들에 대해서 최적화를 수행합니다.\n",
        "  for batch_x, batch_y in train_data:\n",
        "    # 옵티마이저를 실행해서 파라마터들을 업데이트합니다.\n",
        "    _, current_loss = train_step(ANN_model, batch_x, batch_y), cross_entropy_loss(ANN_model(batch_x), batch_y)\n",
        "    # 평균 손실을 측정합니다.\n",
        "    average_loss += current_loss / total_batch\n",
        "  # 지정된 epoch마다 학습결과를 출력합니다.\n",
        "  if epoch % display_step == 0:\n",
        "    print(\"반복(Epoch): %d\" % (epoch+1), \"정확도 (Accuracy): %f\" % compute_accuracy(ANN_model(batch_x), batch_y), \"손실 함수(Loss): %f\" % average_loss)\n",
        "    print(\"Test데이터 - 정확도(Accuracy): %f\" % compute_accuracy(ANN_model(x_test), y_test),\" / 손실(loss): %f\" % cross_entropy_loss(ANN_model(x_test), y_test)) # 정확도: 약 94%\n",
        "#    y_test_pre=ANN_model(bmpSample_t_3)\n",
        "    print(tf.math.round(ANN_model(bmpSample_t_1)).numpy())\n",
        "    print(tf.math.round(ANN_model(bmpSample_t_2)).numpy())\n",
        "    print(tf.math.round(ANN_model(bmpSample_t_3)).numpy())\n",
        "\n",
        "\n"
      ],
      "metadata": {
        "colab": {
          "base_uri": "https://localhost:8080/"
        },
        "id": "QaWV-Pl-zdL3",
        "outputId": "159e81a3-b1af-4fb1-a8ac-34c7a2a7bcfe"
      },
      "execution_count": 63,
      "outputs": [
        {
          "output_type": "stream",
          "name": "stdout",
          "text": [
            "반복(Epoch): 1 정확도 (Accuracy): 0.718750 손실 함수(Loss): 218.023056\n",
            "Test데이터 - 정확도(Accuracy): 0.823200  / 손실(loss): 69.270065\n",
            "[[  90.  -20.   14. -118.  102.   22.   98.   74.  -49. -102.]]\n",
            "[[ 105.  -33.    5. -142.  106.    7.   99.   88.  -39.  -87.]]\n",
            "[[  99.  -35.    7. -142.  116.   10.   98.   85.  -40.  -89.]]\n",
            "반복(Epoch): 2 정확도 (Accuracy): 0.927083 손실 함수(Loss): 55.838928\n",
            "Test데이터 - 정확도(Accuracy): 0.873000  / 손실(loss): 43.938889\n",
            "[[  79.  -19.   10. -107.   92.   45.   84.   78.  -46.  -82.]]\n",
            "[[  95.  -32.    2. -132.   90.   28.   81.   91.  -40.  -71.]]\n",
            "[[  89.  -33.    4. -134.  101.   32.   84.   86.  -42.  -75.]]\n",
            "반복(Epoch): 3 정확도 (Accuracy): 0.875000 손실 함수(Loss): 36.200073\n",
            "Test데이터 - 정확도(Accuracy): 0.893900  / 손실(loss): 33.564812\n",
            "[[ 66. -13.  14. -91.  85.  54.  77.  78. -47. -70.]]\n",
            "[[  83.  -24.    7. -116.   81.   38.   75.   90.  -41.  -60.]]\n",
            "[[  77.  -26.    9. -118.   92.   42.   80.   85.  -42.  -66.]]\n",
            "반복(Epoch): 4 정확도 (Accuracy): 0.927083 손실 함수(Loss): 26.900976\n",
            "Test데이터 - 정확도(Accuracy): 0.904900  / 손실(loss): 28.499868\n",
            "[[ 65.  -7.  19. -78.  79.  57.  68.  82. -53. -60.]]\n",
            "[[  81.  -18.   12. -104.   74.   40.   66.   93.  -46.  -52.]]\n",
            "[[  76.  -20.   15. -105.   85.   44.   72.   88.  -47.  -58.]]\n",
            "반복(Epoch): 5 정확도 (Accuracy): 0.895833 손실 함수(Loss): 20.917509\n",
            "Test데이터 - 정확도(Accuracy): 0.914200  / 손실(loss): 25.269217\n",
            "[[ 65.  -9.  22. -76.  79.  65.  56.  79. -51. -58.]]\n",
            "[[  81.  -20.   14. -103.   75.   48.   54.   90.  -43.  -48.]]\n",
            "[[  76.  -22.   18. -103.   86.   53.   61.   85.  -44.  -55.]]\n",
            "반복(Epoch): 6 정확도 (Accuracy): 0.916667 손실 함수(Loss): 16.714344\n",
            "Test데이터 - 정확도(Accuracy): 0.918300  / 손실(loss): 23.274485\n",
            "[[ 66.  -5.  21. -70.  68.  61.  56.  83. -48. -52.]]\n",
            "[[ 82. -15.  13. -97.  62.  45.  55.  92. -38. -45.]]\n",
            "[[ 77. -16.  18. -97.  73.  49.  63.  86. -40. -52.]]\n",
            "반복(Epoch): 7 정확도 (Accuracy): 0.937500 손실 함수(Loss): 13.721038\n",
            "Test데이터 - 정확도(Accuracy): 0.923000  / 손실(loss): 20.981121\n",
            "[[ 59.  -7.  22. -65.  71.  64.  53.  81. -43. -53.]]\n",
            "[[ 74. -16.  14. -93.  65.  47.  51.  90. -34. -47.]]\n",
            "[[ 71. -17.  19. -94.  76.  51.  59.  85. -35. -54.]]\n",
            "반복(Epoch): 8 정확도 (Accuracy): 0.947917 손실 함수(Loss): 11.177574\n",
            "Test데이터 - 정확도(Accuracy): 0.927800  / 손실(loss): 19.592264\n",
            "[[ 61.  -4.  25. -63.  73.  61.  51.  80. -41. -50.]]\n",
            "[[ 75. -12.  16. -91.  66.  44.  50.  90. -33. -46.]]\n",
            "[[ 73. -13.  22. -91.  77.  48.  58.  85. -34. -53.]]\n",
            "반복(Epoch): 9 정확도 (Accuracy): 0.916667 손실 함수(Loss): 9.126825\n",
            "Test데이터 - 정확도(Accuracy): 0.927800  / 손실(loss): 18.855980\n",
            "[[ 62.  -5.  23. -63.  70.  61.  49.  80. -34. -52.]]\n",
            "[[ 76. -14.  14. -91.  61.  44.  49.  88. -26. -48.]]\n",
            "[[ 74. -15.  20. -91.  73.  48.  57.  83. -27. -55.]]\n",
            "반복(Epoch): 10 정확도 (Accuracy): 0.958333 손실 함수(Loss): 7.529597\n",
            "Test데이터 - 정확도(Accuracy): 0.929400  / 손실(loss): 17.769310\n",
            "[[ 59.  -3.  28. -58.  68.  68.  46.  69. -39. -51.]]\n",
            "[[ 75. -11.  20. -86.  59.  51.  46.  78. -30. -48.]]\n",
            "[[ 72. -11.  26. -86.  71.  55.  54.  73. -30. -54.]]\n",
            "반복(Epoch): 11 정확도 (Accuracy): 0.979167 손실 함수(Loss): 6.212470\n",
            "Test데이터 - 정확도(Accuracy): 0.929300  / 손실(loss): 17.773853\n",
            "[[ 59.  -0.  27. -58.  69.  60.  50.  75. -37. -52.]]\n",
            "[[ 75.  -8.  18. -86.  60.  44.  50.  85. -28. -48.]]\n",
            "[[ 73.  -8.  25. -86.  72.  48.  58.  80. -29. -55.]]\n",
            "반복(Epoch): 12 정확도 (Accuracy): 0.979167 손실 함수(Loss): 5.125670\n",
            "Test데이터 - 정확도(Accuracy): 0.932800  / 손실(loss): 16.358793\n",
            "[[ 58.  -3.  32. -54.  69.  64.  49.  69. -38. -54.]]\n",
            "[[ 75. -11.  24. -82.  59.  48.  49.  77. -29. -49.]]\n",
            "[[ 72. -11.  30. -81.  72.  51.  57.  73. -30. -56.]]\n",
            "반복(Epoch): 13 정확도 (Accuracy): 0.968750 손실 함수(Loss): 4.189439\n",
            "Test데이터 - 정확도(Accuracy): 0.932900  / 손실(loss): 15.808197\n",
            "[[ 57.  -7.  33. -54.  67.  62.  47.  70. -34. -49.]]\n",
            "[[ 74. -14.  23. -83.  57.  46.  47.  79. -26. -45.]]\n",
            "[[ 71. -15.  29. -82.  69.  50.  55.  75. -27. -52.]]\n",
            "반복(Epoch): 14 정확도 (Accuracy): 0.989583 손실 함수(Loss): 3.415183\n",
            "Test데이터 - 정확도(Accuracy): 0.935200  / 손실(loss): 15.413593\n",
            "[[ 58.  -2.  31. -57.  67.  65.  51.  66. -36. -49.]]\n",
            "[[ 75. -10.  22. -85.  57.  49.  51.  74. -27. -46.]]\n",
            "[[ 72. -10.  29. -85.  69.  52.  59.  71. -28. -52.]]\n",
            "반복(Epoch): 15 정확도 (Accuracy): 0.979167 손실 함수(Loss): 2.771881\n",
            "Test데이터 - 정확도(Accuracy): 0.935000  / 손실(loss): 15.256547\n",
            "[[ 58.   4.  38. -55.  59.  64.  51.  60. -32. -53.]]\n",
            "[[ 77.  -5.  29. -83.  50.  47.  51.  70. -23. -49.]]\n",
            "[[ 73.  -4.  36. -82.  62.  51.  59.  66. -24. -56.]]\n",
            "반복(Epoch): 16 정확도 (Accuracy): 0.989583 손실 함수(Loss): 2.207731\n",
            "Test데이터 - 정확도(Accuracy): 0.936500  / 손실(loss): 14.802387\n",
            "[[ 59.   5.  41. -57.  65.  68.  46.  58. -38. -50.]]\n",
            "[[ 77.  -4.  31. -86.  56.  51.  47.  68. -30. -46.]]\n",
            "[[ 74.  -3.  38. -85.  69.  54.  55.  64. -31. -53.]]\n",
            "반복(Epoch): 17 정확도 (Accuracy): 0.989583 손실 함수(Loss): 1.780051\n",
            "Test데이터 - 정확도(Accuracy): 0.938600  / 손실(loss): 14.485325\n",
            "[[ 59.   9.  39. -58.  63.  66.  50.  57. -35. -45.]]\n",
            "[[ 77.  -0.  29. -86.  52.  49.  51.  67. -27. -43.]]\n",
            "[[ 74.   2.  35. -86.  65.  53.  58.  63. -26. -49.]]\n",
            "반복(Epoch): 18 정확도 (Accuracy): 1.000000 손실 함수(Loss): 1.472521\n",
            "Test데이터 - 정확도(Accuracy): 0.938100  / 손실(loss): 14.492706\n",
            "[[ 61.   3.  44. -56.  65.  64.  53.  58. -28. -46.]]\n",
            "[[ 78.  -5.  35. -84.  54.  47.  53.  67. -21. -43.]]\n",
            "[[ 75.  -5.  42. -83.  68.  50.  61.  63. -22. -50.]]\n",
            "반복(Epoch): 19 정확도 (Accuracy): 1.000000 손실 함수(Loss): 1.147797\n",
            "Test데이터 - 정확도(Accuracy): 0.939500  / 손실(loss): 14.156328\n",
            "[[ 59.   8.  41. -55.  64.  63.  51.  62. -28. -46.]]\n",
            "[[ 76.  -1.  31. -84.  53.  44.  53.  71. -22. -43.]]\n",
            "[[ 73.   1.  38. -83.  66.  49.  59.  67. -22. -49.]]\n",
            "반복(Epoch): 20 정확도 (Accuracy): 1.000000 손실 함수(Loss): 0.930889\n",
            "Test데이터 - 정확도(Accuracy): 0.938600  / 손실(loss): 14.268753\n",
            "[[ 63.  11.  48. -57.  65.  63.  49.  63. -30. -52.]]\n",
            "[[ 81.   1.  39. -86.  54.  46.  51.  72. -24. -48.]]\n",
            "[[ 77.   3.  45. -85.  68.  50.  58.  68. -24. -55.]]\n",
            "반복(Epoch): 21 정확도 (Accuracy): 0.989583 손실 함수(Loss): 0.735136\n",
            "Test데이터 - 정확도(Accuracy): 0.938400  / 손실(loss): 13.888946\n",
            "[[ 63.  16.  49. -59.  65.  64.  46.  48. -28. -53.]]\n",
            "[[ 80.   6.  38. -88.  56.  46.  48.  56. -23. -48.]]\n",
            "[[ 77.   9.  45. -87.  70.  51.  55.  52. -22. -55.]]\n",
            "반복(Epoch): 22 정확도 (Accuracy): 1.000000 손실 함수(Loss): 0.555199\n",
            "Test데이터 - 정확도(Accuracy): 0.941000  / 손실(loss): 13.539518\n",
            "[[ 60.   7.  50. -55.  67.  72.  49.  49. -28. -48.]]\n",
            "[[ 78.  -1.  40. -84.  55.  54.  50.  57. -22. -44.]]\n",
            "[[ 75.   1.  45. -84.  69.  58.  57.  52. -22. -50.]]\n",
            "반복(Epoch): 23 정확도 (Accuracy): 1.000000 손실 함수(Loss): 0.425956\n",
            "Test데이터 - 정확도(Accuracy): 0.940200  / 손실(loss): 13.621380\n",
            "[[ 63.  17.  52. -52.  65.  65.  53.  48. -33. -52.]]\n",
            "[[ 80.   8.  41. -82.  55.  47.  54.  57. -27. -48.]]\n",
            "[[ 77.  11.  47. -81.  69.  51.  61.  53. -26. -55.]]\n",
            "반복(Epoch): 24 정확도 (Accuracy): 1.000000 손실 함수(Loss): 0.347269\n",
            "Test데이터 - 정확도(Accuracy): 0.941200  / 손실(loss): 13.607493\n",
            "[[ 64.  13.  49. -55.  68.  67.  51.  49. -29. -47.]]\n",
            "[[ 81.   4.  39. -85.  59.  49.  52.  58. -24. -43.]]\n",
            "[[ 78.   7.  45. -84.  74.  53.  59.  54. -24. -49.]]\n",
            "반복(Epoch): 25 정확도 (Accuracy): 0.989583 손실 함수(Loss): 0.252837\n",
            "Test데이터 - 정확도(Accuracy): 0.941900  / 손실(loss): 13.243693\n",
            "[[ 67.  13.  50. -54.  63.  67.  53.  49. -27. -52.]]\n",
            "[[ 84.   5.  41. -85.  52.  49.  55.  58. -22. -49.]]\n",
            "[[ 80.   8.  46. -84.  67.  53.  62.  53. -21. -54.]]\n",
            "반복(Epoch): 26 정확도 (Accuracy): 1.000000 손실 함수(Loss): 0.229485\n",
            "Test데이터 - 정확도(Accuracy): 0.944400  / 손실(loss): 12.949791\n",
            "[[ 72.  18.  55. -56.  65.  63.  57.  40. -28. -51.]]\n",
            "[[ 89.  10.  44. -87.  55.  44.  59.  47. -23. -48.]]\n",
            "[[ 85.  13.  49. -86.  69.  48.  67.  44. -23. -54.]]\n",
            "반복(Epoch): 27 정확도 (Accuracy): 1.000000 손실 함수(Loss): 0.177219\n",
            "Test데이터 - 정확도(Accuracy): 0.942800  / 손실(loss): 13.158156\n",
            "[[ 65.  19.  54. -54.  66.  69.  55.  40. -27. -58.]]\n",
            "[[ 82.   9.  43. -86.  56.  49.  57.  49. -24. -54.]]\n",
            "[[ 78.  13.  49. -85.  71.  53.  64.  45. -23. -60.]]\n",
            "반복(Epoch): 28 정확도 (Accuracy): 1.000000 손실 함수(Loss): 0.147494\n",
            "Test데이터 - 정확도(Accuracy): 0.944100  / 손실(loss): 13.175092\n",
            "[[ 65.  20.  57. -55.  60.  71.  51.  46. -32. -52.]]\n",
            "[[ 81.  11.  46. -86.  51.  52.  51.  57. -28. -49.]]\n",
            "[[ 79.  14.  52. -84.  65.  55.  59.  52. -27. -55.]]\n",
            "반복(Epoch): 29 정확도 (Accuracy): 1.000000 손실 함수(Loss): 0.123991\n",
            "Test데이터 - 정확도(Accuracy): 0.944600  / 손실(loss): 12.672184\n",
            "[[ 65.  13.  60. -53.  57.  66.  63.  45. -29. -52.]]\n",
            "[[ 83.   4.  47. -83.  48.  47.  63.  53. -25. -48.]]\n",
            "[[ 80.   6.  54. -82.  62.  51.  71.  49. -25. -54.]]\n",
            "반복(Epoch): 30 정확도 (Accuracy): 1.000000 손실 함수(Loss): 0.102489\n",
            "Test데이터 - 정확도(Accuracy): 0.944800  / 손실(loss): 12.731127\n",
            "[[ 67.  19.  55. -53.  63.  67.  60.  43. -25. -58.]]\n",
            "[[ 85.  10.  44. -84.  55.  48.  60.  51. -21. -54.]]\n",
            "[[ 82.  13.  51. -81.  69.  52.  68.  48. -20. -60.]]\n"
          ]
        }
      ]
    },
    {
      "cell_type": "code",
      "source": [
        "# 테스트 데이터를 이용해서 학습된 모델이 얼마나 정확한지 정확도를 출력합니다.\n",
        "print(\"정확도(Accuracy): %f\" % compute_accuracy(ANN_model(x_test), y_test)) # 정확도: 약 94%"
      ],
      "metadata": {
        "id": "1-Yv11qHzeyj",
        "colab": {
          "base_uri": "https://localhost:8080/"
        },
        "outputId": "88afac6f-1408-4e5c-99e3-2beaf9221b8d"
      },
      "execution_count": 64,
      "outputs": [
        {
          "output_type": "stream",
          "name": "stdout",
          "text": [
            "정확도(Accuracy): 0.944800\n"
          ]
        }
      ]
    }
  ]
}