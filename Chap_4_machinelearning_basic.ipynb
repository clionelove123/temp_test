{
  "nbformat": 4,
  "nbformat_minor": 0,
  "metadata": {
    "colab": {
      "provenance": [],
      "authorship_tag": "ABX9TyMrn9c2CF5afu/FMV6YGfwB",
      "include_colab_link": true
    },
    "kernelspec": {
      "name": "python3",
      "display_name": "Python 3"
    },
    "language_info": {
      "name": "python"
    }
  },
  "cells": [
    {
      "cell_type": "markdown",
      "metadata": {
        "id": "view-in-github",
        "colab_type": "text"
      },
      "source": [
        "<a href=\"https://colab.research.google.com/github/clionelove123/temp_test/blob/main/Chap_4_machinelearning_basic.ipynb\" target=\"_parent\"><img src=\"https://colab.research.google.com/assets/colab-badge.svg\" alt=\"Open In Colab\"/></a>"
      ]
    },
    {
      "cell_type": "code",
      "execution_count": 1,
      "metadata": {
        "id": "9PiuI7Wzu72A"
      },
      "outputs": [],
      "source": [
        "import tensorflow as tf"
      ]
    },
    {
      "cell_type": "code",
      "source": [
        "# MNIST 데이터를 다운로드 합니다.\n",
        "(x_train, y_train), (x_test, y_test) = tf.keras.datasets.mnist.load_data()\n",
        "# 이미지들을 float32 데이터 타입으로 변경합니다.\n",
        "x_train, x_test = x_train.astype('float32'), x_test.astype('float32')\n",
        "# 28*28 형태의 이미지를 784차원으로 flattening 합니다.\n",
        "x_train, x_test = x_train.reshape([-1, 784]), x_test.reshape([-1, 784])\n",
        "# [0, 255] 사이의 값을 [0, 1]사이의 값으로 Normalize합니다.\n",
        "x_train, x_test = x_train / 255., x_test / 255.\n",
        "# 레이블 데이터에 one-hot encoding을 적용합니다.\n",
        "y_train, y_test = tf.one_hot(y_train, depth=10), tf.one_hot(y_test, depth=10)"
      ],
      "metadata": {
        "id": "e0GJ4ab2vYtW"
      },
      "execution_count": 2,
      "outputs": []
    },
    {
      "cell_type": "code",
      "source": [
        "# tf.data API를 이용해서 데이터를 섞고 batch 형태로 가져옵니다.\n",
        "train_data = tf.data.Dataset.from_tensor_slices((x_train, y_train))\n",
        "train_data = train_data.repeat().shuffle(60000).batch(100)\n",
        "train_data_iter = iter(train_data)"
      ],
      "metadata": {
        "id": "MnayqvgCvY1Z"
      },
      "execution_count": 3,
      "outputs": []
    },
    {
      "cell_type": "code",
      "source": [
        "# Softmax Regression 모델을 위한 tf.Variable들을 정의합니다.\n",
        "W = tf.Variable(tf.zeros(shape=[784, 10]))\n",
        "b = tf.Variable(tf.zeros(shape=[10]))"
      ],
      "metadata": {
        "id": "eUzsM87PvY33"
      },
      "execution_count": 4,
      "outputs": []
    },
    {
      "cell_type": "code",
      "source": [
        "# Softmax Regression 모델을 정의합니다.\n",
        "@tf.function\n",
        "def softmax_regression(x):\n",
        "  logits = tf.matmul(x, W) + b\n",
        "  return tf.nn.softmax(logits)"
      ],
      "metadata": {
        "id": "soTCXvZPvY6B"
      },
      "execution_count": 5,
      "outputs": []
    },
    {
      "cell_type": "code",
      "source": [
        "# cross-entropy 손실 함수를 정의합니다.\n",
        "@tf.function\n",
        "def cross_entropy_loss(y_pred, y):\n",
        "  return tf.reduce_mean(-tf.reduce_sum(y * tf.math.log(y_pred), axis=[1]))\n",
        "  #return tf.reduce_mean(tf.nn.softmax_cross_entropy_with_logits(logits=logtis, labels=y)) # tf.nn.softmax_cross_entropy_with_logits API를 이용한 구현"
      ],
      "metadata": {
        "id": "7SLMuTlYvY8S"
      },
      "execution_count": 6,
      "outputs": []
    },
    {
      "cell_type": "code",
      "source": [
        "# 모델의 정확도를 출력하는 함수를 정의합니다.\n",
        "@tf.function\n",
        "def compute_accuracy(y_pred, y):\n",
        "  correct_prediction = tf.equal(tf.argmax(y_pred,1), tf.argmax(y,1))\n",
        "  accuracy = tf.reduce_mean(tf.cast(correct_prediction, tf.float32))\n",
        "  return accuracy"
      ],
      "metadata": {
        "id": "oc4qDkq_vY-n"
      },
      "execution_count": 7,
      "outputs": []
    },
    {
      "cell_type": "code",
      "source": [
        "# 최적화를 위한 그라디언트 디센트 옵티마이저를 정의합니다.\n",
        "optimizer = tf.optimizers.SGD(0.5)"
      ],
      "metadata": {
        "id": "Lm3Y4nZtvu5O"
      },
      "execution_count": 8,
      "outputs": []
    },
    {
      "cell_type": "code",
      "source": [
        "# 최적화를 위한 function을 정의합니다.\n",
        "@tf.function\n",
        "def train_step(x, y):\n",
        "  with tf.GradientTape() as tape:\n",
        "    y_pred = softmax_regression(x)\n",
        "    loss = cross_entropy_loss(y_pred, y)\n",
        "  gradients = tape.gradient(loss, [W, b])\n",
        "  optimizer.apply_gradients(zip(gradients, [W, b]))"
      ],
      "metadata": {
        "id": "DOTFNXrtvu7h"
      },
      "execution_count": 9,
      "outputs": []
    },
    {
      "cell_type": "code",
      "source": [
        "# 1000번 반복을 수행하면서 최적화를 수행합니다.\n",
        "for i in range(1000):\n",
        "  batch_xs, batch_ys = next(train_data_iter)\n",
        "  train_step(batch_xs, batch_ys)\n",
        "  if i<10:\n",
        "    print(\"정확도(Accuracy): %f\" % compute_accuracy(softmax_regression(x_test), y_test))\n",
        "  else:\n",
        "    if (i%100)<1:\n",
        "      print(\"정확도(Accuracy): %f\" % compute_accuracy(softmax_regression(x_test), y_test))"
      ],
      "metadata": {
        "id": "Nftb2oa4v4x5",
        "colab": {
          "base_uri": "https://localhost:8080/"
        },
        "outputId": "c0ebfbe4-bae2-41d1-9b8c-9825bad47551"
      },
      "execution_count": 10,
      "outputs": [
        {
          "output_type": "stream",
          "name": "stdout",
          "text": [
            "정확도(Accuracy): 0.266200\n",
            "정확도(Accuracy): 0.543100\n",
            "정확도(Accuracy): 0.490000\n",
            "정확도(Accuracy): 0.649700\n",
            "정확도(Accuracy): 0.627800\n",
            "정확도(Accuracy): 0.664200\n",
            "정확도(Accuracy): 0.708600\n",
            "정확도(Accuracy): 0.724000\n",
            "정확도(Accuracy): 0.776900\n",
            "정확도(Accuracy): 0.759400\n",
            "정확도(Accuracy): 0.892800\n",
            "정확도(Accuracy): 0.903900\n",
            "정확도(Accuracy): 0.910900\n",
            "정확도(Accuracy): 0.909900\n",
            "정확도(Accuracy): 0.914900\n",
            "정확도(Accuracy): 0.914500\n",
            "정확도(Accuracy): 0.915500\n",
            "정확도(Accuracy): 0.917200\n",
            "정확도(Accuracy): 0.916700\n"
          ]
        }
      ]
    },
    {
      "cell_type": "code",
      "source": [
        "# 학습이 끝나면 학습된 모델의 정확도를 출력합니다.\n",
        "print(\"정확도(Accuracy): %f\" % compute_accuracy(softmax_regression(x_test), y_test)) # 정확도 : 약 91%"
      ],
      "metadata": {
        "colab": {
          "base_uri": "https://localhost:8080/"
        },
        "id": "vGQsZ0_Ov40f",
        "outputId": "4cee02ca-925f-4037-9120-4a6b08650c63"
      },
      "execution_count": 11,
      "outputs": [
        {
          "output_type": "stream",
          "name": "stdout",
          "text": [
            "정확도(Accuracy): 0.917100\n"
          ]
        }
      ]
    },
    {
      "cell_type": "code",
      "source": [
        "import numpy as np\n",
        "import os\n",
        "import PIL\n",
        "import PIL.Image\n",
        "import tensorflow as tf\n",
        "import tensorflow_datasets as tfds\n",
        "\n",
        "from google.colab import files\n",
        "uploaded = files.upload()"
      ],
      "metadata": {
        "colab": {
          "base_uri": "https://localhost:8080/",
          "height": 41
        },
        "id": "fk45Hxd7dx80",
        "outputId": "6f9781ce-e433-4977-aa15-c9adef90e275"
      },
      "execution_count": 13,
      "outputs": [
        {
          "output_type": "display_data",
          "data": {
            "text/plain": [
              "<IPython.core.display.HTML object>"
            ],
            "text/html": [
              "\n",
              "     <input type=\"file\" id=\"files-7adc5c01-62f9-4cfc-99b5-3a88cdb581ce\" name=\"files[]\" multiple disabled\n",
              "        style=\"border:none\" />\n",
              "     <output id=\"result-7adc5c01-62f9-4cfc-99b5-3a88cdb581ce\">\n",
              "      Upload widget is only available when the cell has been executed in the\n",
              "      current browser session. Please rerun this cell to enable.\n",
              "      </output>\n",
              "      <script>// Copyright 2017 Google LLC\n",
              "//\n",
              "// Licensed under the Apache License, Version 2.0 (the \"License\");\n",
              "// you may not use this file except in compliance with the License.\n",
              "// You may obtain a copy of the License at\n",
              "//\n",
              "//      http://www.apache.org/licenses/LICENSE-2.0\n",
              "//\n",
              "// Unless required by applicable law or agreed to in writing, software\n",
              "// distributed under the License is distributed on an \"AS IS\" BASIS,\n",
              "// WITHOUT WARRANTIES OR CONDITIONS OF ANY KIND, either express or implied.\n",
              "// See the License for the specific language governing permissions and\n",
              "// limitations under the License.\n",
              "\n",
              "/**\n",
              " * @fileoverview Helpers for google.colab Python module.\n",
              " */\n",
              "(function(scope) {\n",
              "function span(text, styleAttributes = {}) {\n",
              "  const element = document.createElement('span');\n",
              "  element.textContent = text;\n",
              "  for (const key of Object.keys(styleAttributes)) {\n",
              "    element.style[key] = styleAttributes[key];\n",
              "  }\n",
              "  return element;\n",
              "}\n",
              "\n",
              "// Max number of bytes which will be uploaded at a time.\n",
              "const MAX_PAYLOAD_SIZE = 100 * 1024;\n",
              "\n",
              "function _uploadFiles(inputId, outputId) {\n",
              "  const steps = uploadFilesStep(inputId, outputId);\n",
              "  const outputElement = document.getElementById(outputId);\n",
              "  // Cache steps on the outputElement to make it available for the next call\n",
              "  // to uploadFilesContinue from Python.\n",
              "  outputElement.steps = steps;\n",
              "\n",
              "  return _uploadFilesContinue(outputId);\n",
              "}\n",
              "\n",
              "// This is roughly an async generator (not supported in the browser yet),\n",
              "// where there are multiple asynchronous steps and the Python side is going\n",
              "// to poll for completion of each step.\n",
              "// This uses a Promise to block the python side on completion of each step,\n",
              "// then passes the result of the previous step as the input to the next step.\n",
              "function _uploadFilesContinue(outputId) {\n",
              "  const outputElement = document.getElementById(outputId);\n",
              "  const steps = outputElement.steps;\n",
              "\n",
              "  const next = steps.next(outputElement.lastPromiseValue);\n",
              "  return Promise.resolve(next.value.promise).then((value) => {\n",
              "    // Cache the last promise value to make it available to the next\n",
              "    // step of the generator.\n",
              "    outputElement.lastPromiseValue = value;\n",
              "    return next.value.response;\n",
              "  });\n",
              "}\n",
              "\n",
              "/**\n",
              " * Generator function which is called between each async step of the upload\n",
              " * process.\n",
              " * @param {string} inputId Element ID of the input file picker element.\n",
              " * @param {string} outputId Element ID of the output display.\n",
              " * @return {!Iterable<!Object>} Iterable of next steps.\n",
              " */\n",
              "function* uploadFilesStep(inputId, outputId) {\n",
              "  const inputElement = document.getElementById(inputId);\n",
              "  inputElement.disabled = false;\n",
              "\n",
              "  const outputElement = document.getElementById(outputId);\n",
              "  outputElement.innerHTML = '';\n",
              "\n",
              "  const pickedPromise = new Promise((resolve) => {\n",
              "    inputElement.addEventListener('change', (e) => {\n",
              "      resolve(e.target.files);\n",
              "    });\n",
              "  });\n",
              "\n",
              "  const cancel = document.createElement('button');\n",
              "  inputElement.parentElement.appendChild(cancel);\n",
              "  cancel.textContent = 'Cancel upload';\n",
              "  const cancelPromise = new Promise((resolve) => {\n",
              "    cancel.onclick = () => {\n",
              "      resolve(null);\n",
              "    };\n",
              "  });\n",
              "\n",
              "  // Wait for the user to pick the files.\n",
              "  const files = yield {\n",
              "    promise: Promise.race([pickedPromise, cancelPromise]),\n",
              "    response: {\n",
              "      action: 'starting',\n",
              "    }\n",
              "  };\n",
              "\n",
              "  cancel.remove();\n",
              "\n",
              "  // Disable the input element since further picks are not allowed.\n",
              "  inputElement.disabled = true;\n",
              "\n",
              "  if (!files) {\n",
              "    return {\n",
              "      response: {\n",
              "        action: 'complete',\n",
              "      }\n",
              "    };\n",
              "  }\n",
              "\n",
              "  for (const file of files) {\n",
              "    const li = document.createElement('li');\n",
              "    li.append(span(file.name, {fontWeight: 'bold'}));\n",
              "    li.append(span(\n",
              "        `(${file.type || 'n/a'}) - ${file.size} bytes, ` +\n",
              "        `last modified: ${\n",
              "            file.lastModifiedDate ? file.lastModifiedDate.toLocaleDateString() :\n",
              "                                    'n/a'} - `));\n",
              "    const percent = span('0% done');\n",
              "    li.appendChild(percent);\n",
              "\n",
              "    outputElement.appendChild(li);\n",
              "\n",
              "    const fileDataPromise = new Promise((resolve) => {\n",
              "      const reader = new FileReader();\n",
              "      reader.onload = (e) => {\n",
              "        resolve(e.target.result);\n",
              "      };\n",
              "      reader.readAsArrayBuffer(file);\n",
              "    });\n",
              "    // Wait for the data to be ready.\n",
              "    let fileData = yield {\n",
              "      promise: fileDataPromise,\n",
              "      response: {\n",
              "        action: 'continue',\n",
              "      }\n",
              "    };\n",
              "\n",
              "    // Use a chunked sending to avoid message size limits. See b/62115660.\n",
              "    let position = 0;\n",
              "    do {\n",
              "      const length = Math.min(fileData.byteLength - position, MAX_PAYLOAD_SIZE);\n",
              "      const chunk = new Uint8Array(fileData, position, length);\n",
              "      position += length;\n",
              "\n",
              "      const base64 = btoa(String.fromCharCode.apply(null, chunk));\n",
              "      yield {\n",
              "        response: {\n",
              "          action: 'append',\n",
              "          file: file.name,\n",
              "          data: base64,\n",
              "        },\n",
              "      };\n",
              "\n",
              "      let percentDone = fileData.byteLength === 0 ?\n",
              "          100 :\n",
              "          Math.round((position / fileData.byteLength) * 100);\n",
              "      percent.textContent = `${percentDone}% done`;\n",
              "\n",
              "    } while (position < fileData.byteLength);\n",
              "  }\n",
              "\n",
              "  // All done.\n",
              "  yield {\n",
              "    response: {\n",
              "      action: 'complete',\n",
              "    }\n",
              "  };\n",
              "}\n",
              "\n",
              "scope.google = scope.google || {};\n",
              "scope.google.colab = scope.google.colab || {};\n",
              "scope.google.colab._files = {\n",
              "  _uploadFiles,\n",
              "  _uploadFilesContinue,\n",
              "};\n",
              "})(self);\n",
              "</script> "
            ]
          },
          "metadata": {}
        }
      ]
    },
    {
      "cell_type": "code",
      "source": [
        "import matplotlib.pyplot as plt\n",
        "import matplotlib.image as mpimg\n",
        " \n",
        "bmpSample = mpimg.imread('temp1.bmp')\n",
        "bmpSample_2 = mpimg.imread('temp2.bmp')\n",
        "bmpSample_3 = mpimg.imread('temp3.png')\n",
        "\n",
        "#plt.figure(figsize=(15, 10))\n",
        "#plt.subplot(1,3,1)\n",
        "#plt.title('bmp')\n",
        "\n",
        "\n",
        "plt.imshow(bmpSample)\n",
        "plt.imshow(bmpSample_3)\n",
        "\n"
      ],
      "metadata": {
        "colab": {
          "base_uri": "https://localhost:8080/",
          "height": 283
        },
        "id": "LopzQKHod0Cj",
        "outputId": "67c93675-46a8-4797-a15e-18a7951b706a"
      },
      "execution_count": 15,
      "outputs": [
        {
          "output_type": "execute_result",
          "data": {
            "text/plain": [
              "<matplotlib.image.AxesImage at 0x7f027794c1c0>"
            ]
          },
          "metadata": {},
          "execution_count": 15
        },
        {
          "output_type": "display_data",
          "data": {
            "text/plain": [
              "<Figure size 432x288 with 1 Axes>"
            ],
            "image/png": "[encoded data removed]"
          },
          "metadata": {
            "needs_background": "light"
          }
        }
      ]
    },
    {
      "cell_type": "code",
      "source": [
        "bmpSample_t=bmpSample.astype('float32')\n",
        "bmpSample_t_2=bmpSample_2.astype('float32')\n",
        "bmpSample_t_3=bmpSample_3.astype('float32')\n",
        "\n",
        "bmpSample_t = bmpSample_t.reshape([-1, 784])\n",
        "bmpSample_t_2 = bmpSample_t_2.reshape([-1, 784])\n",
        "bmpSample_t_3 = bmpSample_t_3.reshape([-1, 784])\n",
        "# [0, 255] 사이의 값을 [0, 1]사이의 값으로 Normalize합니다.\n",
        "bmpSample_t = bmpSample_t / 255.\n",
        "bmpSample_t_2 = bmpSample_t_2 / 255.\n",
        "bmpSample_t_3 = bmpSample_t_3 / 255.\n",
        "\n",
        "\n",
        "\n"
      ],
      "metadata": {
        "id": "fH12FssscfEF"
      },
      "execution_count": 16,
      "outputs": []
    },
    {
      "cell_type": "code",
      "source": [
        "softmax_regression(bmpSample_t)\n"
      ],
      "metadata": {
        "colab": {
          "base_uri": "https://localhost:8080/"
        },
        "id": "3n9yqwVle0Fx",
        "outputId": "4689dd42-57d4-4b09-f10f-2a2f82826e8d"
      },
      "execution_count": 17,
      "outputs": [
        {
          "output_type": "execute_result",
          "data": {
            "text/plain": [
              "<tf.Tensor: shape=(3, 10), dtype=float32, numpy=\n",
              "array([[1.0757283e-06, 5.0620273e-15, 1.3161196e-02, 9.3298656e-01,\n",
              "        2.3500097e-12, 4.2180624e-02, 4.2380108e-07, 6.9296641e-07,\n",
              "        1.1669329e-02, 2.7487136e-08],\n",
              "       [1.5009239e-05, 1.2896256e-13, 2.0502019e-01, 7.3776901e-01,\n",
              "        1.7772693e-10, 2.6013639e-02, 7.9118297e-07, 4.4299646e-05,\n",
              "        3.1134486e-02, 2.4859269e-06],\n",
              "       [2.0920170e-06, 3.4984383e-15, 5.2524939e-02, 8.5389882e-01,\n",
              "        5.9931079e-12, 8.7320484e-02, 3.7722745e-07, 3.9465033e-07,\n",
              "        6.2528239e-03, 1.0087224e-07]], dtype=float32)>"
            ]
          },
          "metadata": {},
          "execution_count": 17
        }
      ]
    },
    {
      "cell_type": "code",
      "source": [
        "softmax_regression(bmpSample_t_2)"
      ],
      "metadata": {
        "colab": {
          "base_uri": "https://localhost:8080/"
        },
        "id": "DKXuQCxke1yD",
        "outputId": "233ab349-58e2-4bf4-fa45-b796812d0d91"
      },
      "execution_count": 18,
      "outputs": [
        {
          "output_type": "execute_result",
          "data": {
            "text/plain": [
              "<tf.Tensor: shape=(3, 10), dtype=float32, numpy=\n",
              "array([[1.3014633e-03, 3.4723736e-14, 8.7622333e-01, 1.1507258e-01,\n",
              "        2.7876135e-11, 7.3086536e-03, 2.4142466e-05, 4.9631005e-08,\n",
              "        6.9660491e-05, 7.3961694e-08],\n",
              "       [2.0516009e-04, 6.0264462e-16, 3.6963206e-02, 1.3884853e-01,\n",
              "        4.1217321e-11, 8.1375462e-01, 3.7564573e-07, 1.1955281e-06,\n",
              "        1.0226850e-02, 5.9346696e-08],\n",
              "       [2.1508770e-06, 3.5561539e-15, 5.4044385e-02, 8.5261130e-01,\n",
              "        5.2775913e-12, 8.7104715e-02, 4.2446359e-07, 3.9368865e-07,\n",
              "        6.2365821e-03, 9.8889387e-08]], dtype=float32)>"
            ]
          },
          "metadata": {},
          "execution_count": 18
        }
      ]
    },
    {
      "cell_type": "code",
      "source": [
        "softmax_regression(bmpSample_t_3)"
      ],
      "metadata": {
        "colab": {
          "base_uri": "https://localhost:8080/"
        },
        "id": "7LPyvl_3faIP",
        "outputId": "44449c22-a7f8-4c62-ff26-d617949bdff1"
      },
      "execution_count": 19,
      "outputs": [
        {
          "output_type": "execute_result",
          "data": {
            "text/plain": [
              "<tf.Tensor: shape=(3, 10), dtype=float32, numpy=\n",
              "array([[0.05523333, 0.10560112, 0.09519833, 0.06527855, 0.08079458,\n",
              "        0.2931819 , 0.07054529, 0.14963607, 0.02076028, 0.06377064],\n",
              "       [0.05530381, 0.10736923, 0.09369408, 0.06387237, 0.08275016,\n",
              "        0.2902568 , 0.07108469, 0.15037277, 0.02031534, 0.06498076],\n",
              "       [0.05533944, 0.106079  , 0.09818018, 0.06687187, 0.0798014 ,\n",
              "        0.28893688, 0.07105696, 0.14868905, 0.02022959, 0.06481564]],\n",
              "      dtype=float32)>"
            ]
          },
          "metadata": {},
          "execution_count": 19
        }
      ]
    }
  ]
}