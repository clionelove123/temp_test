{
  "nbformat": 4,
  "nbformat_minor": 0,
  "metadata": {
    "colab": {
      "provenance": [],
      "authorship_tag": "ABX9TyOaJEgjNqmfZaDsVYhU3tHg",
      "include_colab_link": true
    },
    "kernelspec": {
      "name": "python3",
      "display_name": "Python 3"
    },
    "language_info": {
      "name": "python"
    }
  },
  "cells": [
    {
      "cell_type": "markdown",
      "metadata": {
        "id": "view-in-github",
        "colab_type": "text"
      },
      "source": [
        "<a href=\"https://colab.research.google.com/github/clionelove123/temp_test/blob/main/Chap_4_machinelearning_basic.ipynb\" target=\"_parent\"><img src=\"https://colab.research.google.com/assets/colab-badge.svg\" alt=\"Open In Colab\"/></a>"
      ]
    },
    {
      "cell_type": "code",
      "execution_count": null,
      "metadata": {
        "id": "9PiuI7Wzu72A"
      },
      "outputs": [],
      "source": [
        "import tensorflow as tf"
      ]
    },
    {
      "cell_type": "code",
      "source": [
        "# MNIST 데이터를 다운로드 합니다.\n",
        "(x_train, y_train), (x_test, y_test) = tf.keras.datasets.mnist.load_data()\n",
        "# 이미지들을 float32 데이터 타입으로 변경합니다.\n",
        "x_train, x_test = x_train.astype('float32'), x_test.astype('float32')\n",
        "# 28*28 형태의 이미지를 784차원으로 flattening 합니다.\n",
        "x_train, x_test = x_train.reshape([-1, 784]), x_test.reshape([-1, 784])\n",
        "# [0, 255] 사이의 값을 [0, 1]사이의 값으로 Normalize합니다.\n",
        "x_train, x_test = x_train / 255., x_test / 255.\n",
        "# 레이블 데이터에 one-hot encoding을 적용합니다.\n",
        "y_train, y_test = tf.one_hot(y_train, depth=10), tf.one_hot(y_test, depth=10)"
      ],
      "metadata": {
        "id": "e0GJ4ab2vYtW",
        "colab": {
          "base_uri": "https://localhost:8080/"
        },
        "outputId": "c94767e0-1def-4263-a2e3-eb7aa15475d1"
      },
      "execution_count": null,
      "outputs": [
        {
          "output_type": "stream",
          "name": "stdout",
          "text": [
            "Downloading data from https://storage.googleapis.com/tensorflow/tf-keras-datasets/mnist.npz\n",
            "11490434/11490434 [==============================] - 1s 0us/step\n"
          ]
        }
      ]
    },
    {
      "cell_type": "code",
      "source": [
        "# tf.data API를 이용해서 데이터를 섞고 batch 형태로 가져옵니다.\n",
        "train_data = tf.data.Dataset.from_tensor_slices((x_train, y_train))\n",
        "train_data = train_data.repeat().shuffle(60000).batch(100)\n",
        "train_data_iter = iter(train_data)"
      ],
      "metadata": {
        "id": "MnayqvgCvY1Z"
      },
      "execution_count": null,
      "outputs": []
    },
    {
      "cell_type": "code",
      "source": [
        "# Softmax Regression 모델을 위한 tf.Variable들을 정의합니다.\n",
        "W = tf.Variable(tf.zeros(shape=[784, 10]))\n",
        "b = tf.Variable(tf.zeros(shape=[10]))"
      ],
      "metadata": {
        "id": "eUzsM87PvY33"
      },
      "execution_count": null,
      "outputs": []
    },
    {
      "cell_type": "code",
      "source": [
        "# Softmax Regression 모델을 정의합니다.\n",
        "@tf.function\n",
        "def softmax_regression(x):\n",
        "  logits = tf.matmul(x, W) + b\n",
        "  return tf.nn.softmax(logits)"
      ],
      "metadata": {
        "id": "soTCXvZPvY6B"
      },
      "execution_count": null,
      "outputs": []
    },
    {
      "cell_type": "code",
      "source": [
        "# cross-entropy 손실 함수를 정의합니다.\n",
        "@tf.function\n",
        "def cross_entropy_loss(y_pred, y):\n",
        "  return tf.reduce_mean(-tf.reduce_sum(y * tf.math.log(y_pred), axis=[1]))\n",
        "  #return tf.reduce_mean(tf.nn.softmax_cross_entropy_with_logits(logits=logtis, labels=y)) # tf.nn.softmax_cross_entropy_with_logits API를 이용한 구현"
      ],
      "metadata": {
        "id": "7SLMuTlYvY8S"
      },
      "execution_count": null,
      "outputs": []
    },
    {
      "cell_type": "code",
      "source": [
        "# 모델의 정확도를 출력하는 함수를 정의합니다.\n",
        "@tf.function\n",
        "def compute_accuracy(y_pred, y):\n",
        "  correct_prediction = tf.equal(tf.argmax(y_pred,1), tf.argmax(y,1))\n",
        "  accuracy = tf.reduce_mean(tf.cast(correct_prediction, tf.float32))\n",
        "  return accuracy"
      ],
      "metadata": {
        "id": "oc4qDkq_vY-n"
      },
      "execution_count": null,
      "outputs": []
    },
    {
      "cell_type": "code",
      "source": [
        "# 최적화를 위한 그라디언트 디센트 옵티마이저를 정의합니다.\n",
        "optimizer = tf.optimizers.SGD(0.5)"
      ],
      "metadata": {
        "id": "Lm3Y4nZtvu5O"
      },
      "execution_count": null,
      "outputs": []
    },
    {
      "cell_type": "code",
      "source": [
        "# 최적화를 위한 function을 정의합니다.\n",
        "@tf.function\n",
        "def train_step(x, y):\n",
        "  with tf.GradientTape() as tape:\n",
        "    y_pred = softmax_regression(x)\n",
        "    loss = cross_entropy_loss(y_pred, y)\n",
        "  gradients = tape.gradient(loss, [W, b])\n",
        "  optimizer.apply_gradients(zip(gradients, [W, b]))"
      ],
      "metadata": {
        "id": "DOTFNXrtvu7h"
      },
      "execution_count": null,
      "outputs": []
    },
    {
      "cell_type": "code",
      "source": [
        "# 1000번 반복을 수행하면서 최적화를 수행합니다.\n",
        "for i in range(1000):\n",
        "  batch_xs, batch_ys = next(train_data_iter)\n",
        "  train_step(batch_xs, batch_ys)\n",
        "  if i<10:\n",
        "    print(\"Train 정확도(Accuracy): %f\" % compute_accuracy(softmax_regression(x_train), y_train))\n",
        "    print(\"Test 정확도(Accuracy): %f\" % compute_accuracy(softmax_regression(x_test), y_test))\n",
        "  else:\n",
        "    if (i%100)<1:\n",
        "      print(\"Train 정확도(Accuracy): %f\" % compute_accuracy(softmax_regression(x_train), y_train))\n",
        "      print(\"Test 정확도(Accuracy): %f\" % compute_accuracy(softmax_regression(x_test), y_test))"
      ],
      "metadata": {
        "id": "Nftb2oa4v4x5",
        "colab": {
          "base_uri": "https://localhost:8080/"
        },
        "outputId": "16824e1b-9ea0-488f-f63d-e4791f37fb1e"
      },
      "execution_count": null,
      "outputs": [
        {
          "output_type": "stream",
          "name": "stdout",
          "text": [
            "Train 정확도(Accuracy): 0.221500\n",
            "Test 정확도(Accuracy): 0.223600\n",
            "Train 정확도(Accuracy): 0.571683\n",
            "Test 정확도(Accuracy): 0.586400\n",
            "Train 정확도(Accuracy): 0.620200\n",
            "Test 정확도(Accuracy): 0.619800\n",
            "Train 정확도(Accuracy): 0.628683\n",
            "Test 정확도(Accuracy): 0.635600\n",
            "Train 정확도(Accuracy): 0.706600\n",
            "Test 정확도(Accuracy): 0.711800\n",
            "Train 정확도(Accuracy): 0.651567\n",
            "Test 정확도(Accuracy): 0.654000\n",
            "Train 정확도(Accuracy): 0.687950\n",
            "Test 정확도(Accuracy): 0.686800\n",
            "Train 정확도(Accuracy): 0.703350\n",
            "Test 정확도(Accuracy): 0.704700\n",
            "Train 정확도(Accuracy): 0.592533\n",
            "Test 정확도(Accuracy): 0.598000\n",
            "Train 정확도(Accuracy): 0.703933\n",
            "Test 정확도(Accuracy): 0.705400\n",
            "Train 정확도(Accuracy): 0.884717\n",
            "Test 정확도(Accuracy): 0.890600\n",
            "Train 정확도(Accuracy): 0.899433\n",
            "Test 정확도(Accuracy): 0.904500\n",
            "Train 정확도(Accuracy): 0.903133\n",
            "Test 정확도(Accuracy): 0.909100\n",
            "Train 정확도(Accuracy): 0.907567\n",
            "Test 정확도(Accuracy): 0.913500\n",
            "Train 정확도(Accuracy): 0.910483\n",
            "Test 정확도(Accuracy): 0.912900\n",
            "Train 정확도(Accuracy): 0.910717\n",
            "Test 정확도(Accuracy): 0.915200\n",
            "Train 정확도(Accuracy): 0.913550\n",
            "Test 정확도(Accuracy): 0.913900\n",
            "Train 정확도(Accuracy): 0.912400\n",
            "Test 정확도(Accuracy): 0.914000\n",
            "Train 정확도(Accuracy): 0.914667\n",
            "Test 정확도(Accuracy): 0.918500\n"
          ]
        }
      ]
    },
    {
      "cell_type": "code",
      "source": [
        "# 학습이 끝나면 학습된 모델의 정확도를 출력합니다.\n",
        "print(\"정확도(Accuracy): %f\" % compute_accuracy(softmax_regression(x_test), y_test)) # 정확도 : 약 91%"
      ],
      "metadata": {
        "colab": {
          "base_uri": "https://localhost:8080/"
        },
        "id": "vGQsZ0_Ov40f",
        "outputId": "4121138f-60c0-4e33-b623-cac4acfc6c12"
      },
      "execution_count": null,
      "outputs": [
        {
          "output_type": "stream",
          "name": "stdout",
          "text": [
            "정확도(Accuracy): 0.918000\n"
          ]
        }
      ]
    },
    {
      "cell_type": "code",
      "source": [
        "import numpy as np\n",
        "import os\n",
        "import PIL\n",
        "import PIL.Image\n",
        "import tensorflow as tf\n",
        "import tensorflow_datasets as tfds\n",
        "\n",
        "from google.colab import files\n",
        "uploaded = files.upload()"
      ],
      "metadata": {
        "colab": {
          "base_uri": "https://localhost:8080/",
          "height": 77
        },
        "id": "fk45Hxd7dx80",
        "outputId": "01c03c72-70d5-46fb-9fbf-859d1d7046a3"
      },
      "execution_count": null,
      "outputs": [
        {
          "output_type": "display_data",
          "data": {
            "text/plain": [
              "<IPython.core.display.HTML object>"
            ],
            "text/html": [
              "\n",
              "     <input type=\"file\" id=\"files-d948e46a-38b9-4f3c-b28a-2bc57e096214\" name=\"files[]\" multiple disabled\n",
              "        style=\"border:none\" />\n",
              "     <output id=\"result-d948e46a-38b9-4f3c-b28a-2bc57e096214\">\n",
              "      Upload widget is only available when the cell has been executed in the\n",
              "      current browser session. Please rerun this cell to enable.\n",
              "      </output>\n",
              "      <script>// Copyright 2017 Google LLC\n",
              "//\n",
              "// Licensed under the Apache License, Version 2.0 (the \"License\");\n",
              "// you may not use this file except in compliance with the License.\n",
              "// You may obtain a copy of the License at\n",
              "//\n",
              "//      http://www.apache.org/licenses/LICENSE-2.0\n",
              "//\n",
              "// Unless required by applicable law or agreed to in writing, software\n",
              "// distributed under the License is distributed on an \"AS IS\" BASIS,\n",
              "// WITHOUT WARRANTIES OR CONDITIONS OF ANY KIND, either express or implied.\n",
              "// See the License for the specific language governing permissions and\n",
              "// limitations under the License.\n",
              "\n",
              "/**\n",
              " * @fileoverview Helpers for google.colab Python module.\n",
              " */\n",
              "(function(scope) {\n",
              "function span(text, styleAttributes = {}) {\n",
              "  const element = document.createElement('span');\n",
              "  element.textContent = text;\n",
              "  for (const key of Object.keys(styleAttributes)) {\n",
              "    element.style[key] = styleAttributes[key];\n",
              "  }\n",
              "  return element;\n",
              "}\n",
              "\n",
              "// Max number of bytes which will be uploaded at a time.\n",
              "const MAX_PAYLOAD_SIZE = 100 * 1024;\n",
              "\n",
              "function _uploadFiles(inputId, outputId) {\n",
              "  const steps = uploadFilesStep(inputId, outputId);\n",
              "  const outputElement = document.getElementById(outputId);\n",
              "  // Cache steps on the outputElement to make it available for the next call\n",
              "  // to uploadFilesContinue from Python.\n",
              "  outputElement.steps = steps;\n",
              "\n",
              "  return _uploadFilesContinue(outputId);\n",
              "}\n",
              "\n",
              "// This is roughly an async generator (not supported in the browser yet),\n",
              "// where there are multiple asynchronous steps and the Python side is going\n",
              "// to poll for completion of each step.\n",
              "// This uses a Promise to block the python side on completion of each step,\n",
              "// then passes the result of the previous step as the input to the next step.\n",
              "function _uploadFilesContinue(outputId) {\n",
              "  const outputElement = document.getElementById(outputId);\n",
              "  const steps = outputElement.steps;\n",
              "\n",
              "  const next = steps.next(outputElement.lastPromiseValue);\n",
              "  return Promise.resolve(next.value.promise).then((value) => {\n",
              "    // Cache the last promise value to make it available to the next\n",
              "    // step of the generator.\n",
              "    outputElement.lastPromiseValue = value;\n",
              "    return next.value.response;\n",
              "  });\n",
              "}\n",
              "\n",
              "/**\n",
              " * Generator function which is called between each async step of the upload\n",
              " * process.\n",
              " * @param {string} inputId Element ID of the input file picker element.\n",
              " * @param {string} outputId Element ID of the output display.\n",
              " * @return {!Iterable<!Object>} Iterable of next steps.\n",
              " */\n",
              "function* uploadFilesStep(inputId, outputId) {\n",
              "  const inputElement = document.getElementById(inputId);\n",
              "  inputElement.disabled = false;\n",
              "\n",
              "  const outputElement = document.getElementById(outputId);\n",
              "  outputElement.innerHTML = '';\n",
              "\n",
              "  const pickedPromise = new Promise((resolve) => {\n",
              "    inputElement.addEventListener('change', (e) => {\n",
              "      resolve(e.target.files);\n",
              "    });\n",
              "  });\n",
              "\n",
              "  const cancel = document.createElement('button');\n",
              "  inputElement.parentElement.appendChild(cancel);\n",
              "  cancel.textContent = 'Cancel upload';\n",
              "  const cancelPromise = new Promise((resolve) => {\n",
              "    cancel.onclick = () => {\n",
              "      resolve(null);\n",
              "    };\n",
              "  });\n",
              "\n",
              "  // Wait for the user to pick the files.\n",
              "  const files = yield {\n",
              "    promise: Promise.race([pickedPromise, cancelPromise]),\n",
              "    response: {\n",
              "      action: 'starting',\n",
              "    }\n",
              "  };\n",
              "\n",
              "  cancel.remove();\n",
              "\n",
              "  // Disable the input element since further picks are not allowed.\n",
              "  inputElement.disabled = true;\n",
              "\n",
              "  if (!files) {\n",
              "    return {\n",
              "      response: {\n",
              "        action: 'complete',\n",
              "      }\n",
              "    };\n",
              "  }\n",
              "\n",
              "  for (const file of files) {\n",
              "    const li = document.createElement('li');\n",
              "    li.append(span(file.name, {fontWeight: 'bold'}));\n",
              "    li.append(span(\n",
              "        `(${file.type || 'n/a'}) - ${file.size} bytes, ` +\n",
              "        `last modified: ${\n",
              "            file.lastModifiedDate ? file.lastModifiedDate.toLocaleDateString() :\n",
              "                                    'n/a'} - `));\n",
              "    const percent = span('0% done');\n",
              "    li.appendChild(percent);\n",
              "\n",
              "    outputElement.appendChild(li);\n",
              "\n",
              "    const fileDataPromise = new Promise((resolve) => {\n",
              "      const reader = new FileReader();\n",
              "      reader.onload = (e) => {\n",
              "        resolve(e.target.result);\n",
              "      };\n",
              "      reader.readAsArrayBuffer(file);\n",
              "    });\n",
              "    // Wait for the data to be ready.\n",
              "    let fileData = yield {\n",
              "      promise: fileDataPromise,\n",
              "      response: {\n",
              "        action: 'continue',\n",
              "      }\n",
              "    };\n",
              "\n",
              "    // Use a chunked sending to avoid message size limits. See b/62115660.\n",
              "    let position = 0;\n",
              "    do {\n",
              "      const length = Math.min(fileData.byteLength - position, MAX_PAYLOAD_SIZE);\n",
              "      const chunk = new Uint8Array(fileData, position, length);\n",
              "      position += length;\n",
              "\n",
              "      const base64 = btoa(String.fromCharCode.apply(null, chunk));\n",
              "      yield {\n",
              "        response: {\n",
              "          action: 'append',\n",
              "          file: file.name,\n",
              "          data: base64,\n",
              "        },\n",
              "      };\n",
              "\n",
              "      let percentDone = fileData.byteLength === 0 ?\n",
              "          100 :\n",
              "          Math.round((position / fileData.byteLength) * 100);\n",
              "      percent.textContent = `${percentDone}% done`;\n",
              "\n",
              "    } while (position < fileData.byteLength);\n",
              "  }\n",
              "\n",
              "  // All done.\n",
              "  yield {\n",
              "    response: {\n",
              "      action: 'complete',\n",
              "    }\n",
              "  };\n",
              "}\n",
              "\n",
              "scope.google = scope.google || {};\n",
              "scope.google.colab = scope.google.colab || {};\n",
              "scope.google.colab._files = {\n",
              "  _uploadFiles,\n",
              "  _uploadFilesContinue,\n",
              "};\n",
              "})(self);\n",
              "</script> "
            ]
          },
          "metadata": {}
        },
        {
          "output_type": "stream",
          "name": "stdout",
          "text": [
            "Saving temp3.png to temp3.png\n"
          ]
        }
      ]
    },
    {
      "cell_type": "code",
      "source": [
        "import matplotlib.pyplot as plt\n",
        "import matplotlib.image as mpimg\n",
        " \n",
        "#bmpSample = mpimg.imread('temp1.bmp')\n",
        "#bmpSample_2 = mpimg.imread('temp2.bmp')\n",
        "bmpSample_3 = mpimg.imread('temp3.png')\n",
        "\n",
        "#plt.figure(figsize=(15, 10))\n",
        "#plt.subplot(1,3,1)\n",
        "#plt.title('bmp')\n",
        "\n",
        "\n",
        "#plt.imshow(bmpSample)\n",
        "plt.imshow(bmpSample_3)\n",
        "\n"
      ],
      "metadata": {
        "colab": {
          "base_uri": "https://localhost:8080/",
          "height": 283
        },
        "id": "LopzQKHod0Cj",
        "outputId": "48a7c702-6e11-45fa-b6d1-d8aa71cde5ea"
      },
      "execution_count": null,
      "outputs": [
        {
          "output_type": "execute_result",
          "data": {
            "text/plain": [
              "<matplotlib.image.AxesImage at 0x7f33cc34f580>"
            ]
          },
          "metadata": {},
          "execution_count": 14
        },
        {
          "output_type": "display_data",
          "data": {
            "text/plain": [
              "<Figure size 432x288 with 1 Axes>"
            ],
            "image/png": "[encoded data removed]"
          },
          "metadata": {
            "needs_background": "light"
          }
        }
      ]
    },
    {
      "cell_type": "code",
      "source": [
        "#bmpSample_t=bmpSample.astype('float32')\n",
        "#bmpSample_t_2=bmpSample_2.astype('float32')\n",
        "bmpSample_t_3=bmpSample_3.astype('float32')\n",
        "\n",
        "#bmpSample_t = bmpSample_t.reshape([-1, 784])\n",
        "#bmpSample_t_2 = bmpSample_t_2.reshape([-1, 784])\n",
        "bmpSample_t_3 = bmpSample_t_3.reshape([-1, 784])\n",
        "# [0, 255] 사이의 값을 [0, 1]사이의 값으로 Normalize합니다.\n",
        "##bmpSample_t = bmpSample_t / 255.\n",
        "#bmpSample_t_2 = bmpSample_t_2 / 255.\n",
        "bmpSample_t_3 = bmpSample_t_3 / 255.\n",
        "\n",
        "\n",
        "\n"
      ],
      "metadata": {
        "id": "fH12FssscfEF"
      },
      "execution_count": null,
      "outputs": []
    },
    {
      "cell_type": "code",
      "source": [
        "#softmax_regression(bmpSample_t)\n"
      ],
      "metadata": {
        "id": "3n9yqwVle0Fx"
      },
      "execution_count": null,
      "outputs": []
    },
    {
      "cell_type": "code",
      "source": [
        "#softmax_regression(bmpSample_t_2)"
      ],
      "metadata": {
        "id": "DKXuQCxke1yD"
      },
      "execution_count": null,
      "outputs": []
    },
    {
      "cell_type": "code",
      "source": [
        "softmax_regression(bmpSample_t_3)"
      ],
      "metadata": {
        "colab": {
          "base_uri": "https://localhost:8080/"
        },
        "id": "7LPyvl_3faIP",
        "outputId": "07d265d7-94bd-4a93-d5d5-989ec9d9f59d"
      },
      "execution_count": null,
      "outputs": [
        {
          "output_type": "execute_result",
          "data": {
            "text/plain": [
              "<tf.Tensor: shape=(3, 10), dtype=float32, numpy=\n",
              "array([[0.05517964, 0.10664274, 0.0914241 , 0.06435276, 0.08370674,\n",
              "        0.29632473, 0.07462131, 0.14653811, 0.0212049 , 0.06000502],\n",
              "       [0.05567442, 0.10509676, 0.09175422, 0.06377359, 0.08436838,\n",
              "        0.2956236 , 0.07476223, 0.14743757, 0.02120895, 0.06030023],\n",
              "       [0.05610307, 0.10565853, 0.09234568, 0.06530987, 0.08212218,\n",
              "        0.29671296, 0.07416476, 0.14643185, 0.02085134, 0.06029978]],\n",
              "      dtype=float32)>"
            ]
          },
          "metadata": {},
          "execution_count": 18
        }
      ]
    }
  ]
}