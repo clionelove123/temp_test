{
  "nbformat": 4,
  "nbformat_minor": 0,
  "metadata": {
    "colab": {
      "provenance": [],
      "authorship_tag": "ABX9TyOeowSqhKiumFiIXEprVbdF",
      "include_colab_link": true
    },
    "kernelspec": {
      "name": "python3",
      "display_name": "Python 3"
    },
    "language_info": {
      "name": "python"
    },
    "gpuClass": "standard"
  },
  "cells": [
    {
      "cell_type": "markdown",
      "metadata": {
        "id": "view-in-github",
        "colab_type": "text"
      },
      "source": [
        "<a href=\"https://colab.research.google.com/github/clionelove123/temp_test/blob/main/Chap_02_CNN_in_Pytorch.ipynb\" target=\"_parent\"><img src=\"https://colab.research.google.com/assets/colab-badge.svg\" alt=\"Open In Colab\"/></a>"
      ]
    },
    {
      "cell_type": "code",
      "source": [
        "import torch\n",
        "import torch.nn as nn\n",
        "import torch.nn.functional as F\n",
        "import torch.optim as optim\n",
        "from torchvision import datasets, transforms"
      ],
      "metadata": {
        "id": "dj7UjsjBqj9h"
      },
      "execution_count": 9,
      "outputs": []
    },
    {
      "cell_type": "code",
      "source": [
        "train_data = datasets.MNIST('./data/', train=True, download=True, transform=transforms.Compose([\n",
        "        transforms.ToTensor(),\n",
        "        transforms.Normalize((0.1307,), (0.3081,))\n",
        "    ])) # 학습 데이터\n",
        "train_loader = torch.utils.data.DataLoader(dataset=train_data, batch_size=50, shuffle=True)\n",
        "\n",
        "test_data = datasets.MNIST('./data/', train=False, transform=transforms.Compose([\n",
        "        transforms.ToTensor(),\n",
        "        transforms.Normalize((0.1307,), (0.3081,))\n",
        "    ])) # 테스트 데이터\n",
        "test_loader = torch.utils.data.DataLoader(dataset=test_data, batch_size=50, shuffle=True)"
      ],
      "metadata": {
        "id": "usMUktpuqYIK"
      },
      "execution_count": 10,
      "outputs": []
    },
    {
      "cell_type": "code",
      "source": [
        "class CNN(nn.Module):\n",
        "    def __init__(self):\n",
        "        super(CNN, self).__init__()\n",
        "        self.conv1 = nn.Conv2d(in_channels=1, out_channels=20, kernel_size=5, stride=1)\n",
        "        self.conv2 = nn.Conv2d(in_channels=20, out_channels=50, kernel_size=5, stride=1)\n",
        "        self.fc1 = nn.Linear(4 * 4 * 50, 500)\n",
        "        self.fc2 = nn.Linear(500, 10)\n",
        "\n",
        "    def forward(self, x):\n",
        "        x = F.relu(self.conv1(x))\n",
        "        x = F.max_pool2d(x, kernel_size=2, stride=2)\n",
        "        x = F.relu(self.conv2(x))\n",
        "        x = F.max_pool2d(x, kernel_size=2, stride=2)\n",
        "\n",
        "        x = x.view(-1, 4 * 4 * 50) # [batch_size, 50, 4, 4]\n",
        "        x = F.relu(self.fc1(x))\n",
        "        x = self.fc2(x)\n",
        "        return x"
      ],
      "metadata": {
        "id": "rMxzjjysqYKr"
      },
      "execution_count": 11,
      "outputs": []
    },
    {
      "cell_type": "code",
      "source": [
        "cnn = CNN()\n",
        "criterion = torch.nn.CrossEntropyLoss()\n",
        "optimizer = optim.SGD(cnn.parameters(), lr=0.01)"
      ],
      "metadata": {
        "id": "cpw8qTJUqYNa"
      },
      "execution_count": 12,
      "outputs": []
    },
    {
      "cell_type": "code",
      "source": [
        "cnn.train()  # 학습을 위함\n",
        "for epoch in range(10):\n",
        "  for index, (data, target) in enumerate(train_loader):\n",
        "    optimizer.zero_grad()  # 기울기 초기화\n",
        "    output = cnn(data)\n",
        "    loss = criterion(output, target)\n",
        "    loss.backward()  # 역전파\n",
        "    optimizer.step()\n",
        "\n",
        "    if index % 100 == 0:\n",
        "      print(\"loss of {} epoch, {} index : {}\".format(epoch, index, loss.item()))"
      ],
      "metadata": {
        "colab": {
          "base_uri": "https://localhost:8080/"
        },
        "id": "2cVL6T8VqYPm",
        "outputId": "6b370477-e216-4290-85a6-8221aef8012f"
      },
      "execution_count": null,
      "outputs": [
        {
          "output_type": "stream",
          "name": "stdout",
          "text": [
            "loss of 0 epoch, 0 index : 2.309504508972168\n",
            "loss of 0 epoch, 100 index : 1.1938707828521729\n",
            "loss of 0 epoch, 200 index : 0.45126283168792725\n",
            "loss of 0 epoch, 300 index : 0.4104810655117035\n",
            "loss of 0 epoch, 400 index : 0.2208472490310669\n",
            "loss of 0 epoch, 500 index : 0.27360519766807556\n",
            "loss of 0 epoch, 600 index : 0.28976935148239136\n",
            "loss of 0 epoch, 700 index : 0.17999757826328278\n",
            "loss of 0 epoch, 800 index : 0.2731815278530121\n",
            "loss of 0 epoch, 900 index : 0.09685253351926804\n",
            "loss of 0 epoch, 1000 index : 0.2798304259777069\n",
            "loss of 0 epoch, 1100 index : 0.11062651872634888\n",
            "loss of 1 epoch, 0 index : 0.20188535749912262\n",
            "loss of 1 epoch, 100 index : 0.14810486137866974\n",
            "loss of 1 epoch, 200 index : 0.07559692114591599\n",
            "loss of 1 epoch, 300 index : 0.15267030894756317\n",
            "loss of 1 epoch, 400 index : 0.1904611587524414\n",
            "loss of 1 epoch, 500 index : 0.08527517318725586\n",
            "loss of 1 epoch, 600 index : 0.1888185739517212\n",
            "loss of 1 epoch, 700 index : 0.1393299102783203\n",
            "loss of 1 epoch, 800 index : 0.1797090321779251\n",
            "loss of 1 epoch, 900 index : 0.250019371509552\n",
            "loss of 1 epoch, 1000 index : 0.032884642481803894\n",
            "loss of 1 epoch, 1100 index : 0.09437315165996552\n",
            "loss of 2 epoch, 0 index : 0.08769746869802475\n",
            "loss of 2 epoch, 100 index : 0.14670325815677643\n",
            "loss of 2 epoch, 200 index : 0.03245231509208679\n",
            "loss of 2 epoch, 300 index : 0.0334121435880661\n",
            "loss of 2 epoch, 400 index : 0.06084907054901123\n",
            "loss of 2 epoch, 500 index : 0.11304952949285507\n",
            "loss of 2 epoch, 600 index : 0.11624497175216675\n",
            "loss of 2 epoch, 700 index : 0.04904825985431671\n"
          ]
        }
      ]
    },
    {
      "cell_type": "code",
      "source": [
        "cnn.eval()  # test case 학습 방지를 위함\n",
        "test_loss = 0\n",
        "correct = 0\n",
        "with torch.no_grad():\n",
        "  for data, target in test_loader:\n",
        "    output = cnn(data)\n",
        "    test_loss += criterion(output, target).item() # sum up batch loss\n",
        "    pred = output.argmax(dim=1, keepdim=True) # get the index of the max log-probability\n",
        "    correct += pred.eq(target.view_as(pred)).sum().item()\n",
        "print('\\nTest set: Average loss: {:.4f}, Accuracy: {}/{} ({:.0f}%)\\n'.format(\n",
        "        test_loss, correct, len(test_loader.dataset),\n",
        "        100. * correct / len(test_loader.dataset)))"
      ],
      "metadata": {
        "id": "jt8-uIYpqy3w"
      },
      "execution_count": null,
      "outputs": []
    }
  ]
}