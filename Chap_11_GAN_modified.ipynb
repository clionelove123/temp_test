{
  "nbformat": 4,
  "nbformat_minor": 0,
  "metadata": {
    "colab": {
      "provenance": [],
      "machine_shape": "hm",
      "gpuType": "V100",
      "authorship_tag": "ABX9TyPyppu1UbuvUUMpMpmL9vj7",
      "include_colab_link": true
    },
    "kernelspec": {
      "name": "python3",
      "display_name": "Python 3"
    },
    "language_info": {
      "name": "python"
    },
    "accelerator": "GPU",
    "gpuClass": "standard"
  },
  "cells": [
    {
      "cell_type": "markdown",
      "metadata": {
        "id": "view-in-github",
        "colab_type": "text"
      },
      "source": [
        "<a href=\"https://colab.research.google.com/github/clionelove123/temp_test/blob/main/Chap_11_GAN_modified.ipynb\" target=\"_parent\"><img src=\"https://colab.research.google.com/assets/colab-badge.svg\" alt=\"Open In Colab\"/></a>"
      ]
    },
    {
      "cell_type": "code",
      "execution_count": 25,
      "metadata": {
        "id": "MiSOaPZ692Ti"
      },
      "outputs": [],
      "source": [
        "import tensorflow as tf"
      ]
    },
    {
      "cell_type": "code",
      "source": [
        "# GIF를 만들기위해 설치합니다.\n",
        "!pip install imageio"
      ],
      "metadata": {
        "colab": {
          "base_uri": "https://localhost:8080/"
        },
        "id": "2B_3NxuA92-7",
        "outputId": "57b37558-70ba-4c30-afb6-0f15a2d12c08"
      },
      "execution_count": 26,
      "outputs": [
        {
          "output_type": "stream",
          "name": "stdout",
          "text": [
            "Looking in indexes: https://pypi.org/simple, https://us-python.pkg.dev/colab-wheels/public/simple/\n",
            "Requirement already satisfied: imageio in /usr/local/lib/python3.10/dist-packages (2.25.1)\n",
            "Requirement already satisfied: pillow>=8.3.2 in /usr/local/lib/python3.10/dist-packages (from imageio) (8.4.0)\n",
            "Requirement already satisfied: numpy in /usr/local/lib/python3.10/dist-packages (from imageio) (1.22.4)\n"
          ]
        }
      ]
    },
    {
      "cell_type": "code",
      "source": [
        "import glob\n",
        "import imageio\n",
        "import matplotlib.pyplot as plt\n",
        "import numpy as np\n",
        "import os\n",
        "import PIL\n",
        "from tensorflow.keras import layers\n",
        "import time\n",
        "\n",
        "from IPython import display\n",
        "\n",
        "!mkdir '/content/generated_output/'"
      ],
      "metadata": {
        "colab": {
          "base_uri": "https://localhost:8080/"
        },
        "id": "vsEvjeVB93DS",
        "outputId": "d0c49a7d-1ade-46c5-a989-206c96e94181"
      },
      "execution_count": 27,
      "outputs": [
        {
          "output_type": "stream",
          "name": "stdout",
          "text": [
            "mkdir: cannot create directory ‘/content/generated_output/’: File exists\n"
          ]
        }
      ]
    },
    {
      "cell_type": "code",
      "source": [
        "(train_images, train_labels), (_, _) = tf.keras.datasets.mnist.load_data()"
      ],
      "metadata": {
        "id": "KP2IhIrU93Fx"
      },
      "execution_count": 28,
      "outputs": []
    },
    {
      "cell_type": "code",
      "source": [
        "train_images = train_images.reshape(train_images.shape[0], 28, 28, 1).astype('float32')\n",
        "train_images = (train_images - 127.5) / 127.5 # 이미지를 [-1, 1]로 정규화합니다."
      ],
      "metadata": {
        "id": "OLUXeXqd93IO"
      },
      "execution_count": 29,
      "outputs": []
    },
    {
      "cell_type": "code",
      "source": [
        "BUFFER_SIZE = 60000\n",
        "BATCH_SIZE = 256"
      ],
      "metadata": {
        "id": "-R4rcQOz93Kk"
      },
      "execution_count": 30,
      "outputs": []
    },
    {
      "cell_type": "code",
      "source": [
        "# 데이터 배치를 만들고 섞습니다.\n",
        "train_dataset = tf.data.Dataset.from_tensor_slices(train_images).shuffle(BUFFER_SIZE).batch(BATCH_SIZE)"
      ],
      "metadata": {
        "id": "BMuy3rYl-Ahg"
      },
      "execution_count": 31,
      "outputs": []
    },
    {
      "cell_type": "code",
      "source": [
        "# 생성자\n",
        "# 생성자는 시드값(임의의 노이즈)에서 이미지를 생성하기 위해, tf.keras.layers.Conv2DTranspose(업샘플링) 레이어를 이용합니다. 처음 Dense 레이어는 해당 시드값을 입력값으로 받습니다. 다음으로 원하는 크기인 28x28x1의 이미지에 도달할 때까지 업샘플링을 여러 번 수행합니다. tanh 함수를 사용하는 출력 레이어를 제외한 각 레이어에서 tf.keras.layers.LeakyReLU 활성화가 사용됩니다.\n",
        "\n",
        "def make_generator_model():\n",
        "    model = tf.keras.Sequential()\n",
        "    model.add(layers.Dense(7*7*256, use_bias=False, input_shape=(100,)))\n",
        "    model.add(layers.BatchNormalization())\n",
        "    model.add(layers.LeakyReLU())\n",
        "\n",
        "    model.add(layers.Reshape((7, 7, 256)))\n",
        "    assert model.output_shape == (None, 7, 7, 256) # 주목: 배치사이즈로 None이 주어집니다.\n",
        "\n",
        "    model.add(layers.Conv2DTranspose(128, (5, 5), strides=(1, 1), padding='same', use_bias=False))\n",
        "    assert model.output_shape == (None, 7, 7, 128)\n",
        "    model.add(layers.BatchNormalization())\n",
        "    model.add(layers.LeakyReLU())\n",
        "\n",
        "    model.add(layers.Conv2DTranspose(64, (5, 5), strides=(2, 2), padding='same', use_bias=False))\n",
        "    assert model.output_shape == (None, 14, 14, 64)\n",
        "    model.add(layers.BatchNormalization())\n",
        "    model.add(layers.LeakyReLU())\n",
        "\n",
        "    model.add(layers.Conv2DTranspose(1, (5, 5), strides=(2, 2), padding='same', use_bias=False, activation='tanh'))\n",
        "    assert model.output_shape == (None, 28, 28, 1)\n",
        "\n",
        "    return model"
      ],
      "metadata": {
        "id": "IrZkV3m1-Aj3"
      },
      "execution_count": 32,
      "outputs": []
    },
    {
      "cell_type": "code",
      "source": [
        "# (아직 훈련이 되지않은) 생성자를 이용해 이미지를 생성해봅시다.\n",
        "generator = make_generator_model()\n",
        "\n",
        "noise = tf.random.normal([1, 100])\n",
        "generated_image = generator(noise, training=False)\n",
        "\n",
        "plt.imshow(generated_image[0, :, :, 0], cmap='gray')"
      ],
      "metadata": {
        "colab": {
          "base_uri": "https://localhost:8080/",
          "height": 449
        },
        "id": "-9xb8bLH-AmR",
        "outputId": "9008cd47-cf0f-4652-efe3-b03fc86329f2"
      },
      "execution_count": 33,
      "outputs": [
        {
          "output_type": "execute_result",
          "data": {
            "text/plain": [
              "<matplotlib.image.AxesImage at 0x7f4fe11be200>"
            ]
          },
          "metadata": {},
          "execution_count": 33
        },
        {
          "output_type": "display_data",
          "data": {
            "text/plain": [
              "<Figure size 640x480 with 1 Axes>"
            ],
            "image/png": "[encoded data removed]"
          },
          "metadata": {}
        }
      ]
    },
    {
      "cell_type": "code",
      "source": [
        "# 감별자\n",
        "# 감별자는 합성곱 신경망(Convolutional Neural Network, CNN) 기반의 이미지 분류기입니다.\n",
        "\n",
        "def make_discriminator_model():\n",
        "    model = tf.keras.Sequential()\n",
        "    model.add(layers.Conv2D(64, (5, 5), strides=(2, 2), padding='same',\n",
        "                                     input_shape=[28, 28, 1]))\n",
        "    model.add(layers.LeakyReLU())\n",
        "    model.add(layers.Dropout(0.3))\n",
        "\n",
        "    model.add(layers.Conv2D(128, (5, 5), strides=(2, 2), padding='same'))\n",
        "    model.add(layers.LeakyReLU())\n",
        "    model.add(layers.Dropout(0.3))\n",
        "\n",
        "    model.add(layers.Flatten())\n",
        "    model.add(layers.Dense(1))\n",
        "\n",
        "    return model"
      ],
      "metadata": {
        "id": "5xgGttmS-AoU"
      },
      "execution_count": 34,
      "outputs": []
    },
    {
      "cell_type": "code",
      "source": [
        "# (아직까지 훈련이 되지 않은) 감별자를 사용하여, 생성된 이미지가 진짜인지 가짜인지 판별합니다. \n",
        "# 모델은 진짜 이미지에는 양수의 값 (positive values)을, 가짜 이미지에는 음수의 값 (negative values)을 출력하도록 훈련되어집니다.\n",
        "\n",
        "discriminator = make_discriminator_model()\n",
        "decision = discriminator(generated_image)\n",
        "print (decision)"
      ],
      "metadata": {
        "colab": {
          "base_uri": "https://localhost:8080/"
        },
        "id": "Zy_DuGh_-AqT",
        "outputId": "2b9de3fd-7120-4764-830c-acb36df1097f"
      },
      "execution_count": 35,
      "outputs": [
        {
          "output_type": "stream",
          "name": "stdout",
          "text": [
            "tf.Tensor([[-0.00202969]], shape=(1, 1), dtype=float32)\n"
          ]
        }
      ]
    },
    {
      "cell_type": "code",
      "source": [
        "# 이 메서드는 크로스 엔트로피 손실함수 (cross entropy loss)를 계산하기 위해 헬퍼 (helper) 함수를 반환합니다.\n",
        "cross_entropy = tf.keras.losses.BinaryCrossentropy(from_logits=True)"
      ],
      "metadata": {
        "id": "kDep6qGT93Mz"
      },
      "execution_count": 36,
      "outputs": []
    },
    {
      "cell_type": "code",
      "source": [
        "# 감별자 손실함수\n",
        "# 이 메서드는 감별자가 가짜 이미지에서 얼마나 진짜 이미지를 잘 판별하는지 수치화합니다. \n",
        "# 진짜 이미지에 대한 감별자의 예측과 1로 이루어진 행렬을 비교하고, 가짜 (생성된) 이미지에 대한 감별자의 예측과 0으로 이루어진 행렬을 비교합니다.\n",
        "def discriminator_loss(real_output, fake_output):\n",
        "    real_loss = cross_entropy(tf.ones_like(real_output), real_output)\n",
        "    fake_loss = cross_entropy(tf.zeros_like(fake_output), fake_output)\n",
        "    total_loss = real_loss + fake_loss\n",
        "    return total_loss\n"
      ],
      "metadata": {
        "id": "f7BHoEhB93O9"
      },
      "execution_count": 37,
      "outputs": []
    },
    {
      "cell_type": "code",
      "source": [
        "# 생성자 손실함수\n",
        "# 생성자의 손실은 판별자를 얼마나 잘 속일 수 있었는지를 수치화합니다. \n",
        "# 직관적으로, 생성자가 잘 작동하면 판별자는 가짜 이미지를 실제(또는 1)로 분류합니다. 여기에서 생성된 이미지에 대한 판별자의 판단을 1의 배열과 비교합니다.\n",
        "\n",
        "def generator_loss(fake_output):\n",
        "    return cross_entropy(tf.ones_like(fake_output), fake_output)\n"
      ],
      "metadata": {
        "id": "C77I_bdP93RH"
      },
      "execution_count": 38,
      "outputs": []
    },
    {
      "cell_type": "code",
      "source": [
        "# 판별자와 생성자 옵티마이저는 두 네트워크를 별도로 훈련하기 때문에 서로 다릅니다.\n",
        "generator_optimizer = tf.keras.optimizers.Adam(1e-4)\n",
        "discriminator_optimizer = tf.keras.optimizers.Adam(1e-4)"
      ],
      "metadata": {
        "id": "GLKD81qA-VB4"
      },
      "execution_count": 39,
      "outputs": []
    },
    {
      "cell_type": "code",
      "source": [
        "# 체크포인트 저장\n",
        "# 이 노트북은 오랫동안 진행되는 훈련이 중단된 경우 유용한 모델의 저장 및 복구 방법을 보여줍니다.\n",
        "\n",
        "checkpoint_dir = './training_checkpoints'\n",
        "checkpoint_prefix = os.path.join(checkpoint_dir, \"ckpt\")\n",
        "checkpoint = tf.train.Checkpoint(generator_optimizer=generator_optimizer,\n",
        "                                 discriminator_optimizer=discriminator_optimizer,\n",
        "                                 generator=generator,\n",
        "                                 discriminator=discriminator)"
      ],
      "metadata": {
        "id": "ag33j6sL-VEQ"
      },
      "execution_count": 40,
      "outputs": []
    },
    {
      "cell_type": "code",
      "source": [
        "EPOCHS = 150\n",
        "noise_dim = 100\n",
        "num_examples_to_generate = 16\n",
        "\n",
        "# 이 시드를 시간이 지나도 재활용하겠습니다. \n",
        "# (GIF 애니메이션에서 진전 내용을 시각화하는데 쉽기 때문입니다.) \n",
        "\n",
        "seed = tf.random.normal([num_examples_to_generate, noise_dim])"
      ],
      "metadata": {
        "id": "g9NmaF5o-VGk"
      },
      "execution_count": 41,
      "outputs": []
    },
    {
      "cell_type": "code",
      "source": [
        "# 생성자가 입력으로 임의의 시드를 받으면 훈련 루프가 시작됩니다. \n",
        "# 해당 시드는 이미지를 생성하는 데 사용됩니다. 감별자를 사용하여 (훈련 세트에서 가져온) 진짜 이미지와 (생성자를 통해 생성된) 가짜 이미지를 분류합니다. \n",
        "# 각 모델의 손실을 계산하고, 그래디언트를 사용해 생성자와 감별자를 업데이트합니다.\n",
        "\n",
        "# `tf.function`이 어떻게 사용되는지 주목해 주세요.\n",
        "# 이 데코레이터는 함수를 \"컴파일\"합니다.\n",
        "@tf.function\n",
        "def train_step(images):\n",
        "    noise = tf.random.normal([BATCH_SIZE, noise_dim])\n",
        "\n",
        "    with tf.GradientTape() as gen_tape, tf.GradientTape() as disc_tape:\n",
        "      generated_images = generator(noise, training=True)\n",
        "\n",
        "      real_output = discriminator(images, training=True)\n",
        "      fake_output = discriminator(generated_images, training=True)\n",
        "\n",
        "      gen_loss = generator_loss(fake_output)\n",
        "      disc_loss = discriminator_loss(real_output, fake_output)\n",
        "\n",
        "    gradients_of_generator = gen_tape.gradient(gen_loss, generator.trainable_variables)\n",
        "    gradients_of_discriminator = disc_tape.gradient(disc_loss, discriminator.trainable_variables)\n",
        "\n",
        "    generator_optimizer.apply_gradients(zip(gradients_of_generator, generator.trainable_variables))\n",
        "    discriminator_optimizer.apply_gradients(zip(gradients_of_discriminator, discriminator.trainable_variables))"
      ],
      "metadata": {
        "id": "b0Wm-g_X-VIz"
      },
      "execution_count": 42,
      "outputs": []
    },
    {
      "cell_type": "code",
      "source": [
        "def train(dataset, epochs):\n",
        "  for epoch in range(epochs):\n",
        "    start = time.time()\n",
        "\n",
        "    for image_batch in dataset:\n",
        "      train_step(image_batch)\n",
        "\n",
        "    # GIF를 위한 이미지를 바로 생성합니다.\n",
        "    display.clear_output(wait=True)\n",
        "    generate_and_save_images(generator,\n",
        "                             epoch + 1,\n",
        "                             seed)\n",
        "\n",
        "    # 15 에포크가 지날 때마다 모델을 저장합니다.\n",
        "    if (epoch + 1) % 15 == 0:\n",
        "      checkpoint.save(file_prefix = checkpoint_prefix)\n",
        "    \n",
        "    # print (' 에포크 {} 에서 걸린 시간은 {} 초 입니다'.format(epoch +1, time.time()-start))\n",
        "    print ('Time for epoch {} is {} sec'.format(epoch + 1, time.time()-start))\n",
        "\n",
        "  # 마지막 에포크가 끝난 후 생성합니다.\n",
        "  display.clear_output(wait=True)\n",
        "  generate_and_save_images(generator,\n",
        "                           epochs,\n",
        "                           seed)"
      ],
      "metadata": {
        "id": "QsrSE-Kp-VLM"
      },
      "execution_count": 43,
      "outputs": []
    },
    {
      "cell_type": "code",
      "source": [
        "def generate_and_save_images(model, epoch, test_input):\n",
        "  # `training`이 False로 맞춰진 것을 주목하세요.\n",
        "  # 이렇게 하면 (배치정규화를 포함하여) 모든 층들이 추론 모드로 실행됩니다. \n",
        "  predictions = model(test_input, training=False)\n",
        "\n",
        "  fig = plt.figure(figsize=(4,4))\n",
        "\n",
        "  for i in range(predictions.shape[0]):\n",
        "      plt.subplot(4, 4, i+1)\n",
        "      plt.imshow(predictions[i, :, :, 0] * 127.5 + 127.5, cmap='gray')\n",
        "      plt.axis('off')\n",
        "\n",
        "  plt.savefig('/content/generated_output/image_at_epoch_{:04d}.png'.format(epoch))\n",
        "  plt.show()"
      ],
      "metadata": {
        "id": "_G_4MZUP-VNR"
      },
      "execution_count": 44,
      "outputs": []
    },
    {
      "cell_type": "code",
      "source": [
        "# 모델 훈련\n",
        "# 위에서 정의한 train() 메서드를 호출하여 생성자와 판별자를 동시에 훈련합니다. \n",
        "# GAN 훈련은 까다로울 수 있습니다. 생성자와 판별자가 서로를 압도하지 않는 것이 중요합니다(예: 비슷한 속도로 훈련됨).\n",
        "# 훈련 초기에 생성된 이미지는 무작위 노이즈처럼 보입니다. 훈련이 진행됨에 따라 생성된 숫자는 점점 더 실제처럼 보일 것입니다. \n",
        "\n",
        "train(train_dataset, EPOCHS)"
      ],
      "metadata": {
        "colab": {
          "base_uri": "https://localhost:8080/",
          "height": 345
        },
        "id": "mDq-dJsf-VPZ",
        "outputId": "71b65b73-0bf9-4a5d-f1bd-74dcb8c9a786"
      },
      "execution_count": 45,
      "outputs": [
        {
          "output_type": "display_data",
          "data": {
            "text/plain": [
              "<Figure size 400x400 with 16 Axes>"
            ],
            "image/png": "[encoded data removed]"
          },
          "metadata": {}
        }
      ]
    },
    {
      "cell_type": "code",
      "source": [
        "# 마지막 체크포인트를 복구합니다.\n",
        "\n",
        "checkpoint.restore(tf.train.latest_checkpoint(checkpoint_dir))\n"
      ],
      "metadata": {
        "colab": {
          "base_uri": "https://localhost:8080/"
        },
        "id": "JrfzZ5WJ-sBX",
        "outputId": "4f010dad-6bb5-4012-a3a4-abe8c1d11a82"
      },
      "execution_count": 46,
      "outputs": [
        {
          "output_type": "execute_result",
          "data": {
            "text/plain": [
              "<tensorflow.python.checkpoint.checkpoint.CheckpointLoadStatus at 0x7f509668b940>"
            ]
          },
          "metadata": {},
          "execution_count": 46
        }
      ]
    },
    {
      "cell_type": "code",
      "source": [
        "# 에포크 숫자를 사용하여 하나의 이미지를 보여줍니다.\n",
        "\n",
        "def display_image(epoch_no):\n",
        "  return PIL.Image.open('/content/generated_output/image_at_epoch_{:04d}.png'.format(epoch_no))"
      ],
      "metadata": {
        "id": "USW2FIzY-sDx"
      },
      "execution_count": 49,
      "outputs": []
    },
    {
      "cell_type": "code",
      "source": [
        "anim_file = '/content/generated_output/dcgan.gif'\n",
        "\n",
        "with imageio.get_writer(anim_file, mode='I') as writer:\n",
        "  filenames = glob.glob('/content/generated_output/image*.png')\n",
        "  filenames = sorted(filenames)\n",
        "  last = -1\n",
        "  for i,filename in enumerate(filenames):\n",
        "    frame = 2*(i**0.5)\n",
        "    if round(frame) > round(last):\n",
        "      last = frame\n",
        "    else:\n",
        "      continue\n",
        "    image = imageio.imread(filename)\n",
        "    writer.append_data(image)\n",
        "  image = imageio.imread(filename)\n",
        "  writer.append_data(image)\n",
        "\n",
        "import IPython\n",
        "if IPython.version_info > (6,2,0,''):\n",
        "  display.Image(filename=anim_file)"
      ],
      "metadata": {
        "colab": {
          "base_uri": "https://localhost:8080/"
        },
        "id": "dSEax0jE-sF-",
        "outputId": "6b687fc2-5a32-4f66-8856-045dfbe0cd94"
      },
      "execution_count": 51,
      "outputs": [
        {
          "output_type": "stream",
          "name": "stderr",
          "text": [
            "<ipython-input-51-b2b7cd20ce6a>:13: DeprecationWarning: Starting with ImageIO v3 the behavior of this function will switch to that of iio.v3.imread. To keep the current behavior (and make this warning disappear) use `import imageio.v2 as imageio` or call `imageio.v2.imread` directly.\n",
            "  image = imageio.imread(filename)\n",
            "<ipython-input-51-b2b7cd20ce6a>:15: DeprecationWarning: Starting with ImageIO v3 the behavior of this function will switch to that of iio.v3.imread. To keep the current behavior (and make this warning disappear) use `import imageio.v2 as imageio` or call `imageio.v2.imread` directly.\n",
            "  image = imageio.imread(filename)\n"
          ]
        }
      ]
    },
    {
      "cell_type": "code",
      "source": [
        "!zip -r /content/file.zip /content/generated_output\n",
        "\n",
        "from google.colab import files\n",
        "files.download(\"/content/file.zip\")"
      ],
      "metadata": {
        "colab": {
          "base_uri": "https://localhost:8080/",
          "height": 1000
        },
        "id": "RqGLFY0P-sIu",
        "outputId": "ff23ee0e-0185-4b0b-dd9d-ce321a73d03f"
      },
      "execution_count": 53,
      "outputs": [
        {
          "output_type": "stream",
          "name": "stdout",
          "text": [
            "updating: content/generated_output/ (stored 0%)\n",
            "updating: content/generated_output/image_at_epoch_0062.png (deflated 10%)\n",
            "updating: content/generated_output/image_at_epoch_0064.png (deflated 9%)\n",
            "updating: content/generated_output/image_at_epoch_0147.png (deflated 9%)\n",
            "updating: content/generated_output/image_at_epoch_0107.png (deflated 9%)\n",
            "updating: content/generated_output/image_at_epoch_0046.png (deflated 9%)\n",
            "updating: content/generated_output/image_at_epoch_0035.png (deflated 9%)\n",
            "updating: content/generated_output/image_at_epoch_0106.png (deflated 9%)\n",
            "updating: content/generated_output/image_at_epoch_0006.png (deflated 7%)\n",
            "updating: content/generated_output/image_at_epoch_0115.png (deflated 9%)\n",
            "updating: content/generated_output/image_at_epoch_0073.png (deflated 9%)\n",
            "updating: content/generated_output/image_at_epoch_0103.png (deflated 9%)\n",
            "updating: content/generated_output/image_at_epoch_0105.png (deflated 9%)\n",
            "updating: content/generated_output/image_at_epoch_0040.png (deflated 9%)\n",
            "updating: content/generated_output/image_at_epoch_0034.png (deflated 8%)\n",
            "updating: content/generated_output/image_at_epoch_0021.png (deflated 8%)\n",
            "updating: content/generated_output/image_at_epoch_0134.png (deflated 9%)\n",
            "updating: content/generated_output/image_at_epoch_0096.png (deflated 9%)\n",
            "updating: content/generated_output/image_at_epoch_0083.png (deflated 9%)\n",
            "updating: content/generated_output/image_at_epoch_0026.png (deflated 9%)\n",
            "updating: content/generated_output/image_at_epoch_0133.png (deflated 10%)\n",
            "updating: content/generated_output/image_at_epoch_0127.png (deflated 10%)\n",
            "updating: content/generated_output/image_at_epoch_0043.png (deflated 8%)\n",
            "updating: content/generated_output/image_at_epoch_0139.png (deflated 9%)\n",
            "updating: content/generated_output/image_at_epoch_0130.png (deflated 9%)\n",
            "updating: content/generated_output/image_at_epoch_0142.png (deflated 10%)\n",
            "updating: content/generated_output/image_at_epoch_0030.png (deflated 9%)\n",
            "updating: content/generated_output/image_at_epoch_0007.png (deflated 8%)\n",
            "updating: content/generated_output/image_at_epoch_0069.png (deflated 10%)\n",
            "updating: content/generated_output/image_at_epoch_0019.png (deflated 9%)\n",
            "updating: content/generated_output/image_at_epoch_0098.png (deflated 9%)\n",
            "updating: content/generated_output/image_at_epoch_0116.png (deflated 10%)\n",
            "updating: content/generated_output/image_at_epoch_0027.png (deflated 8%)\n",
            "updating: content/generated_output/image_at_epoch_0028.png (deflated 8%)\n",
            "updating: content/generated_output/image_at_epoch_0022.png (deflated 9%)\n",
            "updating: content/generated_output/image_at_epoch_0014.png (deflated 9%)\n",
            "updating: content/generated_output/image_at_epoch_0102.png (deflated 9%)\n",
            "updating: content/generated_output/image_at_epoch_0058.png (deflated 9%)\n",
            "updating: content/generated_output/image_at_epoch_0087.png (deflated 9%)\n",
            "updating: content/generated_output/image_at_epoch_0008.png (deflated 8%)\n",
            "updating: content/generated_output/image_at_epoch_0090.png (deflated 9%)\n",
            "updating: content/generated_output/image_at_epoch_0013.png (deflated 9%)\n",
            "updating: content/generated_output/image_at_epoch_0048.png (deflated 8%)\n",
            "updating: content/generated_output/image_at_epoch_0088.png (deflated 9%)\n",
            "updating: content/generated_output/image_at_epoch_0112.png (deflated 9%)\n",
            "updating: content/generated_output/image_at_epoch_0070.png (deflated 9%)\n",
            "updating: content/generated_output/image_at_epoch_0020.png (deflated 9%)\n",
            "updating: content/generated_output/image_at_epoch_0002.png (deflated 5%)\n",
            "updating: content/generated_output/image_at_epoch_0076.png (deflated 10%)\n",
            "updating: content/generated_output/image_at_epoch_0099.png (deflated 10%)\n",
            "updating: content/generated_output/image_at_epoch_0148.png (deflated 10%)\n",
            "updating: content/generated_output/image_at_epoch_0141.png (deflated 10%)\n",
            "updating: content/generated_output/image_at_epoch_0119.png (deflated 10%)\n",
            "updating: content/generated_output/image_at_epoch_0017.png (deflated 8%)\n",
            "updating: content/generated_output/image_at_epoch_0092.png (deflated 9%)\n",
            "updating: content/generated_output/image_at_epoch_0044.png (deflated 8%)\n",
            "updating: content/generated_output/image_at_epoch_0001.png (deflated 4%)\n",
            "updating: content/generated_output/image_at_epoch_0143.png (deflated 9%)\n",
            "updating: content/generated_output/image_at_epoch_0126.png (deflated 9%)\n",
            "updating: content/generated_output/image_at_epoch_0093.png (deflated 9%)\n",
            "updating: content/generated_output/image_at_epoch_0052.png (deflated 8%)\n",
            "updating: content/generated_output/image_at_epoch_0081.png (deflated 10%)\n",
            "updating: content/generated_output/image_at_epoch_0140.png (deflated 9%)\n",
            "updating: content/generated_output/image_at_epoch_0120.png (deflated 9%)\n",
            "updating: content/generated_output/image_at_epoch_0135.png (deflated 10%)\n",
            "updating: content/generated_output/image_at_epoch_0011.png (deflated 9%)\n",
            "updating: content/generated_output/image_at_epoch_0063.png (deflated 9%)\n",
            "updating: content/generated_output/image_at_epoch_0015.png (deflated 9%)\n",
            "updating: content/generated_output/image_at_epoch_0067.png (deflated 9%)\n",
            "updating: content/generated_output/image_at_epoch_0055.png (deflated 10%)\n",
            "updating: content/generated_output/image_at_epoch_0122.png (deflated 9%)\n",
            "updating: content/generated_output/image_at_epoch_0124.png (deflated 9%)\n",
            "updating: content/generated_output/image_at_epoch_0018.png (deflated 9%)\n",
            "updating: content/generated_output/image_at_epoch_0123.png (deflated 10%)\n",
            "updating: content/generated_output/image_at_epoch_0084.png (deflated 9%)\n",
            "updating: content/generated_output/image_at_epoch_0012.png (deflated 10%)\n",
            "updating: content/generated_output/image_at_epoch_0003.png (deflated 6%)\n",
            "updating: content/generated_output/image_at_epoch_0061.png (deflated 10%)\n",
            "updating: content/generated_output/image_at_epoch_0039.png (deflated 8%)\n",
            "updating: content/generated_output/image_at_epoch_0128.png (deflated 9%)\n",
            "updating: content/generated_output/image_at_epoch_0110.png (deflated 9%)\n",
            "updating: content/generated_output/image_at_epoch_0138.png (deflated 10%)\n",
            "updating: content/generated_output/image_at_epoch_0079.png (deflated 9%)\n",
            "updating: content/generated_output/image_at_epoch_0074.png (deflated 9%)\n",
            "updating: content/generated_output/image_at_epoch_0038.png (deflated 8%)\n",
            "updating: content/generated_output/image_at_epoch_0089.png (deflated 10%)\n",
            "updating: content/generated_output/image_at_epoch_0111.png (deflated 9%)\n",
            "updating: content/generated_output/image_at_epoch_0078.png (deflated 9%)\n",
            "updating: content/generated_output/image_at_epoch_0080.png (deflated 9%)\n",
            "updating: content/generated_output/image_at_epoch_0131.png (deflated 9%)\n",
            "updating: content/generated_output/image_at_epoch_0132.png (deflated 10%)\n",
            "updating: content/generated_output/image_at_epoch_0129.png (deflated 9%)\n",
            "updating: content/generated_output/image_at_epoch_0045.png (deflated 9%)\n",
            "updating: content/generated_output/image_at_epoch_0072.png (deflated 9%)\n",
            "updating: content/generated_output/image_at_epoch_0054.png (deflated 9%)\n",
            "updating: content/generated_output/image_at_epoch_0031.png (deflated 9%)\n",
            "updating: content/generated_output/image_at_epoch_0005.png (deflated 6%)\n",
            "updating: content/generated_output/image_at_epoch_0150.png (deflated 9%)\n",
            "updating: content/generated_output/image_at_epoch_0125.png (deflated 9%)\n",
            "updating: content/generated_output/image_at_epoch_0025.png (deflated 9%)\n",
            "updating: content/generated_output/image_at_epoch_0037.png (deflated 8%)\n",
            "updating: content/generated_output/image_at_epoch_0029.png (deflated 9%)\n",
            "updating: content/generated_output/image_at_epoch_0085.png (deflated 10%)\n",
            "updating: content/generated_output/image_at_epoch_0146.png (deflated 10%)\n",
            "updating: content/generated_output/image_at_epoch_0056.png (deflated 9%)\n",
            "updating: content/generated_output/image_at_epoch_0066.png (deflated 9%)\n",
            "updating: content/generated_output/image_at_epoch_0032.png (deflated 9%)\n",
            "updating: content/generated_output/image_at_epoch_0050.png (deflated 8%)\n",
            "updating: content/generated_output/image_at_epoch_0109.png (deflated 9%)\n",
            "updating: content/generated_output/image_at_epoch_0149.png (deflated 9%)\n",
            "updating: content/generated_output/image_at_epoch_0100.png (deflated 10%)\n",
            "updating: content/generated_output/image_at_epoch_0041.png (deflated 8%)\n",
            "updating: content/generated_output/image_at_epoch_0086.png (deflated 9%)\n",
            "updating: content/generated_output/image_at_epoch_0144.png (deflated 9%)\n",
            "updating: content/generated_output/image_at_epoch_0068.png (deflated 9%)\n",
            "updating: content/generated_output/image_at_epoch_0108.png (deflated 9%)\n",
            "updating: content/generated_output/image_at_epoch_0114.png (deflated 9%)\n",
            "updating: content/generated_output/image_at_epoch_0010.png (deflated 10%)\n",
            "updating: content/generated_output/image_at_epoch_0137.png (deflated 10%)\n",
            "updating: content/generated_output/image_at_epoch_0097.png (deflated 9%)\n",
            "updating: content/generated_output/image_at_epoch_0004.png (deflated 8%)\n",
            "updating: content/generated_output/image_at_epoch_0082.png (deflated 9%)\n",
            "updating: content/generated_output/dcgan.gif (deflated 5%)\n",
            "updating: content/generated_output/image_at_epoch_0121.png (deflated 9%)\n",
            "updating: content/generated_output/image_at_epoch_0051.png (deflated 8%)\n",
            "updating: content/generated_output/image_at_epoch_0091.png (deflated 9%)\n",
            "updating: content/generated_output/image_at_epoch_0016.png (deflated 8%)\n",
            "updating: content/generated_output/image_at_epoch_0071.png (deflated 9%)\n",
            "updating: content/generated_output/image_at_epoch_0145.png (deflated 9%)\n",
            "updating: content/generated_output/image_at_epoch_0009.png (deflated 9%)\n",
            "updating: content/generated_output/image_at_epoch_0036.png (deflated 8%)\n",
            "updating: content/generated_output/image_at_epoch_0065.png (deflated 9%)\n",
            "updating: content/generated_output/image_at_epoch_0023.png (deflated 8%)\n",
            "updating: content/generated_output/image_at_epoch_0077.png (deflated 9%)\n",
            "updating: content/generated_output/image_at_epoch_0042.png (deflated 8%)\n",
            "updating: content/generated_output/image_at_epoch_0113.png (deflated 10%)\n",
            "updating: content/generated_output/image_at_epoch_0094.png (deflated 9%)\n",
            "updating: content/generated_output/image_at_epoch_0117.png (deflated 10%)\n",
            "updating: content/generated_output/image_at_epoch_0075.png (deflated 9%)\n",
            "updating: content/generated_output/image_at_epoch_0060.png (deflated 9%)\n",
            "updating: content/generated_output/image_at_epoch_0053.png (deflated 9%)\n",
            "updating: content/generated_output/image_at_epoch_0047.png (deflated 9%)\n",
            "updating: content/generated_output/image_at_epoch_0049.png (deflated 8%)\n",
            "updating: content/generated_output/image_at_epoch_0104.png (deflated 9%)\n",
            "updating: content/generated_output/image_at_epoch_0118.png (deflated 9%)\n",
            "updating: content/generated_output/image_at_epoch_0024.png (deflated 8%)\n",
            "updating: content/generated_output/image_at_epoch_0057.png (deflated 9%)\n",
            "updating: content/generated_output/image_at_epoch_0101.png (deflated 9%)\n",
            "updating: content/generated_output/image_at_epoch_0033.png (deflated 8%)\n",
            "updating: content/generated_output/image_at_epoch_0095.png (deflated 9%)\n",
            "updating: content/generated_output/image_at_epoch_0136.png (deflated 10%)\n",
            "updating: content/generated_output/image_at_epoch_0059.png (deflated 10%)\n"
          ]
        },
        {
          "output_type": "display_data",
          "data": {
            "text/plain": [
              "<IPython.core.display.Javascript object>"
            ],
            "application/javascript": [
              "\n",
              "    async function download(id, filename, size) {\n",
              "      if (!google.colab.kernel.accessAllowed) {\n",
              "        return;\n",
              "      }\n",
              "      const div = document.createElement('div');\n",
              "      const label = document.createElement('label');\n",
              "      label.textContent = `Downloading \"${filename}\": `;\n",
              "      div.appendChild(label);\n",
              "      const progress = document.createElement('progress');\n",
              "      progress.max = size;\n",
              "      div.appendChild(progress);\n",
              "      document.body.appendChild(div);\n",
              "\n",
              "      const buffers = [];\n",
              "      let downloaded = 0;\n",
              "\n",
              "      const channel = await google.colab.kernel.comms.open(id);\n",
              "      // Send a message to notify the kernel that we're ready.\n",
              "      channel.send({})\n",
              "\n",
              "      for await (const message of channel.messages) {\n",
              "        // Send a message to notify the kernel that we're ready.\n",
              "        channel.send({})\n",
              "        if (message.buffers) {\n",
              "          for (const buffer of message.buffers) {\n",
              "            buffers.push(buffer);\n",
              "            downloaded += buffer.byteLength;\n",
              "            progress.value = downloaded;\n",
              "          }\n",
              "        }\n",
              "      }\n",
              "      const blob = new Blob(buffers, {type: 'application/binary'});\n",
              "      const a = document.createElement('a');\n",
              "      a.href = window.URL.createObjectURL(blob);\n",
              "      a.download = filename;\n",
              "      div.appendChild(a);\n",
              "      a.click();\n",
              "      div.remove();\n",
              "    }\n",
              "  "
            ]
          },
          "metadata": {}
        },
        {
          "output_type": "display_data",
          "data": {
            "text/plain": [
              "<IPython.core.display.Javascript object>"
            ],
            "application/javascript": [
              "download(\"download_123c03dd-a9d1-499d-a38d-662589b85540\", \"file.zip\", 6598591)"
            ]
          },
          "metadata": {}
        }
      ]
    }
  ]
}