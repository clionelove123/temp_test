{
  "nbformat": 4,
  "nbformat_minor": 0,
  "metadata": {
    "colab": {
      "provenance": [],
      "authorship_tag": "ABX9TyOTj8Txm0P+EWPKO0lCL2Xd",
      "include_colab_link": true
    },
    "kernelspec": {
      "name": "python3",
      "display_name": "Python 3"
    },
    "language_info": {
      "name": "python"
    }
  },
  "cells": [
    {
      "cell_type": "markdown",
      "metadata": {
        "id": "view-in-github",
        "colab_type": "text"
      },
      "source": [
        "<a href=\"https://colab.research.google.com/github/clionelove123/temp_test/blob/main/Chap_3_linear_regression.ipynb\" target=\"_parent\"><img src=\"https://colab.research.google.com/assets/colab-badge.svg\" alt=\"Open In Colab\"/></a>"
      ]
    },
    {
      "cell_type": "code",
      "execution_count": 2,
      "metadata": {
        "colab": {
          "base_uri": "https://localhost:8080/"
        },
        "id": "C2I53Vb80CaG",
        "outputId": "a94b6186-153c-49ed-9fad-483eb7f309a4"
      },
      "outputs": [
        {
          "output_type": "stream",
          "name": "stdout",
          "text": [
            "2.11.0\n"
          ]
        }
      ],
      "source": [
        "# -*- coding: utf-8 -*-\n",
        "\n",
        "import pathlib\n",
        "\n",
        "import matplotlib.pyplot as plt\n",
        "import pandas as pd\n",
        "import seaborn as sns\n",
        "\n",
        "import tensorflow as tf\n",
        "from tensorflow import keras\n",
        "from tensorflow.keras import layers\n",
        "\n",
        "import math\n",
        "\n",
        "import numpy as np\n",
        "\n",
        "print(tf.__version__)\n"
      ]
    },
    {
      "cell_type": "code",
      "source": [
        "@tf.function\n",
        "def linear_model(x):\n",
        "  return W*x + b\n",
        "\n",
        "x=10\n",
        "\n",
        "# 선형회귀 모델(Wx + b)을 위한 tf.Variable을 선언합니다.\n",
        "W = tf.Variable(tf.random.normal(shape=[1]))\n",
        "b = tf.Variable(tf.random.normal(shape=[1]))\n",
        "\n",
        "k=tf.convert_to_tensor([W.numpy(),b.numpy()])\n",
        "print(k.numpy())\n",
        "\n",
        "# 손실 함수를 정의합니다.\n",
        "# MSE 손실함수 \\mean{(y' - y)^2}\n",
        "@tf.function\n",
        "def mse_loss(y_pred, y):\n",
        "  return tf.reduce_mean(tf.square(y_pred - y))"
      ],
      "metadata": {
        "id": "QTmo0KBJBbMO",
        "colab": {
          "base_uri": "https://localhost:8080/"
        },
        "outputId": "2ab75ba2-d5bb-4756-813a-44572a2d58fc"
      },
      "execution_count": 3,
      "outputs": [
        {
          "output_type": "stream",
          "name": "stdout",
          "text": [
            "[[-0.67133343]\n",
            " [ 0.48718837]]\n"
          ]
        }
      ]
    },
    {
      "cell_type": "code",
      "source": [
        "# 트레이닝을 위한 입력값과 출력값을 준비합니다.\n",
        "\n",
        "x_train=[7.2, 9.9, 4.7, 0.5]\n",
        "y_train=[33.7, 38.1, 21.3, 0.6]\n",
        "\n",
        "#x_train=[6.6, 3.5, 1.4, 3.5, 7.6, 7.3, 0.6, 9.5, 4.1, 0.6, 0.6, 3.1, 1, 0.7, 9.8, 0.5, 4.2, 8.7, 5, 8.5, 5.8, 8.6, 0.2, 5.2, 8.7, 3.2, 9.6, 3.2, 5.3, 7.8, 7.7, 9.7, 6.4, 7.4, 2.4, 2.9, 2.3, 6.8, 1.8, 6, 7.3, 8.8, 8.2, 5.9, 1.9, 3.1, 8.8, 6.9, 4, 1.3]\n",
        "#y_train=[26.3, 16.5, 7.7, 14.8, 30.9, 29, 5.8, 37.3, 17.3, 5.4, 4.5, 13.4, 6.2, 4.9, 39.6, 4.3, 18.8, 35.5, 20.8, 34.8, 23.4, 35.4, 3.2, 21.6, 34.1, 14, 38.9, 14.2, 21.6, 31.8, 32.1, 38.3, 25.8, 31.1, 10.7, 12.8, 11.7, 28.7, 10.4, 25.8, 29.8, 35.1, 32.7, 24.7, 10.2, 14.9, 35.5, 27.5, 17, 8.5]\n",
        "\n"
      ],
      "metadata": {
        "id": "t3Brs9l4J7Vn"
      },
      "execution_count": 4,
      "outputs": []
    },
    {
      "cell_type": "code",
      "source": [
        "y_pred = linear_model(x_train)\n",
        "\n",
        "loss = mse_loss(y_pred, y_train)\n",
        "\n",
        "print(y_pred.numpy())\n",
        "print(loss.numpy())"
      ],
      "metadata": {
        "colab": {
          "base_uri": "https://localhost:8080/"
        },
        "id": "cq4971SuNDrF",
        "outputId": "6f6fdc4d-ad36-42e0-fa12-fbeaeebd84b2"
      },
      "execution_count": 5,
      "outputs": [
        {
          "output_type": "stream",
          "name": "stdout",
          "text": [
            "[-4.346412   -6.1590123  -2.6680787   0.15152165]\n",
            "995.2649\n"
          ]
        }
      ]
    },
    {
      "cell_type": "code",
      "source": [
        "# 최적화를 위한 그라디언트 디센트 옵티마이저를 정의합니다.\n",
        "optimizer = tf.optimizers.SGD(0.01)\n",
        "\n",
        "# 최적화를 위한 function을 정의합니다.\n",
        "@tf.function\n",
        "def train_step(x, y):\n",
        "  with tf.GradientTape() as tape:\n",
        "    y_pred = linear_model(x)\n",
        "    loss = mse_loss(y_pred, y)\n",
        "  gradients = tape.gradient(loss, [W, b])\n",
        "  optimizer.apply_gradients(zip(gradients, [W, b]))"
      ],
      "metadata": {
        "id": "HHtyYi4qBbfP"
      },
      "execution_count": 6,
      "outputs": []
    },
    {
      "cell_type": "code",
      "source": [
        "# 경사하강법을 1000번 수행합니다.\n",
        "\n",
        "for i in range(100):\n",
        "  train_step(x_train, y_train)\n",
        "  if i<10:\n",
        "#    z=linear_model(x)\n",
        "#    k=tf.convert_to_tensor([W.numpy(),b.numpy(),z.numpy()])\n",
        "    k=tf.convert_to_tensor([W.numpy(),b.numpy()])\n",
        "    print(k.numpy())\n",
        "  else:\n",
        "    if (i%10)<1:\n",
        "#      z=linear_model(x)\n",
        "#      k=tf.convert_to_tensor([W.numpy(),b.numpy(),z.numpy()])\n",
        "#      print(k.numpy())\n",
        "      k=tf.convert_to_tensor([W.numpy(),b.numpy()])\n",
        "      print(k.numpy())\n",
        "\n"
      ],
      "metadata": {
        "id": "NJWNh_Wh0Fze",
        "colab": {
          "base_uri": "https://localhost:8080/"
        },
        "outputId": "71e9f371-ca3f-4c1e-d1dc-5f51b794eb8a"
      },
      "execution_count": 7,
      "outputs": [
        {
          "output_type": "stream",
          "name": "stdout",
          "text": [
            "[[3.4535294]\n",
            " [1.0207982]]\n",
            "[[3.9675944]\n",
            " [1.0838138]]\n",
            "[[4.0320487]\n",
            " [1.0882508]]\n",
            "[[4.0405164]\n",
            " [1.0854123]]\n",
            "[[4.0420103]\n",
            " [1.0816865]]\n",
            "[[4.0426335]\n",
            " [1.0778686]]\n",
            "[[4.0431457]\n",
            " [1.0740576]]\n",
            "[[4.043642 ]\n",
            " [1.0702657]]\n",
            "[[4.0441337]\n",
            " [1.0664942]]\n",
            "[[4.044623 ]\n",
            " [1.0627434]]\n",
            "[[4.045109 ]\n",
            " [1.0590131]]\n",
            "[[4.049827 ]\n",
            " [1.0228139]]\n",
            "[[4.0542936 ]\n",
            " [0.98854584]]\n",
            "[[4.0585213 ]\n",
            " [0.95610565]]\n",
            "[[4.0625243 ]\n",
            " [0.92539626]]\n",
            "[[4.066313  ]\n",
            " [0.89632523]]\n",
            "[[4.0698996 ]\n",
            " [0.86880517]]\n",
            "[[4.073295  ]\n",
            " [0.84275335]]\n",
            "[[4.07651   ]\n",
            " [0.81809133]]\n"
          ]
        }
      ]
    },
    {
      "cell_type": "code",
      "source": [
        "# 테스트를 위한 입력값을 준비합니다.\n",
        "x_test = [0,10,20,30]\n",
        "\n",
        "print(linear_model(x_test).numpy())\n",
        "\n",
        "\n"
      ],
      "metadata": {
        "id": "3wtQsrge0G91",
        "colab": {
          "base_uri": "https://localhost:8080/"
        },
        "outputId": "793a1f3e-39da-48fd-d13e-083d9b4a7a92"
      },
      "execution_count": 8,
      "outputs": [
        {
          "output_type": "stream",
          "name": "stdout",
          "text": [
            "[  0.7970226  41.58958    82.38213   123.17469  ]\n"
          ]
        }
      ]
    }
  ]
}