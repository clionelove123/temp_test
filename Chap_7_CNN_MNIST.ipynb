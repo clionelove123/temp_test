{
  "nbformat": 4,
  "nbformat_minor": 0,
  "metadata": {
    "colab": {
      "provenance": [],
      "authorship_tag": "ABX9TyOtvm3+ttGDIsbYXYcGVAyj",
      "include_colab_link": true
    },
    "kernelspec": {
      "name": "python3",
      "display_name": "Python 3"
    },
    "language_info": {
      "name": "python"
    }
  },
  "cells": [
    {
      "cell_type": "markdown",
      "metadata": {
        "id": "view-in-github",
        "colab_type": "text"
      },
      "source": [
        "<a href=\"https://colab.research.google.com/github/clionelove123/temp_test/blob/main/Chap_7_CNN_MNIST.ipynb\" target=\"_parent\"><img src=\"https://colab.research.google.com/assets/colab-badge.svg\" alt=\"Open In Colab\"/></a>"
      ]
    },
    {
      "cell_type": "code",
      "source": [
        "# -*- coding: utf-8 -*-\n",
        "# Convolutional Neural Networks(CNN)을 이용한 MNIST 분류기(Classifier)\n",
        "\n",
        "import tensorflow as tf"
      ],
      "metadata": {
        "id": "9DEOwzum5PHn"
      },
      "execution_count": 66,
      "outputs": []
    },
    {
      "cell_type": "code",
      "source": [
        "# MNIST 데이터를 다운로드 합니다.\n",
        "(x_train, y_train), (x_test, y_test) = tf.keras.datasets.mnist.load_data()\n",
        "# 이미지들을 float32 데이터 타입으로 변경합니다.\n",
        "x_train, x_test = x_train.astype('float32'), x_test.astype('float32')\n",
        "# 28*28 형태의 이미지를 784차원으로 flattening 합니다.\n",
        "x_train, x_test = x_train.reshape([-1, 784]), x_test.reshape([-1, 784])\n",
        "# [0, 255] 사이의 값을 [0, 1]사이의 값으로 Normalize합니다.\n",
        "x_train, x_test = x_train / 255., x_test / 255.\n",
        "# 레이블 데이터에 one-hot encoding을 적용합니다.\n",
        "y_train, y_test = tf.one_hot(y_train, depth=10), tf.one_hot(y_test, depth=10)\n",
        "\n",
        "# tf.data API를 이용해서 데이터를 섞고 batch 형태로 가져옵니다.\n",
        "train_data = tf.data.Dataset.from_tensor_slices((x_train, y_train))\n",
        "train_data = train_data.repeat().shuffle(60000).batch(50)\n",
        "train_data_iter = iter(train_data)"
      ],
      "metadata": {
        "id": "iEootGt15SQg"
      },
      "execution_count": 67,
      "outputs": []
    },
    {
      "cell_type": "code",
      "source": [
        "# CNN 모델을 정의합니다.\n",
        "class CNN(object):\n",
        "  # CNN 모델을 위한 tf.Variable들을 정의합니다.\n",
        "  def __init__(self):\n",
        "    # 첫번째 Convolution Layer\n",
        "    # 5x5 Kernel Size를 가진 32개의 Filter를 적용합니다.\n",
        "    self.W_conv1 = tf.Variable(tf.random.truncated_normal(shape=[5, 5, 1, 32], stddev=5e-2))\n",
        "    self.b_conv1 = tf.Variable(tf.constant(0.1, shape=[32]))\n",
        "\n",
        "    # 두번째 Convolutional Layer\n",
        "    # 5x5 Kernel Size를 가진 64개의 Filter를 적용합니다.\n",
        "    self.W_conv2 = tf.Variable(tf.random.truncated_normal(shape=[5, 5, 32, 64], stddev=5e-2))\n",
        "    self.b_conv2 = tf.Variable(tf.constant(0.1, shape=[64]))\n",
        "\n",
        "    # Fully Connected Layer\n",
        "    # 7x7 크기를 가진 64개의 activation map을 1024개의 특징들로 변환합니다.\n",
        "    self.W_fc1 = tf.Variable(tf.random.truncated_normal(shape=[7 * 7 * 64, 1024], stddev=5e-2))\n",
        "    self.b_fc1 = tf.Variable(tf.constant(0.1, shape=[1024]))\n",
        "\n",
        "    # Output Layer\n",
        "    # 1024개의 특징들(feature)을 10개의 클래스-one-hot encoding으로 표현된 숫자 0~9-로 변환합니다.\n",
        "    self.W_output = tf.Variable(tf.random.truncated_normal(shape=[1024, 10], stddev=5e-2))\n",
        "    self.b_output = tf.Variable(tf.constant(0.1, shape=[10]))\n",
        "\n",
        "  def __call__(self, x):\n",
        "    # MNIST 데이터를 3차원 형태로 reshape합니다. MNIST 데이터는 grayscale 이미지기 때문에 3번째차원(컬러채널)의 값은 1입니다.\n",
        "    x_image = tf.reshape(x, [-1, 28, 28, 1])\n",
        "    # 28x28x1 -> 28x28x32\n",
        "    h_conv1 = tf.nn.relu(tf.nn.conv2d(x_image, self.W_conv1, strides=[1, 1, 1, 1], padding='SAME') + self.b_conv1)\n",
        "    # 28x28x32 -> 14x14x32\n",
        "    h_pool1 = tf.nn.max_pool(h_conv1, ksize=[1, 2, 2, 1], strides=[1, 2, 2, 1], padding='SAME')\n",
        "    # 14x14x32 -> 14x14x64\n",
        "    h_conv2 = tf.nn.relu(tf.nn.conv2d(h_pool1, self.W_conv2, strides=[1, 1, 1, 1], padding='SAME') + self.b_conv2)\n",
        "    # 14x14x64 -> 7x7x64\n",
        "    h_pool2 = tf.nn.max_pool(h_conv2, ksize=[1, 2, 2, 1], strides=[1, 2, 2, 1], padding='SAME')\n",
        "    # 7x7x64(3136) -> 1024\n",
        "    h_pool2_flat = tf.reshape(h_pool2, [-1, 7 * 7 * 64])\n",
        "    h_fc1 = tf.nn.relu(tf.matmul(h_pool2_flat, self.W_fc1) + self.b_fc1)\n",
        "    # 1024 -> 10\n",
        "    logits = tf.matmul(h_fc1, self.W_output) + self.b_output\n",
        "    y_pred = tf.nn.softmax(logits)\n",
        "\n",
        "    return y_pred, logits"
      ],
      "metadata": {
        "id": "hw3_hTuN5W2T"
      },
      "execution_count": 68,
      "outputs": []
    },
    {
      "cell_type": "code",
      "source": [
        "# cross-entropy 손실 함수를 정의합니다.\n",
        "@tf.function\n",
        "def cross_entropy_loss(logits, y):\n",
        "  return tf.reduce_mean(tf.nn.softmax_cross_entropy_with_logits(logits=logits, labels=y))\n",
        "\n",
        "# 최적화를 위한 Adam 옵티마이저를 정의합니다.\n",
        "optimizer = tf.optimizers.Adam(1e-4)\n",
        "\n",
        "# 최적화를 위한 function을 정의합니다.\n",
        "@tf.function\n",
        "def train_step(model, x, y):\n",
        "  with tf.GradientTape() as tape:\n",
        "    y_pred, logits = model(x)\n",
        "    loss = cross_entropy_loss(logits, y)\n",
        "  gradients = tape.gradient(loss, vars(model).values())\n",
        "  optimizer.apply_gradients(zip(gradients, vars(model).values()))\n",
        "\n",
        "# 모델의 정확도를 출력하는 함수를 정의합니다.\n",
        "@tf.function\n",
        "def compute_accuracy(y_pred, y):\n",
        "  correct_prediction = tf.equal(tf.argmax(y_pred,1), tf.argmax(y,1))\n",
        "  accuracy = tf.reduce_mean(tf.cast(correct_prediction, tf.float32))\n",
        "\n",
        "  return accuracy"
      ],
      "metadata": {
        "id": "obixAvDz5YeN"
      },
      "execution_count": 69,
      "outputs": []
    },
    {
      "cell_type": "code",
      "source": [
        "# Convolutional Neural Networks(CNN) 모델을 선언합니다.\n",
        "CNN_model = CNN()\n",
        "\n",
        "# 10000 Step만큼 최적화를 수행합니다.\n",
        "for i in range(1000):\n",
        "  # 50개씩 MNIST 데이터를 불러옵니다.\n",
        "  batch_x, batch_y = next(train_data_iter)\n",
        "  # 100 Step마다 training 데이터셋에 대한 정확도를 출력합니다.\n",
        "  if i < 100:\n",
        "    if i % 10 ==0:\n",
        "      train_accuracy = compute_accuracy(CNN_model(batch_x)[0], batch_y)\n",
        "      loss_epoch = cross_entropy_loss(CNN_model(batch_x)[0], batch_y)\n",
        "      print(\"반복(Epoch): %d, 트레이닝 데이터 정확도: %f 트레이닝 손실: %f \" % (i, train_accuracy,loss_epoch))\n",
        "#      train_accuracy_test = compute_accuracy(CNN_model(x_test)[0], y_test)\n",
        "#      loss_epoch_test = cross_entropy_loss(CNN_model(x_test)[0], y_test)\n",
        "#      print(\"반복(Epoch): %d, 트레이닝 데이터 정확도: %f 트레이닝 손실: %f 테스트 정확도 %f 테스트 손실 %f\" % (i, train_accuracy,loss_epoch,train_accuracy_test,loss_epoch_test))\n",
        "    # 옵티마이저를 실행해 파라미터를 한스텝 업데이트합니다.\n",
        "  elif i % 50 == 0:\n",
        "    train_accuracy = compute_accuracy(CNN_model(batch_x)[0], batch_y)\n",
        "    loss_epoch = cross_entropy_loss(CNN_model(batch_x)[0], batch_y)\n",
        "    train_accuracy_test = compute_accuracy(CNN_model(x_test)[0], y_test)\n",
        "    loss_epoch_test = cross_entropy_loss(CNN_model(x_test)[0], y_test)\n",
        "    print(\"반복(Epoch): %d, 트레이닝 데이터 정확도: %f 트레이닝 손실: %f 테스트 정확도 %f 테스트 손실 %f\" % (i, train_accuracy,loss_epoch,train_accuracy_test,loss_epoch_test))\n",
        "  # 옵티마이저를 실행해 파라미터를 한스텝 업데이트합니다.\n",
        "  train_step(CNN_model, batch_x, batch_y)"
      ],
      "metadata": {
        "colab": {
          "base_uri": "https://localhost:8080/"
        },
        "id": "63XWHLZ05MN0",
        "outputId": "a49cb718-7c9a-41dd-e4c9-95b024cd169c"
      },
      "execution_count": 70,
      "outputs": [
        {
          "output_type": "stream",
          "name": "stdout",
          "text": [
            "반복(Epoch): 0, 트레이닝 데이터 정확도: 0.080000 트레이닝 손실: 2.308255 \n",
            "반복(Epoch): 10, 트레이닝 데이터 정확도: 0.120000 트레이닝 손실: 2.291657 \n",
            "반복(Epoch): 20, 트레이닝 데이터 정확도: 0.320000 트레이닝 손실: 2.257884 \n",
            "반복(Epoch): 30, 트레이닝 데이터 정확도: 0.480000 트레이닝 손실: 2.246689 \n",
            "반복(Epoch): 40, 트레이닝 데이터 정확도: 0.420000 트레이닝 손실: 2.200139 \n",
            "반복(Epoch): 50, 트레이닝 데이터 정확도: 0.740000 트레이닝 손실: 2.122178 \n",
            "반복(Epoch): 60, 트레이닝 데이터 정확도: 0.660000 트레이닝 손실: 2.109380 \n",
            "반복(Epoch): 70, 트레이닝 데이터 정확도: 0.640000 트레이닝 손실: 1.996079 \n",
            "반복(Epoch): 80, 트레이닝 데이터 정확도: 0.740000 트레이닝 손실: 1.935255 \n",
            "반복(Epoch): 90, 트레이닝 데이터 정확도: 0.760000 트레이닝 손실: 1.916228 \n",
            "반복(Epoch): 100, 트레이닝 데이터 정확도: 0.860000 트레이닝 손실: 1.820688 테스트 정확도 0.834800 테스트 손실 1.823674\n",
            "반복(Epoch): 150, 트레이닝 데이터 정확도: 0.860000 트레이닝 손실: 1.729452 테스트 정확도 0.892400 테스트 손실 1.697524\n",
            "반복(Epoch): 200, 트레이닝 데이터 정확도: 0.880000 트레이닝 손실: 1.670426 테스트 정확도 0.902900 테스트 손실 1.648988\n",
            "반복(Epoch): 250, 트레이닝 데이터 정확도: 0.900000 트레이닝 손실: 1.671938 테스트 정확도 0.889600 테스트 손실 1.639659\n",
            "반복(Epoch): 300, 트레이닝 데이터 정확도: 0.980000 트레이닝 손실: 1.558281 테스트 정확도 0.922200 테스트 손실 1.601544\n",
            "반복(Epoch): 350, 트레이닝 데이터 정확도: 0.940000 트레이닝 손실: 1.591497 테스트 정확도 0.923800 테스트 손실 1.591889\n",
            "반복(Epoch): 400, 트레이닝 데이터 정확도: 0.880000 트레이닝 손실: 1.618685 테스트 정확도 0.936800 테스트 손실 1.573131\n",
            "반복(Epoch): 450, 트레이닝 데이터 정확도: 0.980000 트레이닝 손실: 1.555091 테스트 정확도 0.938500 테스트 손실 1.565519\n",
            "반복(Epoch): 500, 트레이닝 데이터 정확도: 0.920000 트레이닝 손실: 1.563262 테스트 정확도 0.940000 테스트 손실 1.560381\n",
            "반복(Epoch): 550, 트레이닝 데이터 정확도: 0.900000 트레이닝 손실: 1.578166 테스트 정확도 0.943000 테스트 손실 1.562143\n",
            "반복(Epoch): 600, 트레이닝 데이터 정확도: 0.920000 트레이닝 손실: 1.601121 테스트 정확도 0.950800 테스트 손실 1.549405\n",
            "반복(Epoch): 650, 트레이닝 데이터 정확도: 0.960000 트레이닝 손실: 1.532793 테스트 정확도 0.952900 테스트 손실 1.543473\n",
            "반복(Epoch): 700, 트레이닝 데이터 정확도: 0.980000 트레이닝 손실: 1.494267 테스트 정확도 0.958200 테스트 손실 1.534993\n",
            "반복(Epoch): 750, 트레이닝 데이터 정확도: 1.000000 트레이닝 손실: 1.482752 테스트 정확도 0.964800 테스트 손실 1.527417\n",
            "반복(Epoch): 800, 트레이닝 데이터 정확도: 0.960000 트레이닝 손실: 1.520471 테스트 정확도 0.962400 테스트 손실 1.528254\n",
            "반복(Epoch): 850, 트레이닝 데이터 정확도: 0.940000 트레이닝 손실: 1.527721 테스트 정확도 0.967300 테스트 손실 1.523242\n",
            "반복(Epoch): 900, 트레이닝 데이터 정확도: 0.980000 트레이닝 손실: 1.536179 테스트 정확도 0.965700 테스트 손실 1.522820\n",
            "반복(Epoch): 950, 트레이닝 데이터 정확도: 0.980000 트레이닝 손실: 1.501630 테스트 정확도 0.969200 테스트 손실 1.516178\n"
          ]
        }
      ]
    },
    {
      "cell_type": "code",
      "source": [
        "# 학습이 끝나면 학습된 모델의 정확도를 출력합니다.\n",
        "print(\"정확도(Accuracy): %f\" % compute_accuracy(CNN_model(x_test)[0], y_test))\n",
        "print(\"손실(loss): %f\" % cross_entropy_loss(CNN_model(x_test)[0], y_test))\n"
      ],
      "metadata": {
        "colab": {
          "base_uri": "https://localhost:8080/"
        },
        "id": "zeeFaEF65Mfh",
        "outputId": "07a28c4a-7f36-4961-99af-af96d647692c"
      },
      "execution_count": 71,
      "outputs": [
        {
          "output_type": "stream",
          "name": "stdout",
          "text": [
            "정확도(Accuracy): 0.965100\n",
            "손실(loss): 1.518015\n"
          ]
        }
      ]
    }
  ]
}